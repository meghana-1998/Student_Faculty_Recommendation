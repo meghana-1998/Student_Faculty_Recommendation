{
 "cells": [
  {
   "cell_type": "code",
   "execution_count": 1,
   "id": "96c37503",
   "metadata": {},
   "outputs": [],
   "source": [
    "import pandas as pd\n",
    "import numpy as np\n",
    "import matplotlib.pyplot as plt\n",
    "import seaborn as sns\n",
    "import requests\n",
    "import re"
   ]
  },
  {
   "cell_type": "code",
   "execution_count": 2,
   "id": "f9aa13f1",
   "metadata": {},
   "outputs": [],
   "source": [
    "url = 'https://cs.gmu.edu/directory/by-category/faculty/'"
   ]
  },
  {
   "cell_type": "code",
   "execution_count": 3,
   "id": "a9bc74a2",
   "metadata": {},
   "outputs": [],
   "source": [
    "urls = []\n",
    "proff_list = []\n",
    "\n",
    "headers = {\n",
    "    'User-Agent': 'Mozilla/5.0 (Windows NT 10.0; Win64; x64) AppleWebKit/537.36 (KHTML, like Gecko) Chrome/58.0.3029.110 Safari/537.36',\n",
    "}\n",
    "\n",
    "response = requests.get(url, headers=headers)\n",
    "\n",
    "if response.status_code == 200:\n",
    "    html_link = re.findall(r'<a\\s+href=\"(/directory/detail/\\d+/)\">([^<]+)<\\/a>', response.text)\n",
    "    for x in html_link:\n",
    "        urls.append(\"https://cs.gmu.edu\"+str(x[0]))\n",
    "        proff_list.append(x[1])\n",
    "else:\n",
    "    print(\"Failed to retrieve the web page. Status code:\", response.status_code)"
   ]
  },
  {
   "cell_type": "code",
   "execution_count": 4,
   "id": "f0140c4e",
   "metadata": {},
   "outputs": [
    {
     "name": "stdout",
     "output_type": "stream",
     "text": [
      "['https://cs.gmu.edu/directory/detail/2/', 'https://cs.gmu.edu/directory/detail/3/', 'https://cs.gmu.edu/directory/detail/100/', 'https://cs.gmu.edu/directory/detail/76/', 'https://cs.gmu.edu/directory/detail/126/', 'https://cs.gmu.edu/directory/detail/77/', 'https://cs.gmu.edu/directory/detail/4/', 'https://cs.gmu.edu/directory/detail/65/', 'https://cs.gmu.edu/directory/detail/5/', 'https://cs.gmu.edu/directory/detail/6/', 'https://cs.gmu.edu/directory/detail/9/', 'https://cs.gmu.edu/directory/detail/8/', 'https://cs.gmu.edu/directory/detail/174/', 'https://cs.gmu.edu/directory/detail/101/', 'https://cs.gmu.edu/directory/detail/80/', 'https://cs.gmu.edu/directory/detail/85/', 'https://cs.gmu.edu/directory/detail/12/', 'https://cs.gmu.edu/directory/detail/13/', 'https://cs.gmu.edu/directory/detail/187/', 'https://cs.gmu.edu/directory/detail/14/', 'https://cs.gmu.edu/directory/detail/94/', 'https://cs.gmu.edu/directory/detail/155/', 'https://cs.gmu.edu/directory/detail/53/', 'https://cs.gmu.edu/directory/detail/108/', 'https://cs.gmu.edu/directory/detail/102/', 'https://cs.gmu.edu/directory/detail/156/', 'https://cs.gmu.edu/directory/detail/153/', 'https://cs.gmu.edu/directory/detail/103/', 'https://cs.gmu.edu/directory/detail/109/', 'https://cs.gmu.edu/directory/detail/188/', 'https://cs.gmu.edu/directory/detail/119/', 'https://cs.gmu.edu/directory/detail/18/', 'https://cs.gmu.edu/directory/detail/120/', 'https://cs.gmu.edu/directory/detail/52/', 'https://cs.gmu.edu/directory/detail/19/', 'https://cs.gmu.edu/directory/detail/21/', 'https://cs.gmu.edu/directory/detail/122/', 'https://cs.gmu.edu/directory/detail/22/', 'https://cs.gmu.edu/directory/detail/157/', 'https://cs.gmu.edu/directory/detail/23/', 'https://cs.gmu.edu/directory/detail/179/', 'https://cs.gmu.edu/directory/detail/123/', 'https://cs.gmu.edu/directory/detail/158/', 'https://cs.gmu.edu/directory/detail/190/', 'https://cs.gmu.edu/directory/detail/128/', 'https://cs.gmu.edu/directory/detail/79/', 'https://cs.gmu.edu/directory/detail/30/', 'https://cs.gmu.edu/directory/detail/62/', 'https://cs.gmu.edu/directory/detail/118/', 'https://cs.gmu.edu/directory/detail/111/', 'https://cs.gmu.edu/directory/detail/32/', 'https://cs.gmu.edu/directory/detail/137/', 'https://cs.gmu.edu/directory/detail/33/', 'https://cs.gmu.edu/directory/detail/106/', 'https://cs.gmu.edu/directory/detail/66/', 'https://cs.gmu.edu/directory/detail/34/', 'https://cs.gmu.edu/directory/detail/159/', 'https://cs.gmu.edu/directory/detail/35/', 'https://cs.gmu.edu/directory/detail/36/', 'https://cs.gmu.edu/directory/detail/169/', 'https://cs.gmu.edu/directory/detail/37/', 'https://cs.gmu.edu/directory/detail/64/', 'https://cs.gmu.edu/directory/detail/105/', 'https://cs.gmu.edu/directory/detail/40/', 'https://cs.gmu.edu/directory/detail/42/', 'https://cs.gmu.edu/directory/detail/44/', 'https://cs.gmu.edu/directory/detail/45/', 'https://cs.gmu.edu/directory/detail/132/', 'https://cs.gmu.edu/directory/detail/161/', 'https://cs.gmu.edu/directory/detail/104/', 'https://cs.gmu.edu/directory/detail/124/', 'https://cs.gmu.edu/directory/detail/112/', 'https://cs.gmu.edu/directory/detail/127/', 'https://cs.gmu.edu/directory/detail/162/', 'https://cs.gmu.edu/directory/detail/160/', 'https://cs.gmu.edu/directory/detail/83/', 'https://cs.gmu.edu/directory/detail/125/', 'https://cs.gmu.edu/directory/detail/164/', 'https://cs.gmu.edu/directory/detail/131/', 'https://cs.gmu.edu/directory/detail/46/', 'https://cs.gmu.edu/directory/detail/175/', 'https://cs.gmu.edu/directory/detail/165/']\n"
     ]
    }
   ],
   "source": [
    "print(urls)"
   ]
  },
  {
   "cell_type": "code",
   "execution_count": 5,
   "id": "b2da74f2",
   "metadata": {},
   "outputs": [
    {
     "data": {
      "text/plain": [
       "82"
      ]
     },
     "execution_count": 5,
     "metadata": {},
     "output_type": "execute_result"
    }
   ],
   "source": [
    "len(urls)"
   ]
  },
  {
   "cell_type": "code",
   "execution_count": null,
   "id": "85b64755",
   "metadata": {},
   "outputs": [],
   "source": []
  },
  {
   "cell_type": "code",
   "execution_count": 6,
   "id": "7612b7cf",
   "metadata": {},
   "outputs": [
    {
     "name": "stderr",
     "output_type": "stream",
     "text": [
      "/tmp/ipykernel_18421/1965566739.py:27: DeprecationWarning: The 'text' argument to find()-type methods is deprecated. Use 'string' instead.\n",
      "  office = soup.find('div', {'class': 'field-name'}, text='Office').find_next('div', class_='field-value').text.strip()\n",
      "/tmp/ipykernel_18421/1965566739.py:32: DeprecationWarning: The 'text' argument to find()-type methods is deprecated. Use 'string' instead.\n",
      "  phone = soup.find('div', {'class': 'field-name'}, text='Phone').find_next('div', class_='field-value').text.strip()\n",
      "/tmp/ipykernel_18421/1965566739.py:37: DeprecationWarning: The 'text' argument to find()-type methods is deprecated. Use 'string' instead.\n",
      "  email = soup.find('div', {'class': 'field-name'}, text='Email').find_next('div', class_='field-value').text.strip()\n",
      "/tmp/ipykernel_18421/1965566739.py:42: DeprecationWarning: The 'text' argument to find()-type methods is deprecated. Use 'string' instead.\n",
      "  web = soup.find('div', {'class': 'field-name'}, text='Web').find_next('div', class_='field-value').text.strip()\n",
      "/tmp/ipykernel_18421/1965566739.py:71: DeprecationWarning: The 'text' argument to find()-type methods is deprecated. Use 'string' instead.\n",
      "  biography = biography1 + soup.find('div', {'class': 'field-name'}, text='Biography').find_next('div', class_='field-value').text.strip()\n"
     ]
    },
    {
     "name": "stdout",
     "output_type": "stream",
     "text": [
      "https://cs.gmu.edu/~jallbeck/\n"
     ]
    },
    {
     "name": "stderr",
     "output_type": "stream",
     "text": [
      "/tmp/ipykernel_18421/1965566739.py:27: DeprecationWarning: The 'text' argument to find()-type methods is deprecated. Use 'string' instead.\n",
      "  office = soup.find('div', {'class': 'field-name'}, text='Office').find_next('div', class_='field-value').text.strip()\n",
      "/tmp/ipykernel_18421/1965566739.py:32: DeprecationWarning: The 'text' argument to find()-type methods is deprecated. Use 'string' instead.\n",
      "  phone = soup.find('div', {'class': 'field-name'}, text='Phone').find_next('div', class_='field-value').text.strip()\n",
      "/tmp/ipykernel_18421/1965566739.py:37: DeprecationWarning: The 'text' argument to find()-type methods is deprecated. Use 'string' instead.\n",
      "  email = soup.find('div', {'class': 'field-name'}, text='Email').find_next('div', class_='field-value').text.strip()\n",
      "/tmp/ipykernel_18421/1965566739.py:42: DeprecationWarning: The 'text' argument to find()-type methods is deprecated. Use 'string' instead.\n",
      "  web = soup.find('div', {'class': 'field-name'}, text='Web').find_next('div', class_='field-value').text.strip()\n",
      "/tmp/ipykernel_18421/1965566739.py:71: DeprecationWarning: The 'text' argument to find()-type methods is deprecated. Use 'string' instead.\n",
      "  biography = biography1 + soup.find('div', {'class': 'field-name'}, text='Biography').find_next('div', class_='field-value').text.strip()\n"
     ]
    },
    {
     "name": "stdout",
     "output_type": "stream",
     "text": [
      "https://cs.gmu.edu/~pammann/\n"
     ]
    },
    {
     "name": "stderr",
     "output_type": "stream",
     "text": [
      "/tmp/ipykernel_18421/1965566739.py:27: DeprecationWarning: The 'text' argument to find()-type methods is deprecated. Use 'string' instead.\n",
      "  office = soup.find('div', {'class': 'field-name'}, text='Office').find_next('div', class_='field-value').text.strip()\n",
      "/tmp/ipykernel_18421/1965566739.py:32: DeprecationWarning: The 'text' argument to find()-type methods is deprecated. Use 'string' instead.\n",
      "  phone = soup.find('div', {'class': 'field-name'}, text='Phone').find_next('div', class_='field-value').text.strip()\n",
      "/tmp/ipykernel_18421/1965566739.py:37: DeprecationWarning: The 'text' argument to find()-type methods is deprecated. Use 'string' instead.\n",
      "  email = soup.find('div', {'class': 'field-name'}, text='Email').find_next('div', class_='field-value').text.strip()\n",
      "/tmp/ipykernel_18421/1965566739.py:42: DeprecationWarning: The 'text' argument to find()-type methods is deprecated. Use 'string' instead.\n",
      "  web = soup.find('div', {'class': 'field-name'}, text='Web').find_next('div', class_='field-value').text.strip()\n",
      "/tmp/ipykernel_18421/1965566739.py:71: DeprecationWarning: The 'text' argument to find()-type methods is deprecated. Use 'string' instead.\n",
      "  biography = biography1 + soup.find('div', {'class': 'field-name'}, text='Biography').find_next('div', class_='field-value').text.strip()\n"
     ]
    },
    {
     "name": "stdout",
     "output_type": "stream",
     "text": [
      "https://cs.gmu.edu/~antonis/\n"
     ]
    },
    {
     "name": "stderr",
     "output_type": "stream",
     "text": [
      "/tmp/ipykernel_18421/1965566739.py:27: DeprecationWarning: The 'text' argument to find()-type methods is deprecated. Use 'string' instead.\n",
      "  office = soup.find('div', {'class': 'field-name'}, text='Office').find_next('div', class_='field-value').text.strip()\n",
      "/tmp/ipykernel_18421/1965566739.py:32: DeprecationWarning: The 'text' argument to find()-type methods is deprecated. Use 'string' instead.\n",
      "  phone = soup.find('div', {'class': 'field-name'}, text='Phone').find_next('div', class_='field-value').text.strip()\n",
      "/tmp/ipykernel_18421/1965566739.py:37: DeprecationWarning: The 'text' argument to find()-type methods is deprecated. Use 'string' instead.\n",
      "  email = soup.find('div', {'class': 'field-name'}, text='Email').find_next('div', class_='field-value').text.strip()\n",
      "/tmp/ipykernel_18421/1965566739.py:42: DeprecationWarning: The 'text' argument to find()-type methods is deprecated. Use 'string' instead.\n",
      "  web = soup.find('div', {'class': 'field-name'}, text='Web').find_next('div', class_='field-value').text.strip()\n",
      "/tmp/ipykernel_18421/1965566739.py:71: DeprecationWarning: The 'text' argument to find()-type methods is deprecated. Use 'string' instead.\n",
      "  biography = biography1 + soup.find('div', {'class': 'field-name'}, text='Biography').find_next('div', class_='field-value').text.strip()\n"
     ]
    },
    {
     "name": "stdout",
     "output_type": "stream",
     "text": [
      "https://cs.gmu.edu/~kandrea\n"
     ]
    },
    {
     "name": "stderr",
     "output_type": "stream",
     "text": [
      "/tmp/ipykernel_18421/1965566739.py:27: DeprecationWarning: The 'text' argument to find()-type methods is deprecated. Use 'string' instead.\n",
      "  office = soup.find('div', {'class': 'field-name'}, text='Office').find_next('div', class_='field-value').text.strip()\n",
      "/tmp/ipykernel_18421/1965566739.py:32: DeprecationWarning: The 'text' argument to find()-type methods is deprecated. Use 'string' instead.\n",
      "  phone = soup.find('div', {'class': 'field-name'}, text='Phone').find_next('div', class_='field-value').text.strip()\n",
      "/tmp/ipykernel_18421/1965566739.py:37: DeprecationWarning: The 'text' argument to find()-type methods is deprecated. Use 'string' instead.\n",
      "  email = soup.find('div', {'class': 'field-name'}, text='Email').find_next('div', class_='field-value').text.strip()\n",
      "/tmp/ipykernel_18421/1965566739.py:42: DeprecationWarning: The 'text' argument to find()-type methods is deprecated. Use 'string' instead.\n",
      "  web = soup.find('div', {'class': 'field-name'}, text='Web').find_next('div', class_='field-value').text.strip()\n",
      "/tmp/ipykernel_18421/1965566739.py:71: DeprecationWarning: The 'text' argument to find()-type methods is deprecated. Use 'string' instead.\n",
      "  biography = biography1 + soup.find('div', {'class': 'field-name'}, text='Biography').find_next('div', class_='field-value').text.strip()\n",
      "/tmp/ipykernel_18421/1965566739.py:27: DeprecationWarning: The 'text' argument to find()-type methods is deprecated. Use 'string' instead.\n",
      "  office = soup.find('div', {'class': 'field-name'}, text='Office').find_next('div', class_='field-value').text.strip()\n",
      "/tmp/ipykernel_18421/1965566739.py:32: DeprecationWarning: The 'text' argument to find()-type methods is deprecated. Use 'string' instead.\n",
      "  phone = soup.find('div', {'class': 'field-name'}, text='Phone').find_next('div', class_='field-value').text.strip()\n",
      "/tmp/ipykernel_18421/1965566739.py:37: DeprecationWarning: The 'text' argument to find()-type methods is deprecated. Use 'string' instead.\n",
      "  email = soup.find('div', {'class': 'field-name'}, text='Email').find_next('div', class_='field-value').text.strip()\n",
      "/tmp/ipykernel_18421/1965566739.py:42: DeprecationWarning: The 'text' argument to find()-type methods is deprecated. Use 'string' instead.\n",
      "  web = soup.find('div', {'class': 'field-name'}, text='Web').find_next('div', class_='field-value').text.strip()\n",
      "/tmp/ipykernel_18421/1965566739.py:71: DeprecationWarning: The 'text' argument to find()-type methods is deprecated. Use 'string' instead.\n",
      "  biography = biography1 + soup.find('div', {'class': 'field-name'}, text='Biography').find_next('div', class_='field-value').text.strip()\n"
     ]
    },
    {
     "name": "stdout",
     "output_type": "stream",
     "text": [
      "https://cs.gmu.edu/~iavramo2/\n"
     ]
    },
    {
     "name": "stderr",
     "output_type": "stream",
     "text": [
      "/tmp/ipykernel_18421/1965566739.py:27: DeprecationWarning: The 'text' argument to find()-type methods is deprecated. Use 'string' instead.\n",
      "  office = soup.find('div', {'class': 'field-name'}, text='Office').find_next('div', class_='field-value').text.strip()\n",
      "/tmp/ipykernel_18421/1965566739.py:32: DeprecationWarning: The 'text' argument to find()-type methods is deprecated. Use 'string' instead.\n",
      "  phone = soup.find('div', {'class': 'field-name'}, text='Phone').find_next('div', class_='field-value').text.strip()\n",
      "/tmp/ipykernel_18421/1965566739.py:37: DeprecationWarning: The 'text' argument to find()-type methods is deprecated. Use 'string' instead.\n",
      "  email = soup.find('div', {'class': 'field-name'}, text='Email').find_next('div', class_='field-value').text.strip()\n",
      "/tmp/ipykernel_18421/1965566739.py:42: DeprecationWarning: The 'text' argument to find()-type methods is deprecated. Use 'string' instead.\n",
      "  web = soup.find('div', {'class': 'field-name'}, text='Web').find_next('div', class_='field-value').text.strip()\n",
      "/tmp/ipykernel_18421/1965566739.py:71: DeprecationWarning: The 'text' argument to find()-type methods is deprecated. Use 'string' instead.\n",
      "  biography = biography1 + soup.find('div', {'class': 'field-name'}, text='Biography').find_next('div', class_='field-value').text.strip()\n"
     ]
    },
    {
     "name": "stdout",
     "output_type": "stream",
     "text": [
      "https://cs.gmu.edu/~aydin/\n"
     ]
    },
    {
     "name": "stderr",
     "output_type": "stream",
     "text": [
      "/tmp/ipykernel_18421/1965566739.py:27: DeprecationWarning: The 'text' argument to find()-type methods is deprecated. Use 'string' instead.\n",
      "  office = soup.find('div', {'class': 'field-name'}, text='Office').find_next('div', class_='field-value').text.strip()\n",
      "/tmp/ipykernel_18421/1965566739.py:32: DeprecationWarning: The 'text' argument to find()-type methods is deprecated. Use 'string' instead.\n",
      "  phone = soup.find('div', {'class': 'field-name'}, text='Phone').find_next('div', class_='field-value').text.strip()\n",
      "/tmp/ipykernel_18421/1965566739.py:37: DeprecationWarning: The 'text' argument to find()-type methods is deprecated. Use 'string' instead.\n",
      "  email = soup.find('div', {'class': 'field-name'}, text='Email').find_next('div', class_='field-value').text.strip()\n",
      "/tmp/ipykernel_18421/1965566739.py:42: DeprecationWarning: The 'text' argument to find()-type methods is deprecated. Use 'string' instead.\n",
      "  web = soup.find('div', {'class': 'field-name'}, text='Web').find_next('div', class_='field-value').text.strip()\n",
      "/tmp/ipykernel_18421/1965566739.py:71: DeprecationWarning: The 'text' argument to find()-type methods is deprecated. Use 'string' instead.\n",
      "  biography = biography1 + soup.find('div', {'class': 'field-name'}, text='Biography').find_next('div', class_='field-value').text.strip()\n"
     ]
    },
    {
     "name": "stdout",
     "output_type": "stream",
     "text": [
      "https://cs.gmu.edu/~foteini/\n"
     ]
    },
    {
     "name": "stderr",
     "output_type": "stream",
     "text": [
      "/tmp/ipykernel_18421/1965566739.py:27: DeprecationWarning: The 'text' argument to find()-type methods is deprecated. Use 'string' instead.\n",
      "  office = soup.find('div', {'class': 'field-name'}, text='Office').find_next('div', class_='field-value').text.strip()\n",
      "/tmp/ipykernel_18421/1965566739.py:32: DeprecationWarning: The 'text' argument to find()-type methods is deprecated. Use 'string' instead.\n",
      "  phone = soup.find('div', {'class': 'field-name'}, text='Phone').find_next('div', class_='field-value').text.strip()\n",
      "/tmp/ipykernel_18421/1965566739.py:37: DeprecationWarning: The 'text' argument to find()-type methods is deprecated. Use 'string' instead.\n",
      "  email = soup.find('div', {'class': 'field-name'}, text='Email').find_next('div', class_='field-value').text.strip()\n",
      "/tmp/ipykernel_18421/1965566739.py:42: DeprecationWarning: The 'text' argument to find()-type methods is deprecated. Use 'string' instead.\n",
      "  web = soup.find('div', {'class': 'field-name'}, text='Web').find_next('div', class_='field-value').text.strip()\n",
      "/tmp/ipykernel_18421/1965566739.py:71: DeprecationWarning: The 'text' argument to find()-type methods is deprecated. Use 'string' instead.\n",
      "  biography = biography1 + soup.find('div', {'class': 'field-name'}, text='Biography').find_next('div', class_='field-value').text.strip()\n"
     ]
    },
    {
     "name": "stdout",
     "output_type": "stream",
     "text": [
      "https://cs.gmu.edu/~dbarbara/\n"
     ]
    },
    {
     "name": "stderr",
     "output_type": "stream",
     "text": [
      "/tmp/ipykernel_18421/1965566739.py:27: DeprecationWarning: The 'text' argument to find()-type methods is deprecated. Use 'string' instead.\n",
      "  office = soup.find('div', {'class': 'field-name'}, text='Office').find_next('div', class_='field-value').text.strip()\n",
      "/tmp/ipykernel_18421/1965566739.py:32: DeprecationWarning: The 'text' argument to find()-type methods is deprecated. Use 'string' instead.\n",
      "  phone = soup.find('div', {'class': 'field-name'}, text='Phone').find_next('div', class_='field-value').text.strip()\n",
      "/tmp/ipykernel_18421/1965566739.py:37: DeprecationWarning: The 'text' argument to find()-type methods is deprecated. Use 'string' instead.\n",
      "  email = soup.find('div', {'class': 'field-name'}, text='Email').find_next('div', class_='field-value').text.strip()\n",
      "/tmp/ipykernel_18421/1965566739.py:42: DeprecationWarning: The 'text' argument to find()-type methods is deprecated. Use 'string' instead.\n",
      "  web = soup.find('div', {'class': 'field-name'}, text='Web').find_next('div', class_='field-value').text.strip()\n",
      "/tmp/ipykernel_18421/1965566739.py:71: DeprecationWarning: The 'text' argument to find()-type methods is deprecated. Use 'string' instead.\n",
      "  biography = biography1 + soup.find('div', {'class': 'field-name'}, text='Biography').find_next('div', class_='field-value').text.strip()\n"
     ]
    },
    {
     "name": "stdout",
     "output_type": "stream",
     "text": [
      "https://cs.gmu.edu/~brodsky/\n"
     ]
    },
    {
     "name": "stderr",
     "output_type": "stream",
     "text": [
      "/tmp/ipykernel_18421/1965566739.py:27: DeprecationWarning: The 'text' argument to find()-type methods is deprecated. Use 'string' instead.\n",
      "  office = soup.find('div', {'class': 'field-name'}, text='Office').find_next('div', class_='field-value').text.strip()\n",
      "/tmp/ipykernel_18421/1965566739.py:32: DeprecationWarning: The 'text' argument to find()-type methods is deprecated. Use 'string' instead.\n",
      "  phone = soup.find('div', {'class': 'field-name'}, text='Phone').find_next('div', class_='field-value').text.strip()\n",
      "/tmp/ipykernel_18421/1965566739.py:37: DeprecationWarning: The 'text' argument to find()-type methods is deprecated. Use 'string' instead.\n",
      "  email = soup.find('div', {'class': 'field-name'}, text='Email').find_next('div', class_='field-value').text.strip()\n",
      "/tmp/ipykernel_18421/1965566739.py:42: DeprecationWarning: The 'text' argument to find()-type methods is deprecated. Use 'string' instead.\n",
      "  web = soup.find('div', {'class': 'field-name'}, text='Web').find_next('div', class_='field-value').text.strip()\n",
      "/tmp/ipykernel_18421/1965566739.py:71: DeprecationWarning: The 'text' argument to find()-type methods is deprecated. Use 'string' instead.\n",
      "  biography = biography1 + soup.find('div', {'class': 'field-name'}, text='Biography').find_next('div', class_='field-value').text.strip()\n"
     ]
    },
    {
     "name": "stdout",
     "output_type": "stream",
     "text": [
      "https://cs.gmu.edu/~sqchen/\n"
     ]
    },
    {
     "name": "stderr",
     "output_type": "stream",
     "text": [
      "/tmp/ipykernel_18421/1965566739.py:27: DeprecationWarning: The 'text' argument to find()-type methods is deprecated. Use 'string' instead.\n",
      "  office = soup.find('div', {'class': 'field-name'}, text='Office').find_next('div', class_='field-value').text.strip()\n",
      "/tmp/ipykernel_18421/1965566739.py:32: DeprecationWarning: The 'text' argument to find()-type methods is deprecated. Use 'string' instead.\n",
      "  phone = soup.find('div', {'class': 'field-name'}, text='Phone').find_next('div', class_='field-value').text.strip()\n",
      "/tmp/ipykernel_18421/1965566739.py:37: DeprecationWarning: The 'text' argument to find()-type methods is deprecated. Use 'string' instead.\n",
      "  email = soup.find('div', {'class': 'field-name'}, text='Email').find_next('div', class_='field-value').text.strip()\n",
      "/tmp/ipykernel_18421/1965566739.py:42: DeprecationWarning: The 'text' argument to find()-type methods is deprecated. Use 'string' instead.\n",
      "  web = soup.find('div', {'class': 'field-name'}, text='Web').find_next('div', class_='field-value').text.strip()\n",
      "/tmp/ipykernel_18421/1965566739.py:71: DeprecationWarning: The 'text' argument to find()-type methods is deprecated. Use 'string' instead.\n",
      "  biography = biography1 + soup.find('div', {'class': 'field-name'}, text='Biography').find_next('div', class_='field-value').text.strip()\n"
     ]
    },
    {
     "name": "stdout",
     "output_type": "stream",
     "text": [
      "https://cs.gmu.edu/~jchen/\n"
     ]
    },
    {
     "name": "stderr",
     "output_type": "stream",
     "text": [
      "/tmp/ipykernel_18421/1965566739.py:27: DeprecationWarning: The 'text' argument to find()-type methods is deprecated. Use 'string' instead.\n",
      "  office = soup.find('div', {'class': 'field-name'}, text='Office').find_next('div', class_='field-value').text.strip()\n",
      "/tmp/ipykernel_18421/1965566739.py:32: DeprecationWarning: The 'text' argument to find()-type methods is deprecated. Use 'string' instead.\n",
      "  phone = soup.find('div', {'class': 'field-name'}, text='Phone').find_next('div', class_='field-value').text.strip()\n",
      "/tmp/ipykernel_18421/1965566739.py:37: DeprecationWarning: The 'text' argument to find()-type methods is deprecated. Use 'string' instead.\n",
      "  email = soup.find('div', {'class': 'field-name'}, text='Email').find_next('div', class_='field-value').text.strip()\n",
      "/tmp/ipykernel_18421/1965566739.py:42: DeprecationWarning: The 'text' argument to find()-type methods is deprecated. Use 'string' instead.\n",
      "  web = soup.find('div', {'class': 'field-name'}, text='Web').find_next('div', class_='field-value').text.strip()\n",
      "/tmp/ipykernel_18421/1965566739.py:71: DeprecationWarning: The 'text' argument to find()-type methods is deprecated. Use 'string' instead.\n",
      "  biography = biography1 + soup.find('div', {'class': 'field-name'}, text='Biography').find_next('div', class_='field-value').text.strip()\n"
     ]
    },
    {
     "name": "stdout",
     "output_type": "stream",
     "text": [
      "https://cec.gmu.edu/node/9136\n"
     ]
    },
    {
     "name": "stderr",
     "output_type": "stream",
     "text": [
      "/tmp/ipykernel_18421/1965566739.py:27: DeprecationWarning: The 'text' argument to find()-type methods is deprecated. Use 'string' instead.\n",
      "  office = soup.find('div', {'class': 'field-name'}, text='Office').find_next('div', class_='field-value').text.strip()\n",
      "/tmp/ipykernel_18421/1965566739.py:32: DeprecationWarning: The 'text' argument to find()-type methods is deprecated. Use 'string' instead.\n",
      "  phone = soup.find('div', {'class': 'field-name'}, text='Phone').find_next('div', class_='field-value').text.strip()\n",
      "/tmp/ipykernel_18421/1965566739.py:37: DeprecationWarning: The 'text' argument to find()-type methods is deprecated. Use 'string' instead.\n",
      "  email = soup.find('div', {'class': 'field-name'}, text='Email').find_next('div', class_='field-value').text.strip()\n",
      "/tmp/ipykernel_18421/1965566739.py:42: DeprecationWarning: The 'text' argument to find()-type methods is deprecated. Use 'string' instead.\n",
      "  web = soup.find('div', {'class': 'field-name'}, text='Web').find_next('div', class_='field-value').text.strip()\n",
      "/tmp/ipykernel_18421/1965566739.py:71: DeprecationWarning: The 'text' argument to find()-type methods is deprecated. Use 'string' instead.\n",
      "  biography = biography1 + soup.find('div', {'class': 'field-name'}, text='Biography').find_next('div', class_='field-value').text.strip()\n"
     ]
    },
    {
     "name": "stdout",
     "output_type": "stream",
     "text": [
      "https://cs.gmu.edu/~sanmay/\n"
     ]
    },
    {
     "name": "stderr",
     "output_type": "stream",
     "text": [
      "/tmp/ipykernel_18421/1965566739.py:27: DeprecationWarning: The 'text' argument to find()-type methods is deprecated. Use 'string' instead.\n",
      "  office = soup.find('div', {'class': 'field-name'}, text='Office').find_next('div', class_='field-value').text.strip()\n",
      "/tmp/ipykernel_18421/1965566739.py:32: DeprecationWarning: The 'text' argument to find()-type methods is deprecated. Use 'string' instead.\n",
      "  phone = soup.find('div', {'class': 'field-name'}, text='Phone').find_next('div', class_='field-value').text.strip()\n",
      "/tmp/ipykernel_18421/1965566739.py:37: DeprecationWarning: The 'text' argument to find()-type methods is deprecated. Use 'string' instead.\n",
      "  email = soup.find('div', {'class': 'field-name'}, text='Email').find_next('div', class_='field-value').text.strip()\n",
      "/tmp/ipykernel_18421/1965566739.py:42: DeprecationWarning: The 'text' argument to find()-type methods is deprecated. Use 'string' instead.\n",
      "  web = soup.find('div', {'class': 'field-name'}, text='Web').find_next('div', class_='field-value').text.strip()\n",
      "/tmp/ipykernel_18421/1965566739.py:71: DeprecationWarning: The 'text' argument to find()-type methods is deprecated. Use 'string' instead.\n",
      "  biography = biography1 + soup.find('div', {'class': 'field-name'}, text='Biography').find_next('div', class_='field-value').text.strip()\n"
     ]
    },
    {
     "name": "stdout",
     "output_type": "stream",
     "text": [
      "https://cs.gmu.edu/~pideng/\n"
     ]
    },
    {
     "name": "stderr",
     "output_type": "stream",
     "text": [
      "/tmp/ipykernel_18421/1965566739.py:27: DeprecationWarning: The 'text' argument to find()-type methods is deprecated. Use 'string' instead.\n",
      "  office = soup.find('div', {'class': 'field-name'}, text='Office').find_next('div', class_='field-value').text.strip()\n",
      "/tmp/ipykernel_18421/1965566739.py:32: DeprecationWarning: The 'text' argument to find()-type methods is deprecated. Use 'string' instead.\n",
      "  phone = soup.find('div', {'class': 'field-name'}, text='Phone').find_next('div', class_='field-value').text.strip()\n",
      "/tmp/ipykernel_18421/1965566739.py:37: DeprecationWarning: The 'text' argument to find()-type methods is deprecated. Use 'string' instead.\n",
      "  email = soup.find('div', {'class': 'field-name'}, text='Email').find_next('div', class_='field-value').text.strip()\n",
      "/tmp/ipykernel_18421/1965566739.py:42: DeprecationWarning: The 'text' argument to find()-type methods is deprecated. Use 'string' instead.\n",
      "  web = soup.find('div', {'class': 'field-name'}, text='Web').find_next('div', class_='field-value').text.strip()\n",
      "/tmp/ipykernel_18421/1965566739.py:71: DeprecationWarning: The 'text' argument to find()-type methods is deprecated. Use 'string' instead.\n",
      "  biography = biography1 + soup.find('div', {'class': 'field-name'}, text='Biography').find_next('div', class_='field-value').text.strip()\n"
     ]
    },
    {
     "name": "stdout",
     "output_type": "stream",
     "text": [
      "https://cs.gmu.edu/~socrates\n"
     ]
    },
    {
     "name": "stderr",
     "output_type": "stream",
     "text": [
      "/tmp/ipykernel_18421/1965566739.py:27: DeprecationWarning: The 'text' argument to find()-type methods is deprecated. Use 'string' instead.\n",
      "  office = soup.find('div', {'class': 'field-name'}, text='Office').find_next('div', class_='field-value').text.strip()\n",
      "/tmp/ipykernel_18421/1965566739.py:32: DeprecationWarning: The 'text' argument to find()-type methods is deprecated. Use 'string' instead.\n",
      "  phone = soup.find('div', {'class': 'field-name'}, text='Phone').find_next('div', class_='field-value').text.strip()\n",
      "/tmp/ipykernel_18421/1965566739.py:37: DeprecationWarning: The 'text' argument to find()-type methods is deprecated. Use 'string' instead.\n",
      "  email = soup.find('div', {'class': 'field-name'}, text='Email').find_next('div', class_='field-value').text.strip()\n",
      "/tmp/ipykernel_18421/1965566739.py:42: DeprecationWarning: The 'text' argument to find()-type methods is deprecated. Use 'string' instead.\n",
      "  web = soup.find('div', {'class': 'field-name'}, text='Web').find_next('div', class_='field-value').text.strip()\n",
      "/tmp/ipykernel_18421/1965566739.py:71: DeprecationWarning: The 'text' argument to find()-type methods is deprecated. Use 'string' instead.\n",
      "  biography = biography1 + soup.find('div', {'class': 'field-name'}, text='Biography').find_next('div', class_='field-value').text.strip()\n"
     ]
    },
    {
     "name": "stdout",
     "output_type": "stream",
     "text": [
      "https://cs.gmu.edu/~carlotta/\n"
     ]
    },
    {
     "name": "stderr",
     "output_type": "stream",
     "text": [
      "/tmp/ipykernel_18421/1965566739.py:27: DeprecationWarning: The 'text' argument to find()-type methods is deprecated. Use 'string' instead.\n",
      "  office = soup.find('div', {'class': 'field-name'}, text='Office').find_next('div', class_='field-value').text.strip()\n",
      "/tmp/ipykernel_18421/1965566739.py:32: DeprecationWarning: The 'text' argument to find()-type methods is deprecated. Use 'string' instead.\n",
      "  phone = soup.find('div', {'class': 'field-name'}, text='Phone').find_next('div', class_='field-value').text.strip()\n",
      "/tmp/ipykernel_18421/1965566739.py:37: DeprecationWarning: The 'text' argument to find()-type methods is deprecated. Use 'string' instead.\n",
      "  email = soup.find('div', {'class': 'field-name'}, text='Email').find_next('div', class_='field-value').text.strip()\n",
      "/tmp/ipykernel_18421/1965566739.py:42: DeprecationWarning: The 'text' argument to find()-type methods is deprecated. Use 'string' instead.\n",
      "  web = soup.find('div', {'class': 'field-name'}, text='Web').find_next('div', class_='field-value').text.strip()\n",
      "/tmp/ipykernel_18421/1965566739.py:71: DeprecationWarning: The 'text' argument to find()-type methods is deprecated. Use 'string' instead.\n",
      "  biography = biography1 + soup.find('div', {'class': 'field-name'}, text='Biography').find_next('div', class_='field-value').text.strip()\n"
     ]
    },
    {
     "name": "stdout",
     "output_type": "stream",
     "text": [
      "https://cs.gmu.edu/~zduric/\n"
     ]
    },
    {
     "name": "stderr",
     "output_type": "stream",
     "text": [
      "/tmp/ipykernel_18421/1965566739.py:27: DeprecationWarning: The 'text' argument to find()-type methods is deprecated. Use 'string' instead.\n",
      "  office = soup.find('div', {'class': 'field-name'}, text='Office').find_next('div', class_='field-value').text.strip()\n",
      "/tmp/ipykernel_18421/1965566739.py:32: DeprecationWarning: The 'text' argument to find()-type methods is deprecated. Use 'string' instead.\n",
      "  phone = soup.find('div', {'class': 'field-name'}, text='Phone').find_next('div', class_='field-value').text.strip()\n",
      "/tmp/ipykernel_18421/1965566739.py:37: DeprecationWarning: The 'text' argument to find()-type methods is deprecated. Use 'string' instead.\n",
      "  email = soup.find('div', {'class': 'field-name'}, text='Email').find_next('div', class_='field-value').text.strip()\n",
      "/tmp/ipykernel_18421/1965566739.py:42: DeprecationWarning: The 'text' argument to find()-type methods is deprecated. Use 'string' instead.\n",
      "  web = soup.find('div', {'class': 'field-name'}, text='Web').find_next('div', class_='field-value').text.strip()\n",
      "/tmp/ipykernel_18421/1965566739.py:71: DeprecationWarning: The 'text' argument to find()-type methods is deprecated. Use 'string' instead.\n",
      "  biography = biography1 + soup.find('div', {'class': 'field-name'}, text='Biography').find_next('div', class_='field-value').text.strip()\n",
      "/tmp/ipykernel_18421/1965566739.py:27: DeprecationWarning: The 'text' argument to find()-type methods is deprecated. Use 'string' instead.\n",
      "  office = soup.find('div', {'class': 'field-name'}, text='Office').find_next('div', class_='field-value').text.strip()\n",
      "/tmp/ipykernel_18421/1965566739.py:32: DeprecationWarning: The 'text' argument to find()-type methods is deprecated. Use 'string' instead.\n",
      "  phone = soup.find('div', {'class': 'field-name'}, text='Phone').find_next('div', class_='field-value').text.strip()\n",
      "/tmp/ipykernel_18421/1965566739.py:37: DeprecationWarning: The 'text' argument to find()-type methods is deprecated. Use 'string' instead.\n",
      "  email = soup.find('div', {'class': 'field-name'}, text='Email').find_next('div', class_='field-value').text.strip()\n",
      "/tmp/ipykernel_18421/1965566739.py:42: DeprecationWarning: The 'text' argument to find()-type methods is deprecated. Use 'string' instead.\n",
      "  web = soup.find('div', {'class': 'field-name'}, text='Web').find_next('div', class_='field-value').text.strip()\n",
      "/tmp/ipykernel_18421/1965566739.py:71: DeprecationWarning: The 'text' argument to find()-type methods is deprecated. Use 'string' instead.\n",
      "  biography = biography1 + soup.find('div', {'class': 'field-name'}, text='Biography').find_next('div', class_='field-value').text.strip()\n"
     ]
    },
    {
     "name": "stdout",
     "output_type": "stream",
     "text": [
      "https://cs.gmu.edu/~ygingold/\n"
     ]
    },
    {
     "name": "stderr",
     "output_type": "stream",
     "text": [
      "/tmp/ipykernel_18421/1965566739.py:27: DeprecationWarning: The 'text' argument to find()-type methods is deprecated. Use 'string' instead.\n",
      "  office = soup.find('div', {'class': 'field-name'}, text='Office').find_next('div', class_='field-value').text.strip()\n",
      "/tmp/ipykernel_18421/1965566739.py:32: DeprecationWarning: The 'text' argument to find()-type methods is deprecated. Use 'string' instead.\n",
      "  phone = soup.find('div', {'class': 'field-name'}, text='Phone').find_next('div', class_='field-value').text.strip()\n",
      "/tmp/ipykernel_18421/1965566739.py:37: DeprecationWarning: The 'text' argument to find()-type methods is deprecated. Use 'string' instead.\n",
      "  email = soup.find('div', {'class': 'field-name'}, text='Email').find_next('div', class_='field-value').text.strip()\n",
      "/tmp/ipykernel_18421/1965566739.py:42: DeprecationWarning: The 'text' argument to find()-type methods is deprecated. Use 'string' instead.\n",
      "  web = soup.find('div', {'class': 'field-name'}, text='Web').find_next('div', class_='field-value').text.strip()\n",
      "/tmp/ipykernel_18421/1965566739.py:71: DeprecationWarning: The 'text' argument to find()-type methods is deprecated. Use 'string' instead.\n",
      "  biography = biography1 + soup.find('div', {'class': 'field-name'}, text='Biography').find_next('div', class_='field-value').text.strip()\n",
      "/tmp/ipykernel_18421/1965566739.py:27: DeprecationWarning: The 'text' argument to find()-type methods is deprecated. Use 'string' instead.\n",
      "  office = soup.find('div', {'class': 'field-name'}, text='Office').find_next('div', class_='field-value').text.strip()\n",
      "/tmp/ipykernel_18421/1965566739.py:32: DeprecationWarning: The 'text' argument to find()-type methods is deprecated. Use 'string' instead.\n",
      "  phone = soup.find('div', {'class': 'field-name'}, text='Phone').find_next('div', class_='field-value').text.strip()\n",
      "/tmp/ipykernel_18421/1965566739.py:37: DeprecationWarning: The 'text' argument to find()-type methods is deprecated. Use 'string' instead.\n",
      "  email = soup.find('div', {'class': 'field-name'}, text='Email').find_next('div', class_='field-value').text.strip()\n",
      "/tmp/ipykernel_18421/1965566739.py:42: DeprecationWarning: The 'text' argument to find()-type methods is deprecated. Use 'string' instead.\n",
      "  web = soup.find('div', {'class': 'field-name'}, text='Web').find_next('div', class_='field-value').text.strip()\n",
      "/tmp/ipykernel_18421/1965566739.py:71: DeprecationWarning: The 'text' argument to find()-type methods is deprecated. Use 'string' instead.\n",
      "  biography = biography1 + soup.find('div', {'class': 'field-name'}, text='Biography').find_next('div', class_='field-value').text.strip()\n",
      "/tmp/ipykernel_18421/1965566739.py:27: DeprecationWarning: The 'text' argument to find()-type methods is deprecated. Use 'string' instead.\n",
      "  office = soup.find('div', {'class': 'field-name'}, text='Office').find_next('div', class_='field-value').text.strip()\n",
      "/tmp/ipykernel_18421/1965566739.py:32: DeprecationWarning: The 'text' argument to find()-type methods is deprecated. Use 'string' instead.\n",
      "  phone = soup.find('div', {'class': 'field-name'}, text='Phone').find_next('div', class_='field-value').text.strip()\n",
      "/tmp/ipykernel_18421/1965566739.py:37: DeprecationWarning: The 'text' argument to find()-type methods is deprecated. Use 'string' instead.\n",
      "  email = soup.find('div', {'class': 'field-name'}, text='Email').find_next('div', class_='field-value').text.strip()\n",
      "/tmp/ipykernel_18421/1965566739.py:42: DeprecationWarning: The 'text' argument to find()-type methods is deprecated. Use 'string' instead.\n",
      "  web = soup.find('div', {'class': 'field-name'}, text='Web').find_next('div', class_='field-value').text.strip()\n",
      "/tmp/ipykernel_18421/1965566739.py:71: DeprecationWarning: The 'text' argument to find()-type methods is deprecated. Use 'string' instead.\n",
      "  biography = biography1 + soup.find('div', {'class': 'field-name'}, text='Biography').find_next('div', class_='field-value').text.strip()\n"
     ]
    },
    {
     "name": "stdout",
     "output_type": "stream",
     "text": [
      "https://cs.gmu.edu/~gordon\n"
     ]
    },
    {
     "name": "stderr",
     "output_type": "stream",
     "text": [
      "/tmp/ipykernel_18421/1965566739.py:27: DeprecationWarning: The 'text' argument to find()-type methods is deprecated. Use 'string' instead.\n",
      "  office = soup.find('div', {'class': 'field-name'}, text='Office').find_next('div', class_='field-value').text.strip()\n",
      "/tmp/ipykernel_18421/1965566739.py:32: DeprecationWarning: The 'text' argument to find()-type methods is deprecated. Use 'string' instead.\n",
      "  phone = soup.find('div', {'class': 'field-name'}, text='Phone').find_next('div', class_='field-value').text.strip()\n",
      "/tmp/ipykernel_18421/1965566739.py:37: DeprecationWarning: The 'text' argument to find()-type methods is deprecated. Use 'string' instead.\n",
      "  email = soup.find('div', {'class': 'field-name'}, text='Email').find_next('div', class_='field-value').text.strip()\n",
      "/tmp/ipykernel_18421/1965566739.py:42: DeprecationWarning: The 'text' argument to find()-type methods is deprecated. Use 'string' instead.\n",
      "  web = soup.find('div', {'class': 'field-name'}, text='Web').find_next('div', class_='field-value').text.strip()\n",
      "/tmp/ipykernel_18421/1965566739.py:71: DeprecationWarning: The 'text' argument to find()-type methods is deprecated. Use 'string' instead.\n",
      "  biography = biography1 + soup.find('div', {'class': 'field-name'}, text='Biography').find_next('div', class_='field-value').text.strip()\n"
     ]
    },
    {
     "name": "stdout",
     "output_type": "stream",
     "text": [
      "https://cs.gmu.edu/~bohan/\n"
     ]
    },
    {
     "name": "stderr",
     "output_type": "stream",
     "text": [
      "/tmp/ipykernel_18421/1965566739.py:27: DeprecationWarning: The 'text' argument to find()-type methods is deprecated. Use 'string' instead.\n",
      "  office = soup.find('div', {'class': 'field-name'}, text='Office').find_next('div', class_='field-value').text.strip()\n",
      "/tmp/ipykernel_18421/1965566739.py:32: DeprecationWarning: The 'text' argument to find()-type methods is deprecated. Use 'string' instead.\n",
      "  phone = soup.find('div', {'class': 'field-name'}, text='Phone').find_next('div', class_='field-value').text.strip()\n",
      "/tmp/ipykernel_18421/1965566739.py:37: DeprecationWarning: The 'text' argument to find()-type methods is deprecated. Use 'string' instead.\n",
      "  email = soup.find('div', {'class': 'field-name'}, text='Email').find_next('div', class_='field-value').text.strip()\n",
      "/tmp/ipykernel_18421/1965566739.py:42: DeprecationWarning: The 'text' argument to find()-type methods is deprecated. Use 'string' instead.\n",
      "  web = soup.find('div', {'class': 'field-name'}, text='Web').find_next('div', class_='field-value').text.strip()\n",
      "/tmp/ipykernel_18421/1965566739.py:71: DeprecationWarning: The 'text' argument to find()-type methods is deprecated. Use 'string' instead.\n",
      "  biography = biography1 + soup.find('div', {'class': 'field-name'}, text='Biography').find_next('div', class_='field-value').text.strip()\n"
     ]
    },
    {
     "name": "stdout",
     "output_type": "stream",
     "text": [
      "https://cs.gmu.edu/~hrolenok/\n"
     ]
    },
    {
     "name": "stderr",
     "output_type": "stream",
     "text": [
      "/tmp/ipykernel_18421/1965566739.py:27: DeprecationWarning: The 'text' argument to find()-type methods is deprecated. Use 'string' instead.\n",
      "  office = soup.find('div', {'class': 'field-name'}, text='Office').find_next('div', class_='field-value').text.strip()\n",
      "/tmp/ipykernel_18421/1965566739.py:32: DeprecationWarning: The 'text' argument to find()-type methods is deprecated. Use 'string' instead.\n",
      "  phone = soup.find('div', {'class': 'field-name'}, text='Phone').find_next('div', class_='field-value').text.strip()\n",
      "/tmp/ipykernel_18421/1965566739.py:37: DeprecationWarning: The 'text' argument to find()-type methods is deprecated. Use 'string' instead.\n",
      "  email = soup.find('div', {'class': 'field-name'}, text='Email').find_next('div', class_='field-value').text.strip()\n",
      "/tmp/ipykernel_18421/1965566739.py:42: DeprecationWarning: The 'text' argument to find()-type methods is deprecated. Use 'string' instead.\n",
      "  web = soup.find('div', {'class': 'field-name'}, text='Web').find_next('div', class_='field-value').text.strip()\n",
      "/tmp/ipykernel_18421/1965566739.py:71: DeprecationWarning: The 'text' argument to find()-type methods is deprecated. Use 'string' instead.\n",
      "  biography = biography1 + soup.find('div', {'class': 'field-name'}, text='Biography').find_next('div', class_='field-value').text.strip()\n",
      "/tmp/ipykernel_18421/1965566739.py:27: DeprecationWarning: The 'text' argument to find()-type methods is deprecated. Use 'string' instead.\n",
      "  office = soup.find('div', {'class': 'field-name'}, text='Office').find_next('div', class_='field-value').text.strip()\n",
      "/tmp/ipykernel_18421/1965566739.py:32: DeprecationWarning: The 'text' argument to find()-type methods is deprecated. Use 'string' instead.\n",
      "  phone = soup.find('div', {'class': 'field-name'}, text='Phone').find_next('div', class_='field-value').text.strip()\n",
      "/tmp/ipykernel_18421/1965566739.py:37: DeprecationWarning: The 'text' argument to find()-type methods is deprecated. Use 'string' instead.\n",
      "  email = soup.find('div', {'class': 'field-name'}, text='Email').find_next('div', class_='field-value').text.strip()\n",
      "/tmp/ipykernel_18421/1965566739.py:42: DeprecationWarning: The 'text' argument to find()-type methods is deprecated. Use 'string' instead.\n",
      "  web = soup.find('div', {'class': 'field-name'}, text='Web').find_next('div', class_='field-value').text.strip()\n",
      "/tmp/ipykernel_18421/1965566739.py:71: DeprecationWarning: The 'text' argument to find()-type methods is deprecated. Use 'string' instead.\n",
      "  biography = biography1 + soup.find('div', {'class': 'field-name'}, text='Biography').find_next('div', class_='field-value').text.strip()\n",
      "/tmp/ipykernel_18421/1965566739.py:27: DeprecationWarning: The 'text' argument to find()-type methods is deprecated. Use 'string' instead.\n",
      "  office = soup.find('div', {'class': 'field-name'}, text='Office').find_next('div', class_='field-value').text.strip()\n",
      "/tmp/ipykernel_18421/1965566739.py:32: DeprecationWarning: The 'text' argument to find()-type methods is deprecated. Use 'string' instead.\n",
      "  phone = soup.find('div', {'class': 'field-name'}, text='Phone').find_next('div', class_='field-value').text.strip()\n",
      "/tmp/ipykernel_18421/1965566739.py:37: DeprecationWarning: The 'text' argument to find()-type methods is deprecated. Use 'string' instead.\n",
      "  email = soup.find('div', {'class': 'field-name'}, text='Email').find_next('div', class_='field-value').text.strip()\n",
      "/tmp/ipykernel_18421/1965566739.py:42: DeprecationWarning: The 'text' argument to find()-type methods is deprecated. Use 'string' instead.\n",
      "  web = soup.find('div', {'class': 'field-name'}, text='Web').find_next('div', class_='field-value').text.strip()\n",
      "/tmp/ipykernel_18421/1965566739.py:71: DeprecationWarning: The 'text' argument to find()-type methods is deprecated. Use 'string' instead.\n",
      "  biography = biography1 + soup.find('div', {'class': 'field-name'}, text='Biography').find_next('div', class_='field-value').text.strip()\n"
     ]
    },
    {
     "name": "stdout",
     "output_type": "stream",
     "text": [
      "https://cs.gmu.edu/~johnsonb/\n"
     ]
    },
    {
     "name": "stderr",
     "output_type": "stream",
     "text": [
      "/tmp/ipykernel_18421/1965566739.py:27: DeprecationWarning: The 'text' argument to find()-type methods is deprecated. Use 'string' instead.\n",
      "  office = soup.find('div', {'class': 'field-name'}, text='Office').find_next('div', class_='field-value').text.strip()\n",
      "/tmp/ipykernel_18421/1965566739.py:32: DeprecationWarning: The 'text' argument to find()-type methods is deprecated. Use 'string' instead.\n",
      "  phone = soup.find('div', {'class': 'field-name'}, text='Phone').find_next('div', class_='field-value').text.strip()\n",
      "/tmp/ipykernel_18421/1965566739.py:37: DeprecationWarning: The 'text' argument to find()-type methods is deprecated. Use 'string' instead.\n",
      "  email = soup.find('div', {'class': 'field-name'}, text='Email').find_next('div', class_='field-value').text.strip()\n",
      "/tmp/ipykernel_18421/1965566739.py:42: DeprecationWarning: The 'text' argument to find()-type methods is deprecated. Use 'string' instead.\n",
      "  web = soup.find('div', {'class': 'field-name'}, text='Web').find_next('div', class_='field-value').text.strip()\n",
      "/tmp/ipykernel_18421/1965566739.py:71: DeprecationWarning: The 'text' argument to find()-type methods is deprecated. Use 'string' instead.\n",
      "  biography = biography1 + soup.find('div', {'class': 'field-name'}, text='Biography').find_next('div', class_='field-value').text.strip()\n",
      "/tmp/ipykernel_18421/1965566739.py:27: DeprecationWarning: The 'text' argument to find()-type methods is deprecated. Use 'string' instead.\n",
      "  office = soup.find('div', {'class': 'field-name'}, text='Office').find_next('div', class_='field-value').text.strip()\n",
      "/tmp/ipykernel_18421/1965566739.py:32: DeprecationWarning: The 'text' argument to find()-type methods is deprecated. Use 'string' instead.\n",
      "  phone = soup.find('div', {'class': 'field-name'}, text='Phone').find_next('div', class_='field-value').text.strip()\n",
      "/tmp/ipykernel_18421/1965566739.py:37: DeprecationWarning: The 'text' argument to find()-type methods is deprecated. Use 'string' instead.\n",
      "  email = soup.find('div', {'class': 'field-name'}, text='Email').find_next('div', class_='field-value').text.strip()\n",
      "/tmp/ipykernel_18421/1965566739.py:42: DeprecationWarning: The 'text' argument to find()-type methods is deprecated. Use 'string' instead.\n",
      "  web = soup.find('div', {'class': 'field-name'}, text='Web').find_next('div', class_='field-value').text.strip()\n",
      "/tmp/ipykernel_18421/1965566739.py:71: DeprecationWarning: The 'text' argument to find()-type methods is deprecated. Use 'string' instead.\n",
      "  biography = biography1 + soup.find('div', {'class': 'field-name'}, text='Biography').find_next('div', class_='field-value').text.strip()\n",
      "/tmp/ipykernel_18421/1965566739.py:27: DeprecationWarning: The 'text' argument to find()-type methods is deprecated. Use 'string' instead.\n",
      "  office = soup.find('div', {'class': 'field-name'}, text='Office').find_next('div', class_='field-value').text.strip()\n",
      "/tmp/ipykernel_18421/1965566739.py:32: DeprecationWarning: The 'text' argument to find()-type methods is deprecated. Use 'string' instead.\n",
      "  phone = soup.find('div', {'class': 'field-name'}, text='Phone').find_next('div', class_='field-value').text.strip()\n",
      "/tmp/ipykernel_18421/1965566739.py:37: DeprecationWarning: The 'text' argument to find()-type methods is deprecated. Use 'string' instead.\n",
      "  email = soup.find('div', {'class': 'field-name'}, text='Email').find_next('div', class_='field-value').text.strip()\n",
      "/tmp/ipykernel_18421/1965566739.py:42: DeprecationWarning: The 'text' argument to find()-type methods is deprecated. Use 'string' instead.\n",
      "  web = soup.find('div', {'class': 'field-name'}, text='Web').find_next('div', class_='field-value').text.strip()\n",
      "/tmp/ipykernel_18421/1965566739.py:71: DeprecationWarning: The 'text' argument to find()-type methods is deprecated. Use 'string' instead.\n",
      "  biography = biography1 + soup.find('div', {'class': 'field-name'}, text='Biography').find_next('div', class_='field-value').text.strip()\n"
     ]
    },
    {
     "name": "stdout",
     "output_type": "stream",
     "text": [
      "https://cs.gmu.edu/~evgenios/\n"
     ]
    },
    {
     "name": "stderr",
     "output_type": "stream",
     "text": [
      "/tmp/ipykernel_18421/1965566739.py:27: DeprecationWarning: The 'text' argument to find()-type methods is deprecated. Use 'string' instead.\n",
      "  office = soup.find('div', {'class': 'field-name'}, text='Office').find_next('div', class_='field-value').text.strip()\n",
      "/tmp/ipykernel_18421/1965566739.py:32: DeprecationWarning: The 'text' argument to find()-type methods is deprecated. Use 'string' instead.\n",
      "  phone = soup.find('div', {'class': 'field-name'}, text='Phone').find_next('div', class_='field-value').text.strip()\n",
      "/tmp/ipykernel_18421/1965566739.py:37: DeprecationWarning: The 'text' argument to find()-type methods is deprecated. Use 'string' instead.\n",
      "  email = soup.find('div', {'class': 'field-name'}, text='Email').find_next('div', class_='field-value').text.strip()\n",
      "/tmp/ipykernel_18421/1965566739.py:42: DeprecationWarning: The 'text' argument to find()-type methods is deprecated. Use 'string' instead.\n",
      "  web = soup.find('div', {'class': 'field-name'}, text='Web').find_next('div', class_='field-value').text.strip()\n",
      "/tmp/ipykernel_18421/1965566739.py:71: DeprecationWarning: The 'text' argument to find()-type methods is deprecated. Use 'string' instead.\n",
      "  biography = biography1 + soup.find('div', {'class': 'field-name'}, text='Biography').find_next('div', class_='field-value').text.strip()\n"
     ]
    },
    {
     "name": "stdout",
     "output_type": "stream",
     "text": [
      "https://cs.gmu.edu/~kosecka/\n"
     ]
    },
    {
     "name": "stderr",
     "output_type": "stream",
     "text": [
      "/tmp/ipykernel_18421/1965566739.py:27: DeprecationWarning: The 'text' argument to find()-type methods is deprecated. Use 'string' instead.\n",
      "  office = soup.find('div', {'class': 'field-name'}, text='Office').find_next('div', class_='field-value').text.strip()\n",
      "/tmp/ipykernel_18421/1965566739.py:32: DeprecationWarning: The 'text' argument to find()-type methods is deprecated. Use 'string' instead.\n",
      "  phone = soup.find('div', {'class': 'field-name'}, text='Phone').find_next('div', class_='field-value').text.strip()\n",
      "/tmp/ipykernel_18421/1965566739.py:37: DeprecationWarning: The 'text' argument to find()-type methods is deprecated. Use 'string' instead.\n",
      "  email = soup.find('div', {'class': 'field-name'}, text='Email').find_next('div', class_='field-value').text.strip()\n",
      "/tmp/ipykernel_18421/1965566739.py:42: DeprecationWarning: The 'text' argument to find()-type methods is deprecated. Use 'string' instead.\n",
      "  web = soup.find('div', {'class': 'field-name'}, text='Web').find_next('div', class_='field-value').text.strip()\n",
      "/tmp/ipykernel_18421/1965566739.py:71: DeprecationWarning: The 'text' argument to find()-type methods is deprecated. Use 'string' instead.\n",
      "  biography = biography1 + soup.find('div', {'class': 'field-name'}, text='Biography').find_next('div', class_='field-value').text.strip()\n",
      "/tmp/ipykernel_18421/1965566739.py:27: DeprecationWarning: The 'text' argument to find()-type methods is deprecated. Use 'string' instead.\n",
      "  office = soup.find('div', {'class': 'field-name'}, text='Office').find_next('div', class_='field-value').text.strip()\n",
      "/tmp/ipykernel_18421/1965566739.py:32: DeprecationWarning: The 'text' argument to find()-type methods is deprecated. Use 'string' instead.\n",
      "  phone = soup.find('div', {'class': 'field-name'}, text='Phone').find_next('div', class_='field-value').text.strip()\n",
      "/tmp/ipykernel_18421/1965566739.py:37: DeprecationWarning: The 'text' argument to find()-type methods is deprecated. Use 'string' instead.\n",
      "  email = soup.find('div', {'class': 'field-name'}, text='Email').find_next('div', class_='field-value').text.strip()\n",
      "/tmp/ipykernel_18421/1965566739.py:42: DeprecationWarning: The 'text' argument to find()-type methods is deprecated. Use 'string' instead.\n",
      "  web = soup.find('div', {'class': 'field-name'}, text='Web').find_next('div', class_='field-value').text.strip()\n",
      "/tmp/ipykernel_18421/1965566739.py:71: DeprecationWarning: The 'text' argument to find()-type methods is deprecated. Use 'string' instead.\n",
      "  biography = biography1 + soup.find('div', {'class': 'field-name'}, text='Biography').find_next('div', class_='field-value').text.strip()\n"
     ]
    },
    {
     "name": "stdout",
     "output_type": "stream",
     "text": [
      "https://cs.gmu.edu/~tlatoza/\n"
     ]
    },
    {
     "name": "stderr",
     "output_type": "stream",
     "text": [
      "/tmp/ipykernel_18421/1965566739.py:27: DeprecationWarning: The 'text' argument to find()-type methods is deprecated. Use 'string' instead.\n",
      "  office = soup.find('div', {'class': 'field-name'}, text='Office').find_next('div', class_='field-value').text.strip()\n",
      "/tmp/ipykernel_18421/1965566739.py:32: DeprecationWarning: The 'text' argument to find()-type methods is deprecated. Use 'string' instead.\n",
      "  phone = soup.find('div', {'class': 'field-name'}, text='Phone').find_next('div', class_='field-value').text.strip()\n",
      "/tmp/ipykernel_18421/1965566739.py:37: DeprecationWarning: The 'text' argument to find()-type methods is deprecated. Use 'string' instead.\n",
      "  email = soup.find('div', {'class': 'field-name'}, text='Email').find_next('div', class_='field-value').text.strip()\n",
      "/tmp/ipykernel_18421/1965566739.py:42: DeprecationWarning: The 'text' argument to find()-type methods is deprecated. Use 'string' instead.\n",
      "  web = soup.find('div', {'class': 'field-name'}, text='Web').find_next('div', class_='field-value').text.strip()\n",
      "/tmp/ipykernel_18421/1965566739.py:71: DeprecationWarning: The 'text' argument to find()-type methods is deprecated. Use 'string' instead.\n",
      "  biography = biography1 + soup.find('div', {'class': 'field-name'}, text='Biography').find_next('div', class_='field-value').text.strip()\n"
     ]
    },
    {
     "name": "stdout",
     "output_type": "stream",
     "text": [
      "https://cs.gmu.edu/~lifei/\n"
     ]
    },
    {
     "name": "stderr",
     "output_type": "stream",
     "text": [
      "/tmp/ipykernel_18421/1965566739.py:27: DeprecationWarning: The 'text' argument to find()-type methods is deprecated. Use 'string' instead.\n",
      "  office = soup.find('div', {'class': 'field-name'}, text='Office').find_next('div', class_='field-value').text.strip()\n",
      "/tmp/ipykernel_18421/1965566739.py:32: DeprecationWarning: The 'text' argument to find()-type methods is deprecated. Use 'string' instead.\n",
      "  phone = soup.find('div', {'class': 'field-name'}, text='Phone').find_next('div', class_='field-value').text.strip()\n",
      "/tmp/ipykernel_18421/1965566739.py:37: DeprecationWarning: The 'text' argument to find()-type methods is deprecated. Use 'string' instead.\n",
      "  email = soup.find('div', {'class': 'field-name'}, text='Email').find_next('div', class_='field-value').text.strip()\n",
      "/tmp/ipykernel_18421/1965566739.py:42: DeprecationWarning: The 'text' argument to find()-type methods is deprecated. Use 'string' instead.\n",
      "  web = soup.find('div', {'class': 'field-name'}, text='Web').find_next('div', class_='field-value').text.strip()\n",
      "/tmp/ipykernel_18421/1965566739.py:71: DeprecationWarning: The 'text' argument to find()-type methods is deprecated. Use 'string' instead.\n",
      "  biography = biography1 + soup.find('div', {'class': 'field-name'}, text='Biography').find_next('div', class_='field-value').text.strip()\n"
     ]
    },
    {
     "name": "stdout",
     "output_type": "stream",
     "text": [
      "https://cs.gmu.edu/~jessica/\n"
     ]
    },
    {
     "name": "stderr",
     "output_type": "stream",
     "text": [
      "/tmp/ipykernel_18421/1965566739.py:27: DeprecationWarning: The 'text' argument to find()-type methods is deprecated. Use 'string' instead.\n",
      "  office = soup.find('div', {'class': 'field-name'}, text='Office').find_next('div', class_='field-value').text.strip()\n",
      "/tmp/ipykernel_18421/1965566739.py:32: DeprecationWarning: The 'text' argument to find()-type methods is deprecated. Use 'string' instead.\n",
      "  phone = soup.find('div', {'class': 'field-name'}, text='Phone').find_next('div', class_='field-value').text.strip()\n",
      "/tmp/ipykernel_18421/1965566739.py:37: DeprecationWarning: The 'text' argument to find()-type methods is deprecated. Use 'string' instead.\n",
      "  email = soup.find('div', {'class': 'field-name'}, text='Email').find_next('div', class_='field-value').text.strip()\n",
      "/tmp/ipykernel_18421/1965566739.py:42: DeprecationWarning: The 'text' argument to find()-type methods is deprecated. Use 'string' instead.\n",
      "  web = soup.find('div', {'class': 'field-name'}, text='Web').find_next('div', class_='field-value').text.strip()\n",
      "/tmp/ipykernel_18421/1965566739.py:71: DeprecationWarning: The 'text' argument to find()-type methods is deprecated. Use 'string' instead.\n",
      "  biography = biography1 + soup.find('div', {'class': 'field-name'}, text='Biography').find_next('div', class_='field-value').text.strip()\n"
     ]
    },
    {
     "name": "stdout",
     "output_type": "stream",
     "text": [
      "https://mingrliu.github.io\n"
     ]
    },
    {
     "name": "stderr",
     "output_type": "stream",
     "text": [
      "/tmp/ipykernel_18421/1965566739.py:27: DeprecationWarning: The 'text' argument to find()-type methods is deprecated. Use 'string' instead.\n",
      "  office = soup.find('div', {'class': 'field-name'}, text='Office').find_next('div', class_='field-value').text.strip()\n",
      "/tmp/ipykernel_18421/1965566739.py:32: DeprecationWarning: The 'text' argument to find()-type methods is deprecated. Use 'string' instead.\n",
      "  phone = soup.find('div', {'class': 'field-name'}, text='Phone').find_next('div', class_='field-value').text.strip()\n",
      "/tmp/ipykernel_18421/1965566739.py:37: DeprecationWarning: The 'text' argument to find()-type methods is deprecated. Use 'string' instead.\n",
      "  email = soup.find('div', {'class': 'field-name'}, text='Email').find_next('div', class_='field-value').text.strip()\n",
      "/tmp/ipykernel_18421/1965566739.py:42: DeprecationWarning: The 'text' argument to find()-type methods is deprecated. Use 'string' instead.\n",
      "  web = soup.find('div', {'class': 'field-name'}, text='Web').find_next('div', class_='field-value').text.strip()\n",
      "/tmp/ipykernel_18421/1965566739.py:71: DeprecationWarning: The 'text' argument to find()-type methods is deprecated. Use 'string' instead.\n",
      "  biography = biography1 + soup.find('div', {'class': 'field-name'}, text='Biography').find_next('div', class_='field-value').text.strip()\n"
     ]
    },
    {
     "name": "stdout",
     "output_type": "stream",
     "text": [
      "https://cs.gmu.edu/~sean/\n"
     ]
    },
    {
     "name": "stderr",
     "output_type": "stream",
     "text": [
      "/tmp/ipykernel_18421/1965566739.py:27: DeprecationWarning: The 'text' argument to find()-type methods is deprecated. Use 'string' instead.\n",
      "  office = soup.find('div', {'class': 'field-name'}, text='Office').find_next('div', class_='field-value').text.strip()\n",
      "/tmp/ipykernel_18421/1965566739.py:32: DeprecationWarning: The 'text' argument to find()-type methods is deprecated. Use 'string' instead.\n",
      "  phone = soup.find('div', {'class': 'field-name'}, text='Phone').find_next('div', class_='field-value').text.strip()\n",
      "/tmp/ipykernel_18421/1965566739.py:37: DeprecationWarning: The 'text' argument to find()-type methods is deprecated. Use 'string' instead.\n",
      "  email = soup.find('div', {'class': 'field-name'}, text='Email').find_next('div', class_='field-value').text.strip()\n",
      "/tmp/ipykernel_18421/1965566739.py:42: DeprecationWarning: The 'text' argument to find()-type methods is deprecated. Use 'string' instead.\n",
      "  web = soup.find('div', {'class': 'field-name'}, text='Web').find_next('div', class_='field-value').text.strip()\n",
      "/tmp/ipykernel_18421/1965566739.py:71: DeprecationWarning: The 'text' argument to find()-type methods is deprecated. Use 'string' instead.\n",
      "  biography = biography1 + soup.find('div', {'class': 'field-name'}, text='Biography').find_next('div', class_='field-value').text.strip()\n"
     ]
    },
    {
     "name": "stdout",
     "output_type": "stream",
     "text": [
      "https://lannan.github.io/\n"
     ]
    },
    {
     "name": "stderr",
     "output_type": "stream",
     "text": [
      "/tmp/ipykernel_18421/1965566739.py:27: DeprecationWarning: The 'text' argument to find()-type methods is deprecated. Use 'string' instead.\n",
      "  office = soup.find('div', {'class': 'field-name'}, text='Office').find_next('div', class_='field-value').text.strip()\n",
      "/tmp/ipykernel_18421/1965566739.py:32: DeprecationWarning: The 'text' argument to find()-type methods is deprecated. Use 'string' instead.\n",
      "  phone = soup.find('div', {'class': 'field-name'}, text='Phone').find_next('div', class_='field-value').text.strip()\n",
      "/tmp/ipykernel_18421/1965566739.py:37: DeprecationWarning: The 'text' argument to find()-type methods is deprecated. Use 'string' instead.\n",
      "  email = soup.find('div', {'class': 'field-name'}, text='Email').find_next('div', class_='field-value').text.strip()\n",
      "/tmp/ipykernel_18421/1965566739.py:42: DeprecationWarning: The 'text' argument to find()-type methods is deprecated. Use 'string' instead.\n",
      "  web = soup.find('div', {'class': 'field-name'}, text='Web').find_next('div', class_='field-value').text.strip()\n",
      "/tmp/ipykernel_18421/1965566739.py:71: DeprecationWarning: The 'text' argument to find()-type methods is deprecated. Use 'string' instead.\n",
      "  biography = biography1 + soup.find('div', {'class': 'field-name'}, text='Biography').find_next('div', class_='field-value').text.strip()\n"
     ]
    },
    {
     "name": "stdout",
     "output_type": "stream",
     "text": [
      "https://cs.gmu.edu/~tmaddox/\n"
     ]
    },
    {
     "name": "stderr",
     "output_type": "stream",
     "text": [
      "/tmp/ipykernel_18421/1965566739.py:27: DeprecationWarning: The 'text' argument to find()-type methods is deprecated. Use 'string' instead.\n",
      "  office = soup.find('div', {'class': 'field-name'}, text='Office').find_next('div', class_='field-value').text.strip()\n",
      "/tmp/ipykernel_18421/1965566739.py:32: DeprecationWarning: The 'text' argument to find()-type methods is deprecated. Use 'string' instead.\n",
      "  phone = soup.find('div', {'class': 'field-name'}, text='Phone').find_next('div', class_='field-value').text.strip()\n",
      "/tmp/ipykernel_18421/1965566739.py:37: DeprecationWarning: The 'text' argument to find()-type methods is deprecated. Use 'string' instead.\n",
      "  email = soup.find('div', {'class': 'field-name'}, text='Email').find_next('div', class_='field-value').text.strip()\n",
      "/tmp/ipykernel_18421/1965566739.py:42: DeprecationWarning: The 'text' argument to find()-type methods is deprecated. Use 'string' instead.\n",
      "  web = soup.find('div', {'class': 'field-name'}, text='Web').find_next('div', class_='field-value').text.strip()\n",
      "/tmp/ipykernel_18421/1965566739.py:71: DeprecationWarning: The 'text' argument to find()-type methods is deprecated. Use 'string' instead.\n",
      "  biography = biography1 + soup.find('div', {'class': 'field-name'}, text='Biography').find_next('div', class_='field-value').text.strip()\n"
     ]
    },
    {
     "name": "stdout",
     "output_type": "stream",
     "text": [
      "https://www.andrianmarcus.net/\n"
     ]
    },
    {
     "name": "stderr",
     "output_type": "stream",
     "text": [
      "/tmp/ipykernel_18421/1965566739.py:27: DeprecationWarning: The 'text' argument to find()-type methods is deprecated. Use 'string' instead.\n",
      "  office = soup.find('div', {'class': 'field-name'}, text='Office').find_next('div', class_='field-value').text.strip()\n",
      "/tmp/ipykernel_18421/1965566739.py:32: DeprecationWarning: The 'text' argument to find()-type methods is deprecated. Use 'string' instead.\n",
      "  phone = soup.find('div', {'class': 'field-name'}, text='Phone').find_next('div', class_='field-value').text.strip()\n",
      "/tmp/ipykernel_18421/1965566739.py:37: DeprecationWarning: The 'text' argument to find()-type methods is deprecated. Use 'string' instead.\n",
      "  email = soup.find('div', {'class': 'field-name'}, text='Email').find_next('div', class_='field-value').text.strip()\n",
      "/tmp/ipykernel_18421/1965566739.py:42: DeprecationWarning: The 'text' argument to find()-type methods is deprecated. Use 'string' instead.\n",
      "  web = soup.find('div', {'class': 'field-name'}, text='Web').find_next('div', class_='field-value').text.strip()\n",
      "/tmp/ipykernel_18421/1965566739.py:71: DeprecationWarning: The 'text' argument to find()-type methods is deprecated. Use 'string' instead.\n",
      "  biography = biography1 + soup.find('div', {'class': 'field-name'}, text='Biography').find_next('div', class_='field-value').text.strip()\n",
      "/tmp/ipykernel_18421/1965566739.py:27: DeprecationWarning: The 'text' argument to find()-type methods is deprecated. Use 'string' instead.\n",
      "  office = soup.find('div', {'class': 'field-name'}, text='Office').find_next('div', class_='field-value').text.strip()\n",
      "/tmp/ipykernel_18421/1965566739.py:32: DeprecationWarning: The 'text' argument to find()-type methods is deprecated. Use 'string' instead.\n",
      "  phone = soup.find('div', {'class': 'field-name'}, text='Phone').find_next('div', class_='field-value').text.strip()\n",
      "/tmp/ipykernel_18421/1965566739.py:37: DeprecationWarning: The 'text' argument to find()-type methods is deprecated. Use 'string' instead.\n",
      "  email = soup.find('div', {'class': 'field-name'}, text='Email').find_next('div', class_='field-value').text.strip()\n",
      "/tmp/ipykernel_18421/1965566739.py:42: DeprecationWarning: The 'text' argument to find()-type methods is deprecated. Use 'string' instead.\n",
      "  web = soup.find('div', {'class': 'field-name'}, text='Web').find_next('div', class_='field-value').text.strip()\n",
      "/tmp/ipykernel_18421/1965566739.py:71: DeprecationWarning: The 'text' argument to find()-type methods is deprecated. Use 'string' instead.\n",
      "  biography = biography1 + soup.find('div', {'class': 'field-name'}, text='Biography').find_next('div', class_='field-value').text.strip()\n",
      "/tmp/ipykernel_18421/1965566739.py:27: DeprecationWarning: The 'text' argument to find()-type methods is deprecated. Use 'string' instead.\n",
      "  office = soup.find('div', {'class': 'field-name'}, text='Office').find_next('div', class_='field-value').text.strip()\n",
      "/tmp/ipykernel_18421/1965566739.py:32: DeprecationWarning: The 'text' argument to find()-type methods is deprecated. Use 'string' instead.\n",
      "  phone = soup.find('div', {'class': 'field-name'}, text='Phone').find_next('div', class_='field-value').text.strip()\n",
      "/tmp/ipykernel_18421/1965566739.py:37: DeprecationWarning: The 'text' argument to find()-type methods is deprecated. Use 'string' instead.\n",
      "  email = soup.find('div', {'class': 'field-name'}, text='Email').find_next('div', class_='field-value').text.strip()\n",
      "/tmp/ipykernel_18421/1965566739.py:42: DeprecationWarning: The 'text' argument to find()-type methods is deprecated. Use 'string' instead.\n",
      "  web = soup.find('div', {'class': 'field-name'}, text='Web').find_next('div', class_='field-value').text.strip()\n",
      "/tmp/ipykernel_18421/1965566739.py:71: DeprecationWarning: The 'text' argument to find()-type methods is deprecated. Use 'string' instead.\n",
      "  biography = biography1 + soup.find('div', {'class': 'field-name'}, text='Biography').find_next('div', class_='field-value').text.strip()\n",
      "/tmp/ipykernel_18421/1965566739.py:27: DeprecationWarning: The 'text' argument to find()-type methods is deprecated. Use 'string' instead.\n",
      "  office = soup.find('div', {'class': 'field-name'}, text='Office').find_next('div', class_='field-value').text.strip()\n",
      "/tmp/ipykernel_18421/1965566739.py:32: DeprecationWarning: The 'text' argument to find()-type methods is deprecated. Use 'string' instead.\n",
      "  phone = soup.find('div', {'class': 'field-name'}, text='Phone').find_next('div', class_='field-value').text.strip()\n",
      "/tmp/ipykernel_18421/1965566739.py:37: DeprecationWarning: The 'text' argument to find()-type methods is deprecated. Use 'string' instead.\n",
      "  email = soup.find('div', {'class': 'field-name'}, text='Email').find_next('div', class_='field-value').text.strip()\n",
      "/tmp/ipykernel_18421/1965566739.py:42: DeprecationWarning: The 'text' argument to find()-type methods is deprecated. Use 'string' instead.\n",
      "  web = soup.find('div', {'class': 'field-name'}, text='Web').find_next('div', class_='field-value').text.strip()\n",
      "/tmp/ipykernel_18421/1965566739.py:71: DeprecationWarning: The 'text' argument to find()-type methods is deprecated. Use 'string' instead.\n",
      "  biography = biography1 + soup.find('div', {'class': 'field-name'}, text='Biography').find_next('div', class_='field-value').text.strip()\n"
     ]
    },
    {
     "name": "stdout",
     "output_type": "stream",
     "text": [
      "https://go.gmu.edu/tvn\n"
     ]
    },
    {
     "name": "stderr",
     "output_type": "stream",
     "text": [
      "/tmp/ipykernel_18421/1965566739.py:27: DeprecationWarning: The 'text' argument to find()-type methods is deprecated. Use 'string' instead.\n",
      "  office = soup.find('div', {'class': 'field-name'}, text='Office').find_next('div', class_='field-value').text.strip()\n",
      "/tmp/ipykernel_18421/1965566739.py:32: DeprecationWarning: The 'text' argument to find()-type methods is deprecated. Use 'string' instead.\n",
      "  phone = soup.find('div', {'class': 'field-name'}, text='Phone').find_next('div', class_='field-value').text.strip()\n",
      "/tmp/ipykernel_18421/1965566739.py:37: DeprecationWarning: The 'text' argument to find()-type methods is deprecated. Use 'string' instead.\n",
      "  email = soup.find('div', {'class': 'field-name'}, text='Email').find_next('div', class_='field-value').text.strip()\n",
      "/tmp/ipykernel_18421/1965566739.py:42: DeprecationWarning: The 'text' argument to find()-type methods is deprecated. Use 'string' instead.\n",
      "  web = soup.find('div', {'class': 'field-name'}, text='Web').find_next('div', class_='field-value').text.strip()\n",
      "/tmp/ipykernel_18421/1965566739.py:71: DeprecationWarning: The 'text' argument to find()-type methods is deprecated. Use 'string' instead.\n",
      "  biography = biography1 + soup.find('div', {'class': 'field-name'}, text='Biography').find_next('div', class_='field-value').text.strip()\n"
     ]
    },
    {
     "name": "stdout",
     "output_type": "stream",
     "text": [
      "https://cs.gmu.edu/~eoster/\n"
     ]
    },
    {
     "name": "stderr",
     "output_type": "stream",
     "text": [
      "/tmp/ipykernel_18421/1965566739.py:27: DeprecationWarning: The 'text' argument to find()-type methods is deprecated. Use 'string' instead.\n",
      "  office = soup.find('div', {'class': 'field-name'}, text='Office').find_next('div', class_='field-value').text.strip()\n",
      "/tmp/ipykernel_18421/1965566739.py:32: DeprecationWarning: The 'text' argument to find()-type methods is deprecated. Use 'string' instead.\n",
      "  phone = soup.find('div', {'class': 'field-name'}, text='Phone').find_next('div', class_='field-value').text.strip()\n",
      "/tmp/ipykernel_18421/1965566739.py:37: DeprecationWarning: The 'text' argument to find()-type methods is deprecated. Use 'string' instead.\n",
      "  email = soup.find('div', {'class': 'field-name'}, text='Email').find_next('div', class_='field-value').text.strip()\n",
      "/tmp/ipykernel_18421/1965566739.py:42: DeprecationWarning: The 'text' argument to find()-type methods is deprecated. Use 'string' instead.\n",
      "  web = soup.find('div', {'class': 'field-name'}, text='Web').find_next('div', class_='field-value').text.strip()\n",
      "/tmp/ipykernel_18421/1965566739.py:71: DeprecationWarning: The 'text' argument to find()-type methods is deprecated. Use 'string' instead.\n",
      "  biography = biography1 + soup.find('div', {'class': 'field-name'}, text='Biography').find_next('div', class_='field-value').text.strip()\n"
     ]
    },
    {
     "name": "stdout",
     "output_type": "stream",
     "text": [
      "https://cs.gmu.edu/~jotten2/\n"
     ]
    },
    {
     "name": "stderr",
     "output_type": "stream",
     "text": [
      "/tmp/ipykernel_18421/1965566739.py:27: DeprecationWarning: The 'text' argument to find()-type methods is deprecated. Use 'string' instead.\n",
      "  office = soup.find('div', {'class': 'field-name'}, text='Office').find_next('div', class_='field-value').text.strip()\n",
      "/tmp/ipykernel_18421/1965566739.py:32: DeprecationWarning: The 'text' argument to find()-type methods is deprecated. Use 'string' instead.\n",
      "  phone = soup.find('div', {'class': 'field-name'}, text='Phone').find_next('div', class_='field-value').text.strip()\n",
      "/tmp/ipykernel_18421/1965566739.py:37: DeprecationWarning: The 'text' argument to find()-type methods is deprecated. Use 'string' instead.\n",
      "  email = soup.find('div', {'class': 'field-name'}, text='Email').find_next('div', class_='field-value').text.strip()\n",
      "/tmp/ipykernel_18421/1965566739.py:42: DeprecationWarning: The 'text' argument to find()-type methods is deprecated. Use 'string' instead.\n",
      "  web = soup.find('div', {'class': 'field-name'}, text='Web').find_next('div', class_='field-value').text.strip()\n",
      "/tmp/ipykernel_18421/1965566739.py:71: DeprecationWarning: The 'text' argument to find()-type methods is deprecated. Use 'string' instead.\n",
      "  biography = biography1 + soup.find('div', {'class': 'field-name'}, text='Biography').find_next('div', class_='field-value').text.strip()\n"
     ]
    },
    {
     "name": "stdout",
     "output_type": "stream",
     "text": [
      "https://cs.gmu.edu/~phpathak/\n"
     ]
    },
    {
     "name": "stderr",
     "output_type": "stream",
     "text": [
      "/tmp/ipykernel_18421/1965566739.py:27: DeprecationWarning: The 'text' argument to find()-type methods is deprecated. Use 'string' instead.\n",
      "  office = soup.find('div', {'class': 'field-name'}, text='Office').find_next('div', class_='field-value').text.strip()\n",
      "/tmp/ipykernel_18421/1965566739.py:32: DeprecationWarning: The 'text' argument to find()-type methods is deprecated. Use 'string' instead.\n",
      "  phone = soup.find('div', {'class': 'field-name'}, text='Phone').find_next('div', class_='field-value').text.strip()\n",
      "/tmp/ipykernel_18421/1965566739.py:37: DeprecationWarning: The 'text' argument to find()-type methods is deprecated. Use 'string' instead.\n",
      "  email = soup.find('div', {'class': 'field-name'}, text='Email').find_next('div', class_='field-value').text.strip()\n",
      "/tmp/ipykernel_18421/1965566739.py:42: DeprecationWarning: The 'text' argument to find()-type methods is deprecated. Use 'string' instead.\n",
      "  web = soup.find('div', {'class': 'field-name'}, text='Web').find_next('div', class_='field-value').text.strip()\n",
      "/tmp/ipykernel_18421/1965566739.py:71: DeprecationWarning: The 'text' argument to find()-type methods is deprecated. Use 'string' instead.\n",
      "  biography = biography1 + soup.find('div', {'class': 'field-name'}, text='Biography').find_next('div', class_='field-value').text.strip()\n"
     ]
    },
    {
     "name": "stdout",
     "output_type": "stream",
     "text": [
      "https://cs.gmu.edu/~rpettit/\n"
     ]
    },
    {
     "name": "stderr",
     "output_type": "stream",
     "text": [
      "/tmp/ipykernel_18421/1965566739.py:27: DeprecationWarning: The 'text' argument to find()-type methods is deprecated. Use 'string' instead.\n",
      "  office = soup.find('div', {'class': 'field-name'}, text='Office').find_next('div', class_='field-value').text.strip()\n",
      "/tmp/ipykernel_18421/1965566739.py:32: DeprecationWarning: The 'text' argument to find()-type methods is deprecated. Use 'string' instead.\n",
      "  phone = soup.find('div', {'class': 'field-name'}, text='Phone').find_next('div', class_='field-value').text.strip()\n",
      "/tmp/ipykernel_18421/1965566739.py:37: DeprecationWarning: The 'text' argument to find()-type methods is deprecated. Use 'string' instead.\n",
      "  email = soup.find('div', {'class': 'field-name'}, text='Email').find_next('div', class_='field-value').text.strip()\n",
      "/tmp/ipykernel_18421/1965566739.py:42: DeprecationWarning: The 'text' argument to find()-type methods is deprecated. Use 'string' instead.\n",
      "  web = soup.find('div', {'class': 'field-name'}, text='Web').find_next('div', class_='field-value').text.strip()\n",
      "/tmp/ipykernel_18421/1965566739.py:71: DeprecationWarning: The 'text' argument to find()-type methods is deprecated. Use 'string' instead.\n",
      "  biography = biography1 + soup.find('div', {'class': 'field-name'}, text='Biography').find_next('div', class_='field-value').text.strip()\n"
     ]
    },
    {
     "name": "stdout",
     "output_type": "stream",
     "text": [
      "https://cs.gmu.edu/~plaku/\n"
     ]
    },
    {
     "name": "stderr",
     "output_type": "stream",
     "text": [
      "/tmp/ipykernel_18421/1965566739.py:27: DeprecationWarning: The 'text' argument to find()-type methods is deprecated. Use 'string' instead.\n",
      "  office = soup.find('div', {'class': 'field-name'}, text='Office').find_next('div', class_='field-value').text.strip()\n",
      "/tmp/ipykernel_18421/1965566739.py:32: DeprecationWarning: The 'text' argument to find()-type methods is deprecated. Use 'string' instead.\n",
      "  phone = soup.find('div', {'class': 'field-name'}, text='Phone').find_next('div', class_='field-value').text.strip()\n",
      "/tmp/ipykernel_18421/1965566739.py:37: DeprecationWarning: The 'text' argument to find()-type methods is deprecated. Use 'string' instead.\n",
      "  email = soup.find('div', {'class': 'field-name'}, text='Email').find_next('div', class_='field-value').text.strip()\n",
      "/tmp/ipykernel_18421/1965566739.py:42: DeprecationWarning: The 'text' argument to find()-type methods is deprecated. Use 'string' instead.\n",
      "  web = soup.find('div', {'class': 'field-name'}, text='Web').find_next('div', class_='field-value').text.strip()\n",
      "/tmp/ipykernel_18421/1965566739.py:71: DeprecationWarning: The 'text' argument to find()-type methods is deprecated. Use 'string' instead.\n",
      "  biography = biography1 + soup.find('div', {'class': 'field-name'}, text='Biography').find_next('div', class_='field-value').text.strip()\n"
     ]
    },
    {
     "name": "stdout",
     "output_type": "stream",
     "text": [
      "https://cs.gmu.edu/~rangwala/\n"
     ]
    },
    {
     "name": "stderr",
     "output_type": "stream",
     "text": [
      "/tmp/ipykernel_18421/1965566739.py:27: DeprecationWarning: The 'text' argument to find()-type methods is deprecated. Use 'string' instead.\n",
      "  office = soup.find('div', {'class': 'field-name'}, text='Office').find_next('div', class_='field-value').text.strip()\n",
      "/tmp/ipykernel_18421/1965566739.py:32: DeprecationWarning: The 'text' argument to find()-type methods is deprecated. Use 'string' instead.\n",
      "  phone = soup.find('div', {'class': 'field-name'}, text='Phone').find_next('div', class_='field-value').text.strip()\n",
      "/tmp/ipykernel_18421/1965566739.py:37: DeprecationWarning: The 'text' argument to find()-type methods is deprecated. Use 'string' instead.\n",
      "  email = soup.find('div', {'class': 'field-name'}, text='Email').find_next('div', class_='field-value').text.strip()\n",
      "/tmp/ipykernel_18421/1965566739.py:42: DeprecationWarning: The 'text' argument to find()-type methods is deprecated. Use 'string' instead.\n",
      "  web = soup.find('div', {'class': 'field-name'}, text='Web').find_next('div', class_='field-value').text.strip()\n",
      "/tmp/ipykernel_18421/1965566739.py:71: DeprecationWarning: The 'text' argument to find()-type methods is deprecated. Use 'string' instead.\n",
      "  biography = biography1 + soup.find('div', {'class': 'field-name'}, text='Biography').find_next('div', class_='field-value').text.strip()\n",
      "/tmp/ipykernel_18421/1965566739.py:27: DeprecationWarning: The 'text' argument to find()-type methods is deprecated. Use 'string' instead.\n",
      "  office = soup.find('div', {'class': 'field-name'}, text='Office').find_next('div', class_='field-value').text.strip()\n",
      "/tmp/ipykernel_18421/1965566739.py:32: DeprecationWarning: The 'text' argument to find()-type methods is deprecated. Use 'string' instead.\n",
      "  phone = soup.find('div', {'class': 'field-name'}, text='Phone').find_next('div', class_='field-value').text.strip()\n",
      "/tmp/ipykernel_18421/1965566739.py:37: DeprecationWarning: The 'text' argument to find()-type methods is deprecated. Use 'string' instead.\n",
      "  email = soup.find('div', {'class': 'field-name'}, text='Email').find_next('div', class_='field-value').text.strip()\n",
      "/tmp/ipykernel_18421/1965566739.py:42: DeprecationWarning: The 'text' argument to find()-type methods is deprecated. Use 'string' instead.\n",
      "  web = soup.find('div', {'class': 'field-name'}, text='Web').find_next('div', class_='field-value').text.strip()\n",
      "/tmp/ipykernel_18421/1965566739.py:71: DeprecationWarning: The 'text' argument to find()-type methods is deprecated. Use 'string' instead.\n",
      "  biography = biography1 + soup.find('div', {'class': 'field-name'}, text='Biography').find_next('div', class_='field-value').text.strip()\n"
     ]
    },
    {
     "name": "stdout",
     "output_type": "stream",
     "text": [
      "https://cs.gmu.edu/~richards/\n"
     ]
    },
    {
     "name": "stderr",
     "output_type": "stream",
     "text": [
      "/tmp/ipykernel_18421/1965566739.py:27: DeprecationWarning: The 'text' argument to find()-type methods is deprecated. Use 'string' instead.\n",
      "  office = soup.find('div', {'class': 'field-name'}, text='Office').find_next('div', class_='field-value').text.strip()\n",
      "/tmp/ipykernel_18421/1965566739.py:32: DeprecationWarning: The 'text' argument to find()-type methods is deprecated. Use 'string' instead.\n",
      "  phone = soup.find('div', {'class': 'field-name'}, text='Phone').find_next('div', class_='field-value').text.strip()\n",
      "/tmp/ipykernel_18421/1965566739.py:37: DeprecationWarning: The 'text' argument to find()-type methods is deprecated. Use 'string' instead.\n",
      "  email = soup.find('div', {'class': 'field-name'}, text='Email').find_next('div', class_='field-value').text.strip()\n",
      "/tmp/ipykernel_18421/1965566739.py:42: DeprecationWarning: The 'text' argument to find()-type methods is deprecated. Use 'string' instead.\n",
      "  web = soup.find('div', {'class': 'field-name'}, text='Web').find_next('div', class_='field-value').text.strip()\n",
      "/tmp/ipykernel_18421/1965566739.py:71: DeprecationWarning: The 'text' argument to find()-type methods is deprecated. Use 'string' instead.\n",
      "  biography = biography1 + soup.find('div', {'class': 'field-name'}, text='Biography').find_next('div', class_='field-value').text.strip()\n"
     ]
    },
    {
     "name": "stdout",
     "output_type": "stream",
     "text": [
      "https://cs.gmu.edu/~dsr\n"
     ]
    },
    {
     "name": "stderr",
     "output_type": "stream",
     "text": [
      "/tmp/ipykernel_18421/1965566739.py:27: DeprecationWarning: The 'text' argument to find()-type methods is deprecated. Use 'string' instead.\n",
      "  office = soup.find('div', {'class': 'field-name'}, text='Office').find_next('div', class_='field-value').text.strip()\n",
      "/tmp/ipykernel_18421/1965566739.py:32: DeprecationWarning: The 'text' argument to find()-type methods is deprecated. Use 'string' instead.\n",
      "  phone = soup.find('div', {'class': 'field-name'}, text='Phone').find_next('div', class_='field-value').text.strip()\n",
      "/tmp/ipykernel_18421/1965566739.py:37: DeprecationWarning: The 'text' argument to find()-type methods is deprecated. Use 'string' instead.\n",
      "  email = soup.find('div', {'class': 'field-name'}, text='Email').find_next('div', class_='field-value').text.strip()\n",
      "/tmp/ipykernel_18421/1965566739.py:42: DeprecationWarning: The 'text' argument to find()-type methods is deprecated. Use 'string' instead.\n",
      "  web = soup.find('div', {'class': 'field-name'}, text='Web').find_next('div', class_='field-value').text.strip()\n",
      "/tmp/ipykernel_18421/1965566739.py:71: DeprecationWarning: The 'text' argument to find()-type methods is deprecated. Use 'string' instead.\n",
      "  biography = biography1 + soup.find('div', {'class': 'field-name'}, text='Biography').find_next('div', class_='field-value').text.strip()\n"
     ]
    },
    {
     "name": "stdout",
     "output_type": "stream",
     "text": [
      "https://cs.gmu.edu/~krusselc/\n"
     ]
    },
    {
     "name": "stderr",
     "output_type": "stream",
     "text": [
      "/tmp/ipykernel_18421/1965566739.py:27: DeprecationWarning: The 'text' argument to find()-type methods is deprecated. Use 'string' instead.\n",
      "  office = soup.find('div', {'class': 'field-name'}, text='Office').find_next('div', class_='field-value').text.strip()\n",
      "/tmp/ipykernel_18421/1965566739.py:32: DeprecationWarning: The 'text' argument to find()-type methods is deprecated. Use 'string' instead.\n",
      "  phone = soup.find('div', {'class': 'field-name'}, text='Phone').find_next('div', class_='field-value').text.strip()\n",
      "/tmp/ipykernel_18421/1965566739.py:37: DeprecationWarning: The 'text' argument to find()-type methods is deprecated. Use 'string' instead.\n",
      "  email = soup.find('div', {'class': 'field-name'}, text='Email').find_next('div', class_='field-value').text.strip()\n",
      "/tmp/ipykernel_18421/1965566739.py:42: DeprecationWarning: The 'text' argument to find()-type methods is deprecated. Use 'string' instead.\n",
      "  web = soup.find('div', {'class': 'field-name'}, text='Web').find_next('div', class_='field-value').text.strip()\n",
      "/tmp/ipykernel_18421/1965566739.py:71: DeprecationWarning: The 'text' argument to find()-type methods is deprecated. Use 'string' instead.\n",
      "  biography = biography1 + soup.find('div', {'class': 'field-name'}, text='Biography').find_next('div', class_='field-value').text.strip()\n"
     ]
    },
    {
     "name": "stdout",
     "output_type": "stream",
     "text": [
      "https://cs.gmu.edu/~setia/\n"
     ]
    },
    {
     "name": "stderr",
     "output_type": "stream",
     "text": [
      "/tmp/ipykernel_18421/1965566739.py:27: DeprecationWarning: The 'text' argument to find()-type methods is deprecated. Use 'string' instead.\n",
      "  office = soup.find('div', {'class': 'field-name'}, text='Office').find_next('div', class_='field-value').text.strip()\n",
      "/tmp/ipykernel_18421/1965566739.py:32: DeprecationWarning: The 'text' argument to find()-type methods is deprecated. Use 'string' instead.\n",
      "  phone = soup.find('div', {'class': 'field-name'}, text='Phone').find_next('div', class_='field-value').text.strip()\n",
      "/tmp/ipykernel_18421/1965566739.py:37: DeprecationWarning: The 'text' argument to find()-type methods is deprecated. Use 'string' instead.\n",
      "  email = soup.find('div', {'class': 'field-name'}, text='Email').find_next('div', class_='field-value').text.strip()\n",
      "/tmp/ipykernel_18421/1965566739.py:42: DeprecationWarning: The 'text' argument to find()-type methods is deprecated. Use 'string' instead.\n",
      "  web = soup.find('div', {'class': 'field-name'}, text='Web').find_next('div', class_='field-value').text.strip()\n",
      "/tmp/ipykernel_18421/1965566739.py:71: DeprecationWarning: The 'text' argument to find()-type methods is deprecated. Use 'string' instead.\n",
      "  biography = biography1 + soup.find('div', {'class': 'field-name'}, text='Biography').find_next('div', class_='field-value').text.strip()\n",
      "/tmp/ipykernel_18421/1965566739.py:27: DeprecationWarning: The 'text' argument to find()-type methods is deprecated. Use 'string' instead.\n",
      "  office = soup.find('div', {'class': 'field-name'}, text='Office').find_next('div', class_='field-value').text.strip()\n",
      "/tmp/ipykernel_18421/1965566739.py:32: DeprecationWarning: The 'text' argument to find()-type methods is deprecated. Use 'string' instead.\n",
      "  phone = soup.find('div', {'class': 'field-name'}, text='Phone').find_next('div', class_='field-value').text.strip()\n",
      "/tmp/ipykernel_18421/1965566739.py:37: DeprecationWarning: The 'text' argument to find()-type methods is deprecated. Use 'string' instead.\n",
      "  email = soup.find('div', {'class': 'field-name'}, text='Email').find_next('div', class_='field-value').text.strip()\n",
      "/tmp/ipykernel_18421/1965566739.py:42: DeprecationWarning: The 'text' argument to find()-type methods is deprecated. Use 'string' instead.\n",
      "  web = soup.find('div', {'class': 'field-name'}, text='Web').find_next('div', class_='field-value').text.strip()\n",
      "/tmp/ipykernel_18421/1965566739.py:71: DeprecationWarning: The 'text' argument to find()-type methods is deprecated. Use 'string' instead.\n",
      "  biography = biography1 + soup.find('div', {'class': 'field-name'}, text='Biography').find_next('div', class_='field-value').text.strip()\n"
     ]
    },
    {
     "name": "stdout",
     "output_type": "stream",
     "text": [
      "https://cs.gmu.edu/~ashehu/\n"
     ]
    },
    {
     "name": "stderr",
     "output_type": "stream",
     "text": [
      "/tmp/ipykernel_18421/1965566739.py:27: DeprecationWarning: The 'text' argument to find()-type methods is deprecated. Use 'string' instead.\n",
      "  office = soup.find('div', {'class': 'field-name'}, text='Office').find_next('div', class_='field-value').text.strip()\n",
      "/tmp/ipykernel_18421/1965566739.py:32: DeprecationWarning: The 'text' argument to find()-type methods is deprecated. Use 'string' instead.\n",
      "  phone = soup.find('div', {'class': 'field-name'}, text='Phone').find_next('div', class_='field-value').text.strip()\n",
      "/tmp/ipykernel_18421/1965566739.py:37: DeprecationWarning: The 'text' argument to find()-type methods is deprecated. Use 'string' instead.\n",
      "  email = soup.find('div', {'class': 'field-name'}, text='Email').find_next('div', class_='field-value').text.strip()\n",
      "/tmp/ipykernel_18421/1965566739.py:42: DeprecationWarning: The 'text' argument to find()-type methods is deprecated. Use 'string' instead.\n",
      "  web = soup.find('div', {'class': 'field-name'}, text='Web').find_next('div', class_='field-value').text.strip()\n",
      "/tmp/ipykernel_18421/1965566739.py:71: DeprecationWarning: The 'text' argument to find()-type methods is deprecated. Use 'string' instead.\n",
      "  biography = biography1 + soup.find('div', {'class': 'field-name'}, text='Biography').find_next('div', class_='field-value').text.strip()\n"
     ]
    },
    {
     "name": "stdout",
     "output_type": "stream",
     "text": [
      "https://cs.gmu.edu/~simon/\n"
     ]
    },
    {
     "name": "stderr",
     "output_type": "stream",
     "text": [
      "/tmp/ipykernel_18421/1965566739.py:27: DeprecationWarning: The 'text' argument to find()-type methods is deprecated. Use 'string' instead.\n",
      "  office = soup.find('div', {'class': 'field-name'}, text='Office').find_next('div', class_='field-value').text.strip()\n",
      "/tmp/ipykernel_18421/1965566739.py:32: DeprecationWarning: The 'text' argument to find()-type methods is deprecated. Use 'string' instead.\n",
      "  phone = soup.find('div', {'class': 'field-name'}, text='Phone').find_next('div', class_='field-value').text.strip()\n",
      "/tmp/ipykernel_18421/1965566739.py:37: DeprecationWarning: The 'text' argument to find()-type methods is deprecated. Use 'string' instead.\n",
      "  email = soup.find('div', {'class': 'field-name'}, text='Email').find_next('div', class_='field-value').text.strip()\n",
      "/tmp/ipykernel_18421/1965566739.py:42: DeprecationWarning: The 'text' argument to find()-type methods is deprecated. Use 'string' instead.\n",
      "  web = soup.find('div', {'class': 'field-name'}, text='Web').find_next('div', class_='field-value').text.strip()\n",
      "/tmp/ipykernel_18421/1965566739.py:71: DeprecationWarning: The 'text' argument to find()-type methods is deprecated. Use 'string' instead.\n",
      "  biography = biography1 + soup.find('div', {'class': 'field-name'}, text='Biography').find_next('div', class_='field-value').text.strip()\n",
      "/tmp/ipykernel_18421/1965566739.py:27: DeprecationWarning: The 'text' argument to find()-type methods is deprecated. Use 'string' instead.\n",
      "  office = soup.find('div', {'class': 'field-name'}, text='Office').find_next('div', class_='field-value').text.strip()\n",
      "/tmp/ipykernel_18421/1965566739.py:32: DeprecationWarning: The 'text' argument to find()-type methods is deprecated. Use 'string' instead.\n",
      "  phone = soup.find('div', {'class': 'field-name'}, text='Phone').find_next('div', class_='field-value').text.strip()\n",
      "/tmp/ipykernel_18421/1965566739.py:37: DeprecationWarning: The 'text' argument to find()-type methods is deprecated. Use 'string' instead.\n",
      "  email = soup.find('div', {'class': 'field-name'}, text='Email').find_next('div', class_='field-value').text.strip()\n",
      "/tmp/ipykernel_18421/1965566739.py:42: DeprecationWarning: The 'text' argument to find()-type methods is deprecated. Use 'string' instead.\n",
      "  web = soup.find('div', {'class': 'field-name'}, text='Web').find_next('div', class_='field-value').text.strip()\n",
      "/tmp/ipykernel_18421/1965566739.py:71: DeprecationWarning: The 'text' argument to find()-type methods is deprecated. Use 'string' instead.\n",
      "  biography = biography1 + soup.find('div', {'class': 'field-name'}, text='Biography').find_next('div', class_='field-value').text.strip()\n"
     ]
    },
    {
     "name": "stdout",
     "output_type": "stream",
     "text": [
      "https://cs.gmu.edu/~marks/\n"
     ]
    },
    {
     "name": "stderr",
     "output_type": "stream",
     "text": [
      "/tmp/ipykernel_18421/1965566739.py:27: DeprecationWarning: The 'text' argument to find()-type methods is deprecated. Use 'string' instead.\n",
      "  office = soup.find('div', {'class': 'field-name'}, text='Office').find_next('div', class_='field-value').text.strip()\n",
      "/tmp/ipykernel_18421/1965566739.py:32: DeprecationWarning: The 'text' argument to find()-type methods is deprecated. Use 'string' instead.\n",
      "  phone = soup.find('div', {'class': 'field-name'}, text='Phone').find_next('div', class_='field-value').text.strip()\n",
      "/tmp/ipykernel_18421/1965566739.py:37: DeprecationWarning: The 'text' argument to find()-type methods is deprecated. Use 'string' instead.\n",
      "  email = soup.find('div', {'class': 'field-name'}, text='Email').find_next('div', class_='field-value').text.strip()\n",
      "/tmp/ipykernel_18421/1965566739.py:42: DeprecationWarning: The 'text' argument to find()-type methods is deprecated. Use 'string' instead.\n",
      "  web = soup.find('div', {'class': 'field-name'}, text='Web').find_next('div', class_='field-value').text.strip()\n",
      "/tmp/ipykernel_18421/1965566739.py:71: DeprecationWarning: The 'text' argument to find()-type methods is deprecated. Use 'string' instead.\n",
      "  biography = biography1 + soup.find('div', {'class': 'field-name'}, text='Biography').find_next('div', class_='field-value').text.strip()\n"
     ]
    },
    {
     "name": "stdout",
     "output_type": "stream",
     "text": [
      "https://cs.gmu.edu/~shvetha/\n"
     ]
    },
    {
     "name": "stderr",
     "output_type": "stream",
     "text": [
      "/tmp/ipykernel_18421/1965566739.py:27: DeprecationWarning: The 'text' argument to find()-type methods is deprecated. Use 'string' instead.\n",
      "  office = soup.find('div', {'class': 'field-name'}, text='Office').find_next('div', class_='field-value').text.strip()\n",
      "/tmp/ipykernel_18421/1965566739.py:32: DeprecationWarning: The 'text' argument to find()-type methods is deprecated. Use 'string' instead.\n",
      "  phone = soup.find('div', {'class': 'field-name'}, text='Phone').find_next('div', class_='field-value').text.strip()\n",
      "/tmp/ipykernel_18421/1965566739.py:37: DeprecationWarning: The 'text' argument to find()-type methods is deprecated. Use 'string' instead.\n",
      "  email = soup.find('div', {'class': 'field-name'}, text='Email').find_next('div', class_='field-value').text.strip()\n",
      "/tmp/ipykernel_18421/1965566739.py:42: DeprecationWarning: The 'text' argument to find()-type methods is deprecated. Use 'string' instead.\n",
      "  web = soup.find('div', {'class': 'field-name'}, text='Web').find_next('div', class_='field-value').text.strip()\n",
      "/tmp/ipykernel_18421/1965566739.py:71: DeprecationWarning: The 'text' argument to find()-type methods is deprecated. Use 'string' instead.\n",
      "  biography = biography1 + soup.find('div', {'class': 'field-name'}, text='Biography').find_next('div', class_='field-value').text.strip()\n"
     ]
    },
    {
     "name": "stdout",
     "output_type": "stream",
     "text": [
      "https://cs.gmu.edu/~gjstein/\n"
     ]
    },
    {
     "name": "stderr",
     "output_type": "stream",
     "text": [
      "/tmp/ipykernel_18421/1965566739.py:27: DeprecationWarning: The 'text' argument to find()-type methods is deprecated. Use 'string' instead.\n",
      "  office = soup.find('div', {'class': 'field-name'}, text='Office').find_next('div', class_='field-value').text.strip()\n",
      "/tmp/ipykernel_18421/1965566739.py:32: DeprecationWarning: The 'text' argument to find()-type methods is deprecated. Use 'string' instead.\n",
      "  phone = soup.find('div', {'class': 'field-name'}, text='Phone').find_next('div', class_='field-value').text.strip()\n",
      "/tmp/ipykernel_18421/1965566739.py:37: DeprecationWarning: The 'text' argument to find()-type methods is deprecated. Use 'string' instead.\n",
      "  email = soup.find('div', {'class': 'field-name'}, text='Email').find_next('div', class_='field-value').text.strip()\n",
      "/tmp/ipykernel_18421/1965566739.py:42: DeprecationWarning: The 'text' argument to find()-type methods is deprecated. Use 'string' instead.\n",
      "  web = soup.find('div', {'class': 'field-name'}, text='Web').find_next('div', class_='field-value').text.strip()\n"
     ]
    },
    {
     "name": "stdout",
     "output_type": "stream",
     "text": [
      "https://lac.gmu.edu/members/...\n",
      "Name Gheorghe Tecuci\n",
      "Request timed out. Check the URL and your internet connection.\n"
     ]
    },
    {
     "name": "stderr",
     "output_type": "stream",
     "text": [
      "/tmp/ipykernel_18421/1965566739.py:71: DeprecationWarning: The 'text' argument to find()-type methods is deprecated. Use 'string' instead.\n",
      "  biography = biography1 + soup.find('div', {'class': 'field-name'}, text='Biography').find_next('div', class_='field-value').text.strip()\n",
      "/tmp/ipykernel_18421/1965566739.py:27: DeprecationWarning: The 'text' argument to find()-type methods is deprecated. Use 'string' instead.\n",
      "  office = soup.find('div', {'class': 'field-name'}, text='Office').find_next('div', class_='field-value').text.strip()\n",
      "/tmp/ipykernel_18421/1965566739.py:32: DeprecationWarning: The 'text' argument to find()-type methods is deprecated. Use 'string' instead.\n",
      "  phone = soup.find('div', {'class': 'field-name'}, text='Phone').find_next('div', class_='field-value').text.strip()\n",
      "/tmp/ipykernel_18421/1965566739.py:37: DeprecationWarning: The 'text' argument to find()-type methods is deprecated. Use 'string' instead.\n",
      "  email = soup.find('div', {'class': 'field-name'}, text='Email').find_next('div', class_='field-value').text.strip()\n",
      "/tmp/ipykernel_18421/1965566739.py:42: DeprecationWarning: The 'text' argument to find()-type methods is deprecated. Use 'string' instead.\n",
      "  web = soup.find('div', {'class': 'field-name'}, text='Web').find_next('div', class_='field-value').text.strip()\n",
      "/tmp/ipykernel_18421/1965566739.py:71: DeprecationWarning: The 'text' argument to find()-type methods is deprecated. Use 'string' instead.\n",
      "  biography = biography1 + soup.find('div', {'class': 'field-name'}, text='Biography').find_next('div', class_='field-value').text.strip()\n"
     ]
    },
    {
     "name": "stdout",
     "output_type": "stream",
     "text": [
      "https://cs.gmu.edu/~xwangc/\n"
     ]
    },
    {
     "name": "stderr",
     "output_type": "stream",
     "text": [
      "/tmp/ipykernel_18421/1965566739.py:27: DeprecationWarning: The 'text' argument to find()-type methods is deprecated. Use 'string' instead.\n",
      "  office = soup.find('div', {'class': 'field-name'}, text='Office').find_next('div', class_='field-value').text.strip()\n",
      "/tmp/ipykernel_18421/1965566739.py:32: DeprecationWarning: The 'text' argument to find()-type methods is deprecated. Use 'string' instead.\n",
      "  phone = soup.find('div', {'class': 'field-name'}, text='Phone').find_next('div', class_='field-value').text.strip()\n",
      "/tmp/ipykernel_18421/1965566739.py:37: DeprecationWarning: The 'text' argument to find()-type methods is deprecated. Use 'string' instead.\n",
      "  email = soup.find('div', {'class': 'field-name'}, text='Email').find_next('div', class_='field-value').text.strip()\n",
      "/tmp/ipykernel_18421/1965566739.py:42: DeprecationWarning: The 'text' argument to find()-type methods is deprecated. Use 'string' instead.\n",
      "  web = soup.find('div', {'class': 'field-name'}, text='Web').find_next('div', class_='field-value').text.strip()\n",
      "/tmp/ipykernel_18421/1965566739.py:71: DeprecationWarning: The 'text' argument to find()-type methods is deprecated. Use 'string' instead.\n",
      "  biography = biography1 + soup.find('div', {'class': 'field-name'}, text='Biography').find_next('div', class_='field-value').text.strip()\n"
     ]
    },
    {
     "name": "stdout",
     "output_type": "stream",
     "text": [
      "https://cs.gmu.edu/~white/\n"
     ]
    },
    {
     "name": "stderr",
     "output_type": "stream",
     "text": [
      "/tmp/ipykernel_18421/1965566739.py:27: DeprecationWarning: The 'text' argument to find()-type methods is deprecated. Use 'string' instead.\n",
      "  office = soup.find('div', {'class': 'field-name'}, text='Office').find_next('div', class_='field-value').text.strip()\n",
      "/tmp/ipykernel_18421/1965566739.py:32: DeprecationWarning: The 'text' argument to find()-type methods is deprecated. Use 'string' instead.\n",
      "  phone = soup.find('div', {'class': 'field-name'}, text='Phone').find_next('div', class_='field-value').text.strip()\n",
      "/tmp/ipykernel_18421/1965566739.py:37: DeprecationWarning: The 'text' argument to find()-type methods is deprecated. Use 'string' instead.\n",
      "  email = soup.find('div', {'class': 'field-name'}, text='Email').find_next('div', class_='field-value').text.strip()\n",
      "/tmp/ipykernel_18421/1965566739.py:42: DeprecationWarning: The 'text' argument to find()-type methods is deprecated. Use 'string' instead.\n",
      "  web = soup.find('div', {'class': 'field-name'}, text='Web').find_next('div', class_='field-value').text.strip()\n",
      "/tmp/ipykernel_18421/1965566739.py:71: DeprecationWarning: The 'text' argument to find()-type methods is deprecated. Use 'string' instead.\n",
      "  biography = biography1 + soup.find('div', {'class': 'field-name'}, text='Biography').find_next('div', class_='field-value').text.strip()\n"
     ]
    },
    {
     "name": "stdout",
     "output_type": "stream",
     "text": [
      "https://cs.gmu.edu/~duminda/\n"
     ]
    },
    {
     "name": "stderr",
     "output_type": "stream",
     "text": [
      "/tmp/ipykernel_18421/1965566739.py:27: DeprecationWarning: The 'text' argument to find()-type methods is deprecated. Use 'string' instead.\n",
      "  office = soup.find('div', {'class': 'field-name'}, text='Office').find_next('div', class_='field-value').text.strip()\n",
      "/tmp/ipykernel_18421/1965566739.py:32: DeprecationWarning: The 'text' argument to find()-type methods is deprecated. Use 'string' instead.\n",
      "  phone = soup.find('div', {'class': 'field-name'}, text='Phone').find_next('div', class_='field-value').text.strip()\n",
      "/tmp/ipykernel_18421/1965566739.py:37: DeprecationWarning: The 'text' argument to find()-type methods is deprecated. Use 'string' instead.\n",
      "  email = soup.find('div', {'class': 'field-name'}, text='Email').find_next('div', class_='field-value').text.strip()\n",
      "/tmp/ipykernel_18421/1965566739.py:42: DeprecationWarning: The 'text' argument to find()-type methods is deprecated. Use 'string' instead.\n",
      "  web = soup.find('div', {'class': 'field-name'}, text='Web').find_next('div', class_='field-value').text.strip()\n",
      "/tmp/ipykernel_18421/1965566739.py:71: DeprecationWarning: The 'text' argument to find()-type methods is deprecated. Use 'string' instead.\n",
      "  biography = biography1 + soup.find('div', {'class': 'field-name'}, text='Biography').find_next('div', class_='field-value').text.strip()\n"
     ]
    },
    {
     "name": "stdout",
     "output_type": "stream",
     "text": [
      "https://cs.gmu.edu/~xiao/\n"
     ]
    },
    {
     "name": "stderr",
     "output_type": "stream",
     "text": [
      "/tmp/ipykernel_18421/1965566739.py:27: DeprecationWarning: The 'text' argument to find()-type methods is deprecated. Use 'string' instead.\n",
      "  office = soup.find('div', {'class': 'field-name'}, text='Office').find_next('div', class_='field-value').text.strip()\n",
      "/tmp/ipykernel_18421/1965566739.py:32: DeprecationWarning: The 'text' argument to find()-type methods is deprecated. Use 'string' instead.\n",
      "  phone = soup.find('div', {'class': 'field-name'}, text='Phone').find_next('div', class_='field-value').text.strip()\n",
      "/tmp/ipykernel_18421/1965566739.py:37: DeprecationWarning: The 'text' argument to find()-type methods is deprecated. Use 'string' instead.\n",
      "  email = soup.find('div', {'class': 'field-name'}, text='Email').find_next('div', class_='field-value').text.strip()\n",
      "/tmp/ipykernel_18421/1965566739.py:42: DeprecationWarning: The 'text' argument to find()-type methods is deprecated. Use 'string' instead.\n",
      "  web = soup.find('div', {'class': 'field-name'}, text='Web').find_next('div', class_='field-value').text.strip()\n",
      "/tmp/ipykernel_18421/1965566739.py:71: DeprecationWarning: The 'text' argument to find()-type methods is deprecated. Use 'string' instead.\n",
      "  biography = biography1 + soup.find('div', {'class': 'field-name'}, text='Biography').find_next('div', class_='field-value').text.strip()\n"
     ]
    },
    {
     "name": "stdout",
     "output_type": "stream",
     "text": [
      "https://lishanyang.github.io\n"
     ]
    },
    {
     "name": "stderr",
     "output_type": "stream",
     "text": [
      "/tmp/ipykernel_18421/1965566739.py:27: DeprecationWarning: The 'text' argument to find()-type methods is deprecated. Use 'string' instead.\n",
      "  office = soup.find('div', {'class': 'field-name'}, text='Office').find_next('div', class_='field-value').text.strip()\n",
      "/tmp/ipykernel_18421/1965566739.py:32: DeprecationWarning: The 'text' argument to find()-type methods is deprecated. Use 'string' instead.\n",
      "  phone = soup.find('div', {'class': 'field-name'}, text='Phone').find_next('div', class_='field-value').text.strip()\n",
      "/tmp/ipykernel_18421/1965566739.py:37: DeprecationWarning: The 'text' argument to find()-type methods is deprecated. Use 'string' instead.\n",
      "  email = soup.find('div', {'class': 'field-name'}, text='Email').find_next('div', class_='field-value').text.strip()\n",
      "/tmp/ipykernel_18421/1965566739.py:42: DeprecationWarning: The 'text' argument to find()-type methods is deprecated. Use 'string' instead.\n",
      "  web = soup.find('div', {'class': 'field-name'}, text='Web').find_next('div', class_='field-value').text.strip()\n",
      "/tmp/ipykernel_18421/1965566739.py:71: DeprecationWarning: The 'text' argument to find()-type methods is deprecated. Use 'string' instead.\n",
      "  biography = biography1 + soup.find('div', {'class': 'field-name'}, text='Biography').find_next('div', class_='field-value').text.strip()\n"
     ]
    },
    {
     "name": "stdout",
     "output_type": "stream",
     "text": [
      "https://yscacaca.github.io/\n"
     ]
    },
    {
     "name": "stderr",
     "output_type": "stream",
     "text": [
      "/tmp/ipykernel_18421/1965566739.py:27: DeprecationWarning: The 'text' argument to find()-type methods is deprecated. Use 'string' instead.\n",
      "  office = soup.find('div', {'class': 'field-name'}, text='Office').find_next('div', class_='field-value').text.strip()\n",
      "/tmp/ipykernel_18421/1965566739.py:32: DeprecationWarning: The 'text' argument to find()-type methods is deprecated. Use 'string' instead.\n",
      "  phone = soup.find('div', {'class': 'field-name'}, text='Phone').find_next('div', class_='field-value').text.strip()\n",
      "/tmp/ipykernel_18421/1965566739.py:37: DeprecationWarning: The 'text' argument to find()-type methods is deprecated. Use 'string' instead.\n",
      "  email = soup.find('div', {'class': 'field-name'}, text='Email').find_next('div', class_='field-value').text.strip()\n",
      "/tmp/ipykernel_18421/1965566739.py:42: DeprecationWarning: The 'text' argument to find()-type methods is deprecated. Use 'string' instead.\n",
      "  web = soup.find('div', {'class': 'field-name'}, text='Web').find_next('div', class_='field-value').text.strip()\n",
      "/tmp/ipykernel_18421/1965566739.py:71: DeprecationWarning: The 'text' argument to find()-type methods is deprecated. Use 'string' instead.\n",
      "  biography = biography1 + soup.find('div', {'class': 'field-name'}, text='Biography').find_next('div', class_='field-value').text.strip()\n"
     ]
    },
    {
     "name": "stdout",
     "output_type": "stream",
     "text": [
      "https://ziyuyao.org/\n"
     ]
    },
    {
     "name": "stderr",
     "output_type": "stream",
     "text": [
      "/tmp/ipykernel_18421/1965566739.py:27: DeprecationWarning: The 'text' argument to find()-type methods is deprecated. Use 'string' instead.\n",
      "  office = soup.find('div', {'class': 'field-name'}, text='Office').find_next('div', class_='field-value').text.strip()\n",
      "/tmp/ipykernel_18421/1965566739.py:32: DeprecationWarning: The 'text' argument to find()-type methods is deprecated. Use 'string' instead.\n",
      "  phone = soup.find('div', {'class': 'field-name'}, text='Phone').find_next('div', class_='field-value').text.strip()\n",
      "/tmp/ipykernel_18421/1965566739.py:37: DeprecationWarning: The 'text' argument to find()-type methods is deprecated. Use 'string' instead.\n",
      "  email = soup.find('div', {'class': 'field-name'}, text='Email').find_next('div', class_='field-value').text.strip()\n",
      "/tmp/ipykernel_18421/1965566739.py:42: DeprecationWarning: The 'text' argument to find()-type methods is deprecated. Use 'string' instead.\n",
      "  web = soup.find('div', {'class': 'field-name'}, text='Web').find_next('div', class_='field-value').text.strip()\n",
      "/tmp/ipykernel_18421/1965566739.py:71: DeprecationWarning: The 'text' argument to find()-type methods is deprecated. Use 'string' instead.\n",
      "  biography = biography1 + soup.find('div', {'class': 'field-name'}, text='Biography').find_next('div', class_='field-value').text.strip()\n",
      "/tmp/ipykernel_18421/1965566739.py:27: DeprecationWarning: The 'text' argument to find()-type methods is deprecated. Use 'string' instead.\n",
      "  office = soup.find('div', {'class': 'field-name'}, text='Office').find_next('div', class_='field-value').text.strip()\n",
      "/tmp/ipykernel_18421/1965566739.py:32: DeprecationWarning: The 'text' argument to find()-type methods is deprecated. Use 'string' instead.\n",
      "  phone = soup.find('div', {'class': 'field-name'}, text='Phone').find_next('div', class_='field-value').text.strip()\n",
      "/tmp/ipykernel_18421/1965566739.py:37: DeprecationWarning: The 'text' argument to find()-type methods is deprecated. Use 'string' instead.\n",
      "  email = soup.find('div', {'class': 'field-name'}, text='Email').find_next('div', class_='field-value').text.strip()\n",
      "/tmp/ipykernel_18421/1965566739.py:42: DeprecationWarning: The 'text' argument to find()-type methods is deprecated. Use 'string' instead.\n",
      "  web = soup.find('div', {'class': 'field-name'}, text='Web').find_next('div', class_='field-value').text.strip()\n",
      "/tmp/ipykernel_18421/1965566739.py:71: DeprecationWarning: The 'text' argument to find()-type methods is deprecated. Use 'string' instead.\n",
      "  biography = biography1 + soup.find('div', {'class': 'field-name'}, text='Biography').find_next('div', class_='field-value').text.strip()\n"
     ]
    },
    {
     "name": "stdout",
     "output_type": "stream",
     "text": [
      "https://cs.gmu.edu/~jinweiye/\n"
     ]
    },
    {
     "name": "stderr",
     "output_type": "stream",
     "text": [
      "/tmp/ipykernel_18421/1965566739.py:27: DeprecationWarning: The 'text' argument to find()-type methods is deprecated. Use 'string' instead.\n",
      "  office = soup.find('div', {'class': 'field-name'}, text='Office').find_next('div', class_='field-value').text.strip()\n",
      "/tmp/ipykernel_18421/1965566739.py:32: DeprecationWarning: The 'text' argument to find()-type methods is deprecated. Use 'string' instead.\n",
      "  phone = soup.find('div', {'class': 'field-name'}, text='Phone').find_next('div', class_='field-value').text.strip()\n",
      "/tmp/ipykernel_18421/1965566739.py:37: DeprecationWarning: The 'text' argument to find()-type methods is deprecated. Use 'string' instead.\n",
      "  email = soup.find('div', {'class': 'field-name'}, text='Email').find_next('div', class_='field-value').text.strip()\n",
      "/tmp/ipykernel_18421/1965566739.py:42: DeprecationWarning: The 'text' argument to find()-type methods is deprecated. Use 'string' instead.\n",
      "  web = soup.find('div', {'class': 'field-name'}, text='Web').find_next('div', class_='field-value').text.strip()\n",
      "/tmp/ipykernel_18421/1965566739.py:71: DeprecationWarning: The 'text' argument to find()-type methods is deprecated. Use 'string' instead.\n",
      "  biography = biography1 + soup.find('div', {'class': 'field-name'}, text='Biography').find_next('div', class_='field-value').text.strip()\n",
      "/tmp/ipykernel_18421/1965566739.py:27: DeprecationWarning: The 'text' argument to find()-type methods is deprecated. Use 'string' instead.\n",
      "  office = soup.find('div', {'class': 'field-name'}, text='Office').find_next('div', class_='field-value').text.strip()\n",
      "/tmp/ipykernel_18421/1965566739.py:32: DeprecationWarning: The 'text' argument to find()-type methods is deprecated. Use 'string' instead.\n",
      "  phone = soup.find('div', {'class': 'field-name'}, text='Phone').find_next('div', class_='field-value').text.strip()\n",
      "/tmp/ipykernel_18421/1965566739.py:37: DeprecationWarning: The 'text' argument to find()-type methods is deprecated. Use 'string' instead.\n",
      "  email = soup.find('div', {'class': 'field-name'}, text='Email').find_next('div', class_='field-value').text.strip()\n",
      "/tmp/ipykernel_18421/1965566739.py:42: DeprecationWarning: The 'text' argument to find()-type methods is deprecated. Use 'string' instead.\n",
      "  web = soup.find('div', {'class': 'field-name'}, text='Web').find_next('div', class_='field-value').text.strip()\n",
      "/tmp/ipykernel_18421/1965566739.py:71: DeprecationWarning: The 'text' argument to find()-type methods is deprecated. Use 'string' instead.\n",
      "  biography = biography1 + soup.find('div', {'class': 'field-name'}, text='Biography').find_next('div', class_='field-value').text.strip()\n",
      "/tmp/ipykernel_18421/1965566739.py:27: DeprecationWarning: The 'text' argument to find()-type methods is deprecated. Use 'string' instead.\n",
      "  office = soup.find('div', {'class': 'field-name'}, text='Office').find_next('div', class_='field-value').text.strip()\n",
      "/tmp/ipykernel_18421/1965566739.py:32: DeprecationWarning: The 'text' argument to find()-type methods is deprecated. Use 'string' instead.\n",
      "  phone = soup.find('div', {'class': 'field-name'}, text='Phone').find_next('div', class_='field-value').text.strip()\n",
      "/tmp/ipykernel_18421/1965566739.py:37: DeprecationWarning: The 'text' argument to find()-type methods is deprecated. Use 'string' instead.\n",
      "  email = soup.find('div', {'class': 'field-name'}, text='Email').find_next('div', class_='field-value').text.strip()\n",
      "/tmp/ipykernel_18421/1965566739.py:42: DeprecationWarning: The 'text' argument to find()-type methods is deprecated. Use 'string' instead.\n",
      "  web = soup.find('div', {'class': 'field-name'}, text='Web').find_next('div', class_='field-value').text.strip()\n",
      "/tmp/ipykernel_18421/1965566739.py:71: DeprecationWarning: The 'text' argument to find()-type methods is deprecated. Use 'string' instead.\n",
      "  biography = biography1 + soup.find('div', {'class': 'field-name'}, text='Biography').find_next('div', class_='field-value').text.strip()\n"
     ]
    },
    {
     "name": "stdout",
     "output_type": "stream",
     "text": [
      "https://cs.gmu.edu/~craigyu\n"
     ]
    },
    {
     "name": "stderr",
     "output_type": "stream",
     "text": [
      "/tmp/ipykernel_18421/1965566739.py:27: DeprecationWarning: The 'text' argument to find()-type methods is deprecated. Use 'string' instead.\n",
      "  office = soup.find('div', {'class': 'field-name'}, text='Office').find_next('div', class_='field-value').text.strip()\n",
      "/tmp/ipykernel_18421/1965566739.py:32: DeprecationWarning: The 'text' argument to find()-type methods is deprecated. Use 'string' instead.\n",
      "  phone = soup.find('div', {'class': 'field-name'}, text='Phone').find_next('div', class_='field-value').text.strip()\n",
      "/tmp/ipykernel_18421/1965566739.py:37: DeprecationWarning: The 'text' argument to find()-type methods is deprecated. Use 'string' instead.\n",
      "  email = soup.find('div', {'class': 'field-name'}, text='Email').find_next('div', class_='field-value').text.strip()\n",
      "/tmp/ipykernel_18421/1965566739.py:42: DeprecationWarning: The 'text' argument to find()-type methods is deprecated. Use 'string' instead.\n",
      "  web = soup.find('div', {'class': 'field-name'}, text='Web').find_next('div', class_='field-value').text.strip()\n",
      "/tmp/ipykernel_18421/1965566739.py:71: DeprecationWarning: The 'text' argument to find()-type methods is deprecated. Use 'string' instead.\n",
      "  biography = biography1 + soup.find('div', {'class': 'field-name'}, text='Biography').find_next('div', class_='field-value').text.strip()\n",
      "/tmp/ipykernel_18421/1965566739.py:27: DeprecationWarning: The 'text' argument to find()-type methods is deprecated. Use 'string' instead.\n",
      "  office = soup.find('div', {'class': 'field-name'}, text='Office').find_next('div', class_='field-value').text.strip()\n",
      "/tmp/ipykernel_18421/1965566739.py:32: DeprecationWarning: The 'text' argument to find()-type methods is deprecated. Use 'string' instead.\n",
      "  phone = soup.find('div', {'class': 'field-name'}, text='Phone').find_next('div', class_='field-value').text.strip()\n",
      "/tmp/ipykernel_18421/1965566739.py:37: DeprecationWarning: The 'text' argument to find()-type methods is deprecated. Use 'string' instead.\n",
      "  email = soup.find('div', {'class': 'field-name'}, text='Email').find_next('div', class_='field-value').text.strip()\n",
      "/tmp/ipykernel_18421/1965566739.py:42: DeprecationWarning: The 'text' argument to find()-type methods is deprecated. Use 'string' instead.\n",
      "  web = soup.find('div', {'class': 'field-name'}, text='Web').find_next('div', class_='field-value').text.strip()\n",
      "/tmp/ipykernel_18421/1965566739.py:71: DeprecationWarning: The 'text' argument to find()-type methods is deprecated. Use 'string' instead.\n",
      "  biography = biography1 + soup.find('div', {'class': 'field-name'}, text='Biography').find_next('div', class_='field-value').text.strip()\n"
     ]
    },
    {
     "name": "stdout",
     "output_type": "stream",
     "text": [
      "https://cs.gmu.edu/~zeng/\n"
     ]
    },
    {
     "name": "stderr",
     "output_type": "stream",
     "text": [
      "/tmp/ipykernel_18421/1965566739.py:27: DeprecationWarning: The 'text' argument to find()-type methods is deprecated. Use 'string' instead.\n",
      "  office = soup.find('div', {'class': 'field-name'}, text='Office').find_next('div', class_='field-value').text.strip()\n",
      "/tmp/ipykernel_18421/1965566739.py:32: DeprecationWarning: The 'text' argument to find()-type methods is deprecated. Use 'string' instead.\n",
      "  phone = soup.find('div', {'class': 'field-name'}, text='Phone').find_next('div', class_='field-value').text.strip()\n",
      "/tmp/ipykernel_18421/1965566739.py:37: DeprecationWarning: The 'text' argument to find()-type methods is deprecated. Use 'string' instead.\n",
      "  email = soup.find('div', {'class': 'field-name'}, text='Email').find_next('div', class_='field-value').text.strip()\n",
      "/tmp/ipykernel_18421/1965566739.py:42: DeprecationWarning: The 'text' argument to find()-type methods is deprecated. Use 'string' instead.\n",
      "  web = soup.find('div', {'class': 'field-name'}, text='Web').find_next('div', class_='field-value').text.strip()\n",
      "/tmp/ipykernel_18421/1965566739.py:71: DeprecationWarning: The 'text' argument to find()-type methods is deprecated. Use 'string' instead.\n",
      "  biography = biography1 + soup.find('div', {'class': 'field-name'}, text='Biography').find_next('div', class_='field-value').text.strip()\n"
     ]
    },
    {
     "name": "stdout",
     "output_type": "stream",
     "text": [
      "https://mainarke.github.io/\n"
     ]
    },
    {
     "name": "stderr",
     "output_type": "stream",
     "text": [
      "/tmp/ipykernel_18421/1965566739.py:27: DeprecationWarning: The 'text' argument to find()-type methods is deprecated. Use 'string' instead.\n",
      "  office = soup.find('div', {'class': 'field-name'}, text='Office').find_next('div', class_='field-value').text.strip()\n",
      "/tmp/ipykernel_18421/1965566739.py:32: DeprecationWarning: The 'text' argument to find()-type methods is deprecated. Use 'string' instead.\n",
      "  phone = soup.find('div', {'class': 'field-name'}, text='Phone').find_next('div', class_='field-value').text.strip()\n",
      "/tmp/ipykernel_18421/1965566739.py:37: DeprecationWarning: The 'text' argument to find()-type methods is deprecated. Use 'string' instead.\n",
      "  email = soup.find('div', {'class': 'field-name'}, text='Email').find_next('div', class_='field-value').text.strip()\n",
      "/tmp/ipykernel_18421/1965566739.py:42: DeprecationWarning: The 'text' argument to find()-type methods is deprecated. Use 'string' instead.\n",
      "  web = soup.find('div', {'class': 'field-name'}, text='Web').find_next('div', class_='field-value').text.strip()\n",
      "/tmp/ipykernel_18421/1965566739.py:71: DeprecationWarning: The 'text' argument to find()-type methods is deprecated. Use 'string' instead.\n",
      "  biography = biography1 + soup.find('div', {'class': 'field-name'}, text='Biography').find_next('div', class_='field-value').text.strip()\n"
     ]
    },
    {
     "name": "stdout",
     "output_type": "stream",
     "text": [
      "https://cs.gmu.edu/~yzhong/\n"
     ]
    },
    {
     "name": "stderr",
     "output_type": "stream",
     "text": [
      "/tmp/ipykernel_18421/1965566739.py:27: DeprecationWarning: The 'text' argument to find()-type methods is deprecated. Use 'string' instead.\n",
      "  office = soup.find('div', {'class': 'field-name'}, text='Office').find_next('div', class_='field-value').text.strip()\n",
      "/tmp/ipykernel_18421/1965566739.py:32: DeprecationWarning: The 'text' argument to find()-type methods is deprecated. Use 'string' instead.\n",
      "  phone = soup.find('div', {'class': 'field-name'}, text='Phone').find_next('div', class_='field-value').text.strip()\n",
      "/tmp/ipykernel_18421/1965566739.py:37: DeprecationWarning: The 'text' argument to find()-type methods is deprecated. Use 'string' instead.\n",
      "  email = soup.find('div', {'class': 'field-name'}, text='Email').find_next('div', class_='field-value').text.strip()\n",
      "/tmp/ipykernel_18421/1965566739.py:42: DeprecationWarning: The 'text' argument to find()-type methods is deprecated. Use 'string' instead.\n",
      "  web = soup.find('div', {'class': 'field-name'}, text='Web').find_next('div', class_='field-value').text.strip()\n",
      "/tmp/ipykernel_18421/1965566739.py:71: DeprecationWarning: The 'text' argument to find()-type methods is deprecated. Use 'string' instead.\n",
      "  biography = biography1 + soup.find('div', {'class': 'field-name'}, text='Biography').find_next('div', class_='field-value').text.strip()\n"
     ]
    },
    {
     "name": "stdout",
     "output_type": "stream",
     "text": [
      "https://www.jokeren.tech/\n",
      "https://zziwei.github.io/\n"
     ]
    },
    {
     "name": "stderr",
     "output_type": "stream",
     "text": [
      "/tmp/ipykernel_18421/1965566739.py:27: DeprecationWarning: The 'text' argument to find()-type methods is deprecated. Use 'string' instead.\n",
      "  office = soup.find('div', {'class': 'field-name'}, text='Office').find_next('div', class_='field-value').text.strip()\n",
      "/tmp/ipykernel_18421/1965566739.py:32: DeprecationWarning: The 'text' argument to find()-type methods is deprecated. Use 'string' instead.\n",
      "  phone = soup.find('div', {'class': 'field-name'}, text='Phone').find_next('div', class_='field-value').text.strip()\n",
      "/tmp/ipykernel_18421/1965566739.py:37: DeprecationWarning: The 'text' argument to find()-type methods is deprecated. Use 'string' instead.\n",
      "  email = soup.find('div', {'class': 'field-name'}, text='Email').find_next('div', class_='field-value').text.strip()\n",
      "/tmp/ipykernel_18421/1965566739.py:42: DeprecationWarning: The 'text' argument to find()-type methods is deprecated. Use 'string' instead.\n",
      "  web = soup.find('div', {'class': 'field-name'}, text='Web').find_next('div', class_='field-value').text.strip()\n",
      "/tmp/ipykernel_18421/1965566739.py:71: DeprecationWarning: The 'text' argument to find()-type methods is deprecated. Use 'string' instead.\n",
      "  biography = biography1 + soup.find('div', {'class': 'field-name'}, text='Biography').find_next('div', class_='field-value').text.strip()\n"
     ]
    }
   ],
   "source": [
    "import pandas as pd\n",
    "import requests\n",
    "from bs4 import BeautifulSoup\n",
    "import html\n",
    "\n",
    "count = 0\n",
    "column_names = [\"Name\", \"Job Title\", \"Office\", \"Phone\", \"Email\", \"Web\", \"Biography\"]\n",
    "\n",
    "df_final = pd.DataFrame(columns=column_names)\n",
    "\n",
    "headers = {\n",
    "    'User-Agent': 'Mozilla/5.0 (Windows NT 10.0; Win64; x64) AppleWebKit/537.36 (KHTML, like Gecko) Chrome/58.0.3029.110 Safari/537.36',\n",
    "}\n",
    "\n",
    "for url in urls:\n",
    "    \n",
    "    response = requests.get(url, headers=headers)\n",
    "    if response.status_code == 200:\n",
    "        biography = ''\n",
    "        biography1 = ''\n",
    "        soup = BeautifulSoup(response.text, 'html.parser')\n",
    "    \n",
    "        name = soup.find('div', class_='name').text.strip()\n",
    "        jobtitle = soup.find('div', class_='jobtitle').text.strip()\n",
    "        \n",
    "        try:\n",
    "            office = soup.find('div', {'class': 'field-name'}, text='Office').find_next('div', class_='field-value').text.strip()\n",
    "        except AttributeError:\n",
    "            office = None\n",
    "\n",
    "        try:\n",
    "            phone = soup.find('div', {'class': 'field-name'}, text='Phone').find_next('div', class_='field-value').text.strip()\n",
    "        except AttributeError:\n",
    "            phone = None\n",
    "\n",
    "        try:\n",
    "            email = soup.find('div', {'class': 'field-name'}, text='Email').find_next('div', class_='field-value').text.strip()\n",
    "        except AttributeError:\n",
    "            email = None\n",
    "\n",
    "        try:\n",
    "            web = soup.find('div', {'class': 'field-name'}, text='Web').find_next('div', class_='field-value').text.strip()\n",
    "            print(\"https://\"+web)\n",
    "            if web == 'cec.gmu.edu/node/9136':\n",
    "                web = \"cec.gmu.edu/profiles/cummings-0\"\n",
    "            if web:\n",
    "                try:\n",
    "                    response_web = requests.get(\" https://\"+web, headers=headers, timeout = 10)\n",
    "                    html_keywords_pattern = r'<[^>]+>|&[a-zA-Z]+;'\n",
    "                    text_content = re.sub(html_keywords_pattern, ' ',response_web.text )\n",
    "                    text_content = html.unescape(text_content)\n",
    "                    text_content = re.sub(r'\\n', ' ', text_content)\n",
    "                    text_content = re.sub(r'[\\t]', ' ', text_content) # new lines\n",
    "                    text_content = re.sub(r'[^\\w\\s]', ' ', text_content) # new lines\n",
    "                    whitespace_pattern = r'[\\s]+'\n",
    "                    text_content = re.sub(whitespace_pattern, ' ', text_content)\n",
    "\n",
    "                    biography1 = text_content\n",
    "                except requests.exceptions.Timeout:\n",
    "                    print(\"Name\", name)\n",
    "                    print(\"Request timed out. Check the URL and your internet connection.\")\n",
    "                except requests.exceptions.RequestException as e:\n",
    "                    print(\"Name\", name)\n",
    "                    print(f\"Request error: {e}\")\n",
    "            else:\n",
    "                print(\"Inside else \", name)\n",
    "        except AttributeError:\n",
    "            web = None\n",
    "\n",
    "        try:\n",
    "            biography = biography1 + soup.find('div', {'class': 'field-name'}, text='Biography').find_next('div', class_='field-value').text.strip()\n",
    "        \n",
    "        except AttributeError:\n",
    "            if biography1:\n",
    "                biography = biography1\n",
    "            else:\n",
    "                biography = ''\n",
    "\n",
    "        data = {\n",
    "            \"Name\": [name],\n",
    "            \"Job Title\": [jobtitle],\n",
    "            \"Office\": [office],\n",
    "            \"Phone\": [phone],\n",
    "            \"Email\": [email],\n",
    "            \"Web\": [web],\n",
    "            \"Biography\": [biography]\n",
    "        }\n",
    "\n",
    "        df_temp = pd.DataFrame(data, columns=column_names)\n",
    "        df_final = pd.concat([df_final, df_temp], ignore_index=True)\n",
    "    else:\n",
    "        print('gone case divyansh')\n",
    "        count += 1\n",
    "        "
   ]
  },
  {
   "cell_type": "code",
   "execution_count": 7,
   "id": "83d39bde",
   "metadata": {},
   "outputs": [
    {
     "data": {
      "text/plain": [
       "0"
      ]
     },
     "execution_count": 7,
     "metadata": {},
     "output_type": "execute_result"
    }
   ],
   "source": [
    "count"
   ]
  },
  {
   "cell_type": "code",
   "execution_count": 8,
   "id": "639ffc39",
   "metadata": {},
   "outputs": [
    {
     "data": {
      "text/html": [
       "<div>\n",
       "<style scoped>\n",
       "    .dataframe tbody tr th:only-of-type {\n",
       "        vertical-align: middle;\n",
       "    }\n",
       "\n",
       "    .dataframe tbody tr th {\n",
       "        vertical-align: top;\n",
       "    }\n",
       "\n",
       "    .dataframe thead th {\n",
       "        text-align: right;\n",
       "    }\n",
       "</style>\n",
       "<table border=\"1\" class=\"dataframe\">\n",
       "  <thead>\n",
       "    <tr style=\"text-align: right;\">\n",
       "      <th></th>\n",
       "      <th>Name</th>\n",
       "      <th>Job Title</th>\n",
       "      <th>Office</th>\n",
       "      <th>Phone</th>\n",
       "      <th>Email</th>\n",
       "      <th>Web</th>\n",
       "      <th>Biography</th>\n",
       "    </tr>\n",
       "  </thead>\n",
       "  <tbody>\n",
       "    <tr>\n",
       "      <th>0</th>\n",
       "      <td>Jan Allbeck</td>\n",
       "      <td>Associate Professor, Associate Dean Honors Col...</td>\n",
       "      <td>Buchanan D205D</td>\n",
       "      <td>703-993-1101</td>\n",
       "      <td>jallbeck@gmu.edu</td>\n",
       "      <td>cs.gmu.edu/~jallbeck/</td>\n",
       "      <td>Jan M Allbeck Ph D Jan M Allbeck Ph D Associa...</td>\n",
       "    </tr>\n",
       "    <tr>\n",
       "      <th>1</th>\n",
       "      <td>Paul Ammann</td>\n",
       "      <td>Associate Professor</td>\n",
       "      <td>Engineering 4428</td>\n",
       "      <td>703-993-1660</td>\n",
       "      <td>pammann@gmu.edu</td>\n",
       "      <td>cs.gmu.edu/~pammann/</td>\n",
       "      <td>Paul Ammann Paul Ammann Associate Professor S...</td>\n",
       "    </tr>\n",
       "    <tr>\n",
       "      <th>2</th>\n",
       "      <td>Antonios Anastasopoulos</td>\n",
       "      <td>Assistant Professor</td>\n",
       "      <td>Engineering 4412</td>\n",
       "      <td>703-993-6821</td>\n",
       "      <td>antonis@gmu.edu</td>\n",
       "      <td>cs.gmu.edu/~antonis/</td>\n",
       "      <td>context https schema org type WebSite url htt...</td>\n",
       "    </tr>\n",
       "    <tr>\n",
       "      <th>3</th>\n",
       "      <td>Kevin Andrea</td>\n",
       "      <td>Assistant Professor (Teaching)</td>\n",
       "      <td>Buchanan Hall D217C</td>\n",
       "      <td>703-993-5429</td>\n",
       "      <td>kandrea@gmu.edu</td>\n",
       "      <td>cs.gmu.edu/~kandrea</td>\n",
       "      <td>Kevin Andrea screen md in grid float breakpoi...</td>\n",
       "    </tr>\n",
       "    <tr>\n",
       "      <th>4</th>\n",
       "      <td>Giuseppe Ateniese</td>\n",
       "      <td>Eminent Scholar, Professor</td>\n",
       "      <td>Research Hall 339</td>\n",
       "      <td>703-993-6758</td>\n",
       "      <td>ateniese@gmu.edu</td>\n",
       "      <td>None</td>\n",
       "      <td>joint appointment with the Department of Cyber...</td>\n",
       "    </tr>\n",
       "    <tr>\n",
       "      <th>...</th>\n",
       "      <td>...</td>\n",
       "      <td>...</td>\n",
       "      <td>...</td>\n",
       "      <td>...</td>\n",
       "      <td>...</td>\n",
       "      <td>...</td>\n",
       "      <td>...</td>\n",
       "    </tr>\n",
       "    <tr>\n",
       "      <th>77</th>\n",
       "      <td>Qiang Zeng</td>\n",
       "      <td>Associate Professor</td>\n",
       "      <td>Engineering 4448</td>\n",
       "      <td>None</td>\n",
       "      <td>zeng@gmu.edu</td>\n",
       "      <td>cs.gmu.edu/~zeng/</td>\n",
       "      <td>Qiang Zeng George Mason University Home Resea...</td>\n",
       "    </tr>\n",
       "    <tr>\n",
       "      <th>78</th>\n",
       "      <td>Xiaokuan Zhang</td>\n",
       "      <td>Assistant Professor</td>\n",
       "      <td>Research Hall 357</td>\n",
       "      <td>703-993-6931</td>\n",
       "      <td>xiaokuan@gmu.edu</td>\n",
       "      <td>mainarke.github.io/</td>\n",
       "      <td>window dataLayer window dataLayer function gt...</td>\n",
       "    </tr>\n",
       "    <tr>\n",
       "      <th>79</th>\n",
       "      <td>Yutao Zhong</td>\n",
       "      <td>Associate Professor (Teaching)</td>\n",
       "      <td>Engineering 4433</td>\n",
       "      <td>703-993-1773</td>\n",
       "      <td>yzhong@gmu.edu</td>\n",
       "      <td>cs.gmu.edu/~yzhong/</td>\n",
       "      <td>Yutao Zhong Yutao Zhong Associate Professor T...</td>\n",
       "    </tr>\n",
       "    <tr>\n",
       "      <th>80</th>\n",
       "      <td>Keren Zhou</td>\n",
       "      <td>Assistant Professor</td>\n",
       "      <td>None</td>\n",
       "      <td>None</td>\n",
       "      <td>kzhou6@gmu.edu</td>\n",
       "      <td>www.jokeren.tech/</td>\n",
       "      <td>context https schema org type WebSite potenti...</td>\n",
       "    </tr>\n",
       "    <tr>\n",
       "      <th>81</th>\n",
       "      <td>Ziwei Zhu</td>\n",
       "      <td>Assistant Professor</td>\n",
       "      <td>Engineering 4609</td>\n",
       "      <td>703-993-6933</td>\n",
       "      <td>zzhu20@gmu.edu</td>\n",
       "      <td>zziwei.github.io/</td>\n",
       "      <td>Ziwei Zhu George Mason University Toggle navi...</td>\n",
       "    </tr>\n",
       "  </tbody>\n",
       "</table>\n",
       "<p>82 rows × 7 columns</p>\n",
       "</div>"
      ],
      "text/plain": [
       "                       Name  \\\n",
       "0               Jan Allbeck   \n",
       "1               Paul Ammann   \n",
       "2   Antonios Anastasopoulos   \n",
       "3              Kevin Andrea   \n",
       "4         Giuseppe Ateniese   \n",
       "..                      ...   \n",
       "77               Qiang Zeng   \n",
       "78           Xiaokuan Zhang   \n",
       "79              Yutao Zhong   \n",
       "80               Keren Zhou   \n",
       "81                Ziwei Zhu   \n",
       "\n",
       "                                            Job Title               Office  \\\n",
       "0   Associate Professor, Associate Dean Honors Col...       Buchanan D205D   \n",
       "1                                 Associate Professor     Engineering 4428   \n",
       "2                                 Assistant Professor     Engineering 4412   \n",
       "3                      Assistant Professor (Teaching)  Buchanan Hall D217C   \n",
       "4                          Eminent Scholar, Professor    Research Hall 339   \n",
       "..                                                ...                  ...   \n",
       "77                                Associate Professor     Engineering 4448   \n",
       "78                                Assistant Professor    Research Hall 357   \n",
       "79                     Associate Professor (Teaching)     Engineering 4433   \n",
       "80                                Assistant Professor                 None   \n",
       "81                                Assistant Professor     Engineering 4609   \n",
       "\n",
       "           Phone             Email                    Web  \\\n",
       "0   703-993-1101  jallbeck@gmu.edu  cs.gmu.edu/~jallbeck/   \n",
       "1   703-993-1660   pammann@gmu.edu   cs.gmu.edu/~pammann/   \n",
       "2   703-993-6821   antonis@gmu.edu   cs.gmu.edu/~antonis/   \n",
       "3   703-993-5429   kandrea@gmu.edu    cs.gmu.edu/~kandrea   \n",
       "4   703-993-6758  ateniese@gmu.edu                   None   \n",
       "..           ...               ...                    ...   \n",
       "77          None      zeng@gmu.edu      cs.gmu.edu/~zeng/   \n",
       "78  703-993-6931  xiaokuan@gmu.edu    mainarke.github.io/   \n",
       "79  703-993-1773    yzhong@gmu.edu    cs.gmu.edu/~yzhong/   \n",
       "80          None    kzhou6@gmu.edu      www.jokeren.tech/   \n",
       "81  703-993-6933    zzhu20@gmu.edu      zziwei.github.io/   \n",
       "\n",
       "                                            Biography  \n",
       "0    Jan M Allbeck Ph D Jan M Allbeck Ph D Associa...  \n",
       "1    Paul Ammann Paul Ammann Associate Professor S...  \n",
       "2    context https schema org type WebSite url htt...  \n",
       "3    Kevin Andrea screen md in grid float breakpoi...  \n",
       "4   joint appointment with the Department of Cyber...  \n",
       "..                                                ...  \n",
       "77   Qiang Zeng George Mason University Home Resea...  \n",
       "78   window dataLayer window dataLayer function gt...  \n",
       "79   Yutao Zhong Yutao Zhong Associate Professor T...  \n",
       "80   context https schema org type WebSite potenti...  \n",
       "81   Ziwei Zhu George Mason University Toggle navi...  \n",
       "\n",
       "[82 rows x 7 columns]"
      ]
     },
     "execution_count": 8,
     "metadata": {},
     "output_type": "execute_result"
    }
   ],
   "source": [
    "df_final"
   ]
  },
  {
   "cell_type": "code",
   "execution_count": 9,
   "id": "f9e925de",
   "metadata": {},
   "outputs": [
    {
     "data": {
      "text/plain": [
       "' Ziwei Zhu George Mason University Toggle navigation About Me Students Publications Teaching Experience Service Presentations Ziwei Zhu 竺子崴 Assistant Professor Department of Computer Science George Mason University Office Engineering Building 4609 Email zzhu20 at gmu edu CV Google Scholar Semantic Scholar DBLP GitHub About Me Howdy I am an Assistant Professor in the Department of Computer Science at George Mason University I got my Ph D from the Computer Science Engineering Department at Texas A M University advised by Prof James Caverlee Before that I obtained my Bachelor s degree in Computer Science from Wuhan University data mining machine learning and information retrieval with a special emphasis on augmenting responsibility in machine learning to provide fair unbiased accountable and trustworthy information services for both end users and society at large I am looking for multiple PhD students If you are interested please contact me I am looking for multiple PhD students to work in the area of Responsible AI If you are interested please contact me For Prospective Students For prospective PhD students I am looking for highly self motivated PhD students with funding support If you are interested in working with me please email me with your CV transcript a description of your research interests and experience and your writting samples e g publications dissertations project reports and so on Please start your email subject with Prospective PhD Student Your_Application_Semester For prospective intern students at GMU I am also exicted to help undergraduate and master students conduct research at GMU especially if you plan to apply for higher degrees at graduate schools If you are interested in working with me please email me with your CV transcript a description of your research interests and experience and your writting samples e g publications dissertations project reports and so on Please start your email subject with Prospective Intern Student News 09 2023 Invited to be a PC member for AAAI 2024 09 2023 Invited to be a PC member for SDM 2024 08 2023 A paper about unbiased post click conversion prediction is accepted to CIKM 2023 congratulations to my student Yuqing 07 2023 A paper about alleviating filter bubbles in dynamic news recommendation is accepted to KDD EAI Workshop 06 2023 Invited to be a PC member for WSDM 2024 06 2023 Invited to be a PC member for CIKM 2023 05 2023 A paper about attacks to dialog systems is accepted to ACL Findings 2023 04 2023 Invited to be a PC member for RecSys 2023 02 2023 A paper about Mobile Voice Assistant for Emergency Medical Services is accepted to MobiSys 2023 02 2023 Invited to be a PC member for ECMLPKDD 2023 01 2023 A paper about conversational RecSys is accepted to WWW 2023 01 2023 Invited to be a PC member for FAccT 2023 01 2023 Invited to be a PC member for KDD 2023 12 2022 A short paper about polarization in news recommender system is accepted to ECIR 2023 09 2022 Invited to be a PC member for SDM 2023 08 2022 Received the best paper award at the DSAI4RRS workshop 08 2022 A long paper about popularity bias in conversational recommender system is accepted to CIKM 2022 07 2022 Invited to be a PC member for AAAI 2023 07 2022 A paper about recommendation popularity bias is accepted to DSAI4RRS workshop See you in August 06 2022 Invited to be a PC member for WSDM 2023 05 2022 Successfully defended my Ph D dissertation 03 2022 I am so happy to receive the Graduate Research Excellence Award from the CSE department at TAMU 01 2022 A paper about fairness in learning to rank is accepted to WWW 2022 Web4Good track 11 2021 Invited to be a PC member for KDD 2022 Applied Science Track 10 2021 A long paper about user mainstream bias in recommendation is accepted to WSDM 2022 08 2021 Gave an oral presentation for our accepted paper at KDD 2021 07 2021 Gave an oral presentation for our accepted paper at SIGIR 2021 07 2021 Gave a talk about recommendation fairness among cold start items at Netflix research seminar 06 2021 Invited to be a PC member for WSDM 2022 05 2021 A long paper about popularity bias in dynamic recommendation is accepted to KDD 2021 04 2021 Gave a talk about fairness in recommender systems at University of North Texas 04 2021 A long paper about recommendation fairness among cold start items is accepted to SIGIR 2021 Students Chahat Raj PhD Fall 2022 Anjishnu Mukherjee PhD Fall 2022 Yuqing Zhou PhD Fall 2023 Bowen Wei PhD Fall 2023 Mehrdad Fazli PhD Fall 2023 Publications Google Scholar Semantic Scholar CIKM 2023 A Generalized Propensity Learning Framework for Unbiased Post Click Conversion Rate Estimation The 32nd ACM International Conference on Information and Knowledge Management Yuqing Zhou Tianshu Feng Mingrui Liu and Ziwei Zhu EAI 2023 Alleviating Filter Bubbles and Polarization in News Recommendation via Dynamic Calibration 2nd ACM SIGKDD Workshop on Ethical Artificial Intelligence Methods and Applications Han Zhang Ziwei Zhu and James Caverlee ACL 2023 Findings PromptAttack Probing Dialogue State Trackers with Adversarial Prompts Findings of the Association for Computational Linguistics 2023 Xiangjue Dong Yun He Ziwei Zhu James Caverlee MobiSys 2023 EMSAssist An End to End Mobile Voice Assistant at the Edge for Emergency Medical Services The 21st ACM International Conference on Mobile Systems Applications and Services 2023 Liuyi Jin Tian Liu Amran Haroon Radu Stoleru Michael Middleton Ziwei Zhu Theodora Chaspari WWW 2023 Enhancing User Personalization in Conversational Recommenders The 2023 ACM Web Conference 2023 Allen Lin Ziwei Zhu Jianling Wang and James Caverlee ECIR 2023 Evolution of Filter Bubbles and Polarization in News Recommendation short paper The 45th European Conference on Information Retrieval 2023 Han Zhang Ziwei Zhu and James Caverlee CIKM 2022 Quantifying and Mitigating Popularity Bias in Conversational Recommender Systems The 31st ACM International Conference on Information and Knowledge Management 2022 Allen Lin Jianling Wang Ziwei Zhu and James Caverlee FAccTRec 2022 Towards Fair Conversational Recommender Systems The 5th FAccTRec Workshop on Responsible Recommendation at RecSys 2022 Allen Lin Ziwei Zhu Jianling Wang and James Caverlee DSAI4RRS 2022 Evolution of Popularity Bias Empirical Study and Debiasing Best Paper Award pdf KDD 2022 Workshop on Data Science and Artificial Intelligence for Responsible Recommendations DS4RRS 2022 Ziwei Zhu Yun He Xing Zhao and James Caverlee WWW Web4Good 2022 End to end Learning for Fair Ranking Systems pdf The Web4Good special track in 33rd ACM International Conference on World Wide Web 2022 James Kotary Ferdinando Fioretto Pascal Van Hentenryck and Ziwei Zhu WSDM 2022 Fighting Mainstream Bias in Recommender Systems via Local Fine Tuning pdf code slides poster The 15th ACM International Conference on Web Search and Data Mining 2022 Ziwei Zhu and James Caverlee KDD 2021 Popularity Bias in Dynamic Recommendation pdf code slides poster The 27th ACM SIGKDD International Conference on Knowledge Discovery and Data Mining 2021 Ziwei Zhu Yun He Xing Zhao and James Caverlee SIGIR 2021 Fairness among New Items in Cold Start Recommender Systems pdf code slides The 44th International ACM SIGIR Conference on Research and Development in Information Retrieval 2021 Ziwei Zhu Jingu Kim Trung Nguyen Aish Fenton and James Caverlee WWW 2021 Rabbit Holes and Taste Distortion Distribution Aware Recommendation with Evolving Interests pdf The 32nd International Conference on World Wide Web 2021 Xing Zhao Ziwei Zhu and James Caverlee SDM 2021 Session based Recommendation with Hypergraph Attention Networks pdf The 2021 SIAM International Conference on Data Mining 2021 Jianling Wang Kaize Ding Ziwei Zhu and James Caverlee WSDM 2021 Popularity Opportunity Bias in Collaborative Filtering pdf slides poster The 14th ACM International Conference on Web Search and Data Mining 2021 Ziwei Zhu Yun He Xing Zhao Yin Zhang Jianling Wang and James Caverlee SSL WWW 2021 Infusing disease knowledge into BERT for Health Question Answering Medical Inference and Disease Name Recognition The Workshop on Self Supervised Learning for the Web at WWW 2021 Yun He Ziwei Zhu Yin Zhang Qin Chen and James Caverlee EMNLP 2020 Infusing Disease Knowledge into BERT for Health Question Answering Medical Inference and Disease Name Recognition pdf code The 2020 Conference on Empirical Methods in Natural Language Processing Yun He Ziwei Zhu Yin Zhang Qin Chen and James Caverlee RecSys 2020 Unbiased Implicit Recommendation and Propensity Estimation via Combinational Joint Learning short paper pdf code poster The 14th ACM Conference on Recommender Systems 2020 Ziwei Zhu Yun He Yin Zhang and James Caverlee RecSys 2020 Content Collaborative Disentanglement Representation Learning for Enhanced Recommendation pdf slides The 14th ACM Conference on Recommender Systems 2020 Yin Zhang Ziwei Zhu Yun He and James Caverlee SIGIR 2020 Measuring and Mitigating Item Under Recommendation Bias in Personalized Ranking Systems pdf code SIGIR slides extended slides arxiv version The 43rd International ACM SIGIR Conference on Research and Development in Information Retrieval 2020 Ziwei Zhu Jianling Wang and James Caverlee SIGIR 2020 Recommendation for New Users and New Items via Randomized Training and Mixture of Experts Transformation pdf code slides The 43rd International ACM SIGIR Conference on Research and Development in Information Retrieval 2020 Ziwei Zhu Shahin Sefati Parsa Saadatpanah and James Caverlee WWW 2020 Addressing the Target Customer Distortion Problem in Recommender Systems short paper pdf The 31st International Conference on World Wide Web 2020 Xing Zhao Ziwei Zhu Majid Alfifi and James Caverlee WSDM 2020 Improving the Estimation of Tail Ratings in Recommender System with Multi Latent Representations pdf The 13th ACM International Conference on Web Search and Data Mining 2020 Xing Zhao Ziwei Zhu Yin Zhang and James Caverlee WSDM 2020 User Recommendation in Content Curation Platforms pdf code slides The 13th ACM International Conference on Web Search and Data Mining 2020 Jianling Wang Ziwei Zhu and James Caverlee WSDM 2020 Key Opinion Leaders in Recommendation Systems Opinion Elicitation and Diffusion pdf poster The 13th ACM International Conference on Web Search and Data Mining 2020 Jianling Wang Kaize Ding Ziwei Zhu Yin Zhang and James Caverlee WWW 2019 Improving Top K Recommendation via Joint Collaborative Autoencoders short paper pdf code poster The 30th International Conference on World Wide Web 2019 Ziwei Zhu Jianling Wang and James Caverlee CIKM 2018 Fairness Aware Tensor Based Recommendation pdf slides code The 27th ACM International Conference on Information and Knowledge Management 2018 Ziwei Zhu Xia Hu and James Caverlee FATREC 2018 Fairness Aware Recommendation of Information Curators pdf The 2nd FATREC Workshop on Responsible Recommendation at RecSys 2018 Ziwei Zhu Jianling Wang Yin Zhang and James Caverlee ICDM 2018 Pseudo Implicit Feedback for Alleviating Data Sparsity in Top K Recommendation short paper pdf code The 2018 IEEE International Conference on Data Mining 2018 Yun He Haochen Chen Ziwei Zhu and James Caverlee BSN 2017 Modeling and Detecting Student Attention and Interest Level Using Wearable Computers pdf IEEE International Conference on Wearable and Implantable Body Sensor Networks 2017 Ziwei Zhu Sebastian Ober Roozbeh Jafari Teaching Lecturer CS 782 Advanced Machine Learning GMU Fall 2023 Lecturer CS 484 Data Mining GMU Spring 2023 Lecturer CS 584 Data Mining GMU Fall 2022 Teaching assistant CSCE 489 Special Topics in Recommender Systems TAMU Spring 2021 Teaching assistant CSCE 676 Data Mining and Analysis TAMU Fall 2019 Teaching assistant CSCE 206 Structured programming in C TAMU Fall 2017 Experience 09 2017 08 2022 Research assistant at Info Lab Texas A M University advisor Prof James Caverlee 05 2020 08 2020 Research intern at Netflix mentors Dr Jingu Kim Dr Trung Nguyen and Aish Fenton 05 2019 08 2019 Research intern at Comcast Applied AI Lab mentor Dr Shahin Sefati 09 2016 08 2017 Research assistant at ESP Lab Texas A M University advisor Prof Roozbeh Jafari Students Current Ph D Students Service Conference program committees WSDM 2022 2023 2024 KDD 2022 2023 RecSys 2023 CIKM 2023 AAAI 2023 2024 SDM 2023 2024 ECMLPKDD 2023 FAccT 2023 Conference External reviewers WWW 2022 WWW 2021 SIGIR 2021 RecSys 2021 SIGIR 2020 WWW 2019 SIGIR 2019 WWW 2018 Journal reviewers IEEE Transactions on Knowledge and Data Engineering IEEE Transactions on Services Computing IEEE Intelligent Systems ACM Transactions on Intelligent Systems and Technology ACM Transactions on Recommender Systems ACM Transactions on Information Systems Information Processing and Management Big Data Journal The Electronic Library Knowledge based Systems Machine Learning Journal Heliyon Journal Neurocomputing Journal Science China Information Sciences Journal International Journal of Human Computer Interaction Invited Talks Invited Talks Fairness in Artificial Intelligence MPI ReConEx 2023 04 2023 Toward Fairness aware Recommender Systems DEFirst Seminar 03 2023 Fairness among New Items in Cold Start Recommender Systems research seminar at Netflix 07 2021 Toward Fairness aware Recommender Systems University of North Texas 04 2021 Item Fairness in Recommender Systems research seminar at Netflix 08 2020 Conference Oral Presentations Popularity Bias in Dynamic Recommendation KDD 2021 08 2021 Fairness among New Items in Cold Start Recommender Systems SIGIR 2021 07 2021 Popularity Opportunity Bias in Collaborative Filtering WSDM 2021 03 2020 Recommendation for New Users and New Items SIGIR 2020 07 2020 Measuring and Mitigating Under Recommendation Bias in Personalized Ranking SIGIR 2020 07 2020 Fairness Aware Tensor Based Recommendation CIKM 2018 10 2018 Conference Poster Presentations Unbiased Implicit Recommendation via Combinational Joint Learning RecSys 2020 09 2020 Improving Top K Recommendation via Joint Collaborative Autoencoders WWW 2019 05 2019 Awards TAMU CSE Graduate Research Excellence Award 2022 TAMU CSE Student Travel Award 2022 WSDM Travel Grant 2022 SIGIR Travel Grant 2021 WSDM Travel Grant 2021 SIGIR Travel Grant 2020 CIKM Travel Grant 2018 First Class Scholarship at Wuhan University top 5 students 2015 National Scholarship Wuhan University top 1 students 2014 Third Class Scholarship at Wuhan University top 30 students 2013 var links document querySelectorAll ul nav navbar nav li a links forEach function li li addEventListener click function document querySelector button navbar toggle click yddContainer display block font family Microsoft YaHei position relative width 100 height 100 top 4px left 4px font size 12px border 1px solid yddTop display block height 22px yddTopBorderlr display block position static height 17px padding 2px 28px line height 17px font size 12px color 5079bb font weight bold border style none solid border width 1px yddTopBorderlr ydd sp position absolute top 2px height 0 overflow hidden ydd icon left 5px width 17px padding 0px 0px 0px 0px padding top 17px background position 16px 44px ydd close right 5px width 16px padding top 16px background position left 44px yddKeyTitle float left text decoration none yddMiddle display block margin bottom 10px ydd tabs display block margin 5px 0 padding 0 5px height 18px border bottom 1px solid ydd tab display block float left height 18px margin 0 5px 1px 0 padding 0 4px line height 18px border 1px solid border bottom none ydd trans container display block line height 160 ydd trans container a text decoration none yddBottom position absolute bottom 0 left 0 width 100 height 22px line height 22px overflow hidden background position left 22px ydd padding010 padding 0 10px yddWrapper color 252525 z index 10001 background url chrome extension eopjamdnofihpioajgfdikhhbobonhbb ab20 png yddContainer background fff border color 4b7598 yddTopBorderlr border color f0f8fc yddWrapper ydd sp background image url chrome extension eopjamdnofihpioajgfdikhhbobonhbb ydd sprite png yddWrapper a yddWrapper a hover yddWrapper a visited color 50799b yddWrapper ydd tabs color 959595 ydd tabs ydd tab background fff border color d5e7f3 yddBottom color 363636 yddWrapper min width 250px max width 400px '"
      ]
     },
     "execution_count": 9,
     "metadata": {},
     "output_type": "execute_result"
    }
   ],
   "source": [
    "df_final['Biography'][81]"
   ]
  },
  {
   "cell_type": "code",
   "execution_count": 10,
   "id": "48d4bed8",
   "metadata": {},
   "outputs": [],
   "source": [
    "import nltk\n",
    "from nltk.corpus import stopwords"
   ]
  },
  {
   "cell_type": "code",
   "execution_count": 11,
   "id": "374173c8",
   "metadata": {},
   "outputs": [
    {
     "name": "stdout",
     "output_type": "stream",
     "text": [
      "Hi\n",
      "Hi\n",
      "Hi\n",
      "Hi\n",
      "Hi\n",
      "Hi\n",
      "Hi\n",
      "Hi\n",
      "Hi\n",
      "Hi\n",
      "Hi\n",
      "Hi\n",
      "0     jan allbeck ph jan allbeck ph associate dean h...\n",
      "1     paul ammann paul ammann associate professor so...\n",
      "2     context https schema org type website url http...\n",
      "3     kevin andrea screen md grid float breakpoint t...\n",
      "4     joint appointment department cyber security en...\n",
      "                            ...                        \n",
      "77    qiang zeng george mason university home resear...\n",
      "78    window datalayer window datalayer function gta...\n",
      "79    yutao zhong yutao zhong associate professor te...\n",
      "80    context https schema org type website potentia...\n",
      "81    ziwei zhu george mason university toggle navig...\n",
      "Name: Biography, Length: 82, dtype: object\n"
     ]
    }
   ],
   "source": [
    "def comprehending(df):\n",
    "   \n",
    "    def removestopwords(text):\n",
    "        if text:\n",
    "            filtered_words = [word.lower() for word in text.split() if word.lower() not in nltk.corpus.stopwords.words('english')]\n",
    "            return \" \".join(filtered_words)\n",
    "        else:\n",
    "            print(\"Hi\")\n",
    "            return \"\"\n",
    "    \n",
    "    # Apply the lambda function to create a new \"Label\" column\n",
    "    df['Biography'] = df['Biography'].apply(removestopwords)\n",
    "    return df\n",
    "\n",
    "   \n",
    "\n",
    "df = df_final\n",
    "\n",
    "result_df = comprehending(df)\n",
    "print(result_df['Biography'])\n"
   ]
  },
  {
   "cell_type": "code",
   "execution_count": 12,
   "id": "7c80a994",
   "metadata": {},
   "outputs": [
    {
     "data": {
      "text/plain": [
       "'ziwei zhu george mason university toggle navigation students publications teaching experience service presentations ziwei zhu 竺子崴 assistant professor department computer science george mason university office engineering building 4609 email zzhu20 gmu edu cv google scholar semantic scholar dblp github howdy assistant professor department computer science george mason university got ph computer science engineering department texas university advised prof james caverlee obtained bachelor degree computer science wuhan university data mining machine learning information retrieval special emphasis augmenting responsibility machine learning provide fair unbiased accountable trustworthy information services end users society large looking multiple phd students interested please contact looking multiple phd students work area responsible ai interested please contact prospective students prospective phd students looking highly self motivated phd students funding support interested working please email cv transcript description research interests experience writting samples e g publications dissertations project reports please start email subject prospective phd student your_application_semester prospective intern students gmu also exicted help undergraduate master students conduct research gmu especially plan apply higher degrees graduate schools interested working please email cv transcript description research interests experience writting samples e g publications dissertations project reports please start email subject prospective intern student news 09 2023 invited pc member aaai 2024 09 2023 invited pc member sdm 2024 08 2023 paper unbiased post click conversion prediction accepted cikm 2023 congratulations student yuqing 07 2023 paper alleviating filter bubbles dynamic news recommendation accepted kdd eai workshop 06 2023 invited pc member wsdm 2024 06 2023 invited pc member cikm 2023 05 2023 paper attacks dialog systems accepted acl findings 2023 04 2023 invited pc member recsys 2023 02 2023 paper mobile voice assistant emergency medical services accepted mobisys 2023 02 2023 invited pc member ecmlpkdd 2023 01 2023 paper conversational recsys accepted www 2023 01 2023 invited pc member facct 2023 01 2023 invited pc member kdd 2023 12 2022 short paper polarization news recommender system accepted ecir 2023 09 2022 invited pc member sdm 2023 08 2022 received best paper award dsai4rrs workshop 08 2022 long paper popularity bias conversational recommender system accepted cikm 2022 07 2022 invited pc member aaai 2023 07 2022 paper recommendation popularity bias accepted dsai4rrs workshop see august 06 2022 invited pc member wsdm 2023 05 2022 successfully defended ph dissertation 03 2022 happy receive graduate research excellence award cse department tamu 01 2022 paper fairness learning rank accepted www 2022 web4good track 11 2021 invited pc member kdd 2022 applied science track 10 2021 long paper user mainstream bias recommendation accepted wsdm 2022 08 2021 gave oral presentation accepted paper kdd 2021 07 2021 gave oral presentation accepted paper sigir 2021 07 2021 gave talk recommendation fairness among cold start items netflix research seminar 06 2021 invited pc member wsdm 2022 05 2021 long paper popularity bias dynamic recommendation accepted kdd 2021 04 2021 gave talk fairness recommender systems university north texas 04 2021 long paper recommendation fairness among cold start items accepted sigir 2021 students chahat raj phd fall 2022 anjishnu mukherjee phd fall 2022 yuqing zhou phd fall 2023 bowen wei phd fall 2023 mehrdad fazli phd fall 2023 publications google scholar semantic scholar cikm 2023 generalized propensity learning framework unbiased post click conversion rate estimation 32nd acm international conference information knowledge management yuqing zhou tianshu feng mingrui liu ziwei zhu eai 2023 alleviating filter bubbles polarization news recommendation via dynamic calibration 2nd acm sigkdd workshop ethical artificial intelligence methods applications han zhang ziwei zhu james caverlee acl 2023 findings promptattack probing dialogue state trackers adversarial prompts findings association computational linguistics 2023 xiangjue dong yun ziwei zhu james caverlee mobisys 2023 emsassist end end mobile voice assistant edge emergency medical services 21st acm international conference mobile systems applications services 2023 liuyi jin tian liu amran haroon radu stoleru michael middleton ziwei zhu theodora chaspari www 2023 enhancing user personalization conversational recommenders 2023 acm web conference 2023 allen lin ziwei zhu jianling wang james caverlee ecir 2023 evolution filter bubbles polarization news recommendation short paper 45th european conference information retrieval 2023 han zhang ziwei zhu james caverlee cikm 2022 quantifying mitigating popularity bias conversational recommender systems 31st acm international conference information knowledge management 2022 allen lin jianling wang ziwei zhu james caverlee facctrec 2022 towards fair conversational recommender systems 5th facctrec workshop responsible recommendation recsys 2022 allen lin ziwei zhu jianling wang james caverlee dsai4rrs 2022 evolution popularity bias empirical study debiasing best paper award pdf kdd 2022 workshop data science artificial intelligence responsible recommendations ds4rrs 2022 ziwei zhu yun xing zhao james caverlee www web4good 2022 end end learning fair ranking systems pdf web4good special track 33rd acm international conference world wide web 2022 james kotary ferdinando fioretto pascal van hentenryck ziwei zhu wsdm 2022 fighting mainstream bias recommender systems via local fine tuning pdf code slides poster 15th acm international conference web search data mining 2022 ziwei zhu james caverlee kdd 2021 popularity bias dynamic recommendation pdf code slides poster 27th acm sigkdd international conference knowledge discovery data mining 2021 ziwei zhu yun xing zhao james caverlee sigir 2021 fairness among new items cold start recommender systems pdf code slides 44th international acm sigir conference research development information retrieval 2021 ziwei zhu jingu kim trung nguyen aish fenton james caverlee www 2021 rabbit holes taste distortion distribution aware recommendation evolving interests pdf 32nd international conference world wide web 2021 xing zhao ziwei zhu james caverlee sdm 2021 session based recommendation hypergraph attention networks pdf 2021 siam international conference data mining 2021 jianling wang kaize ding ziwei zhu james caverlee wsdm 2021 popularity opportunity bias collaborative filtering pdf slides poster 14th acm international conference web search data mining 2021 ziwei zhu yun xing zhao yin zhang jianling wang james caverlee ssl www 2021 infusing disease knowledge bert health question answering medical inference disease name recognition workshop self supervised learning web www 2021 yun ziwei zhu yin zhang qin chen james caverlee emnlp 2020 infusing disease knowledge bert health question answering medical inference disease name recognition pdf code 2020 conference empirical methods natural language processing yun ziwei zhu yin zhang qin chen james caverlee recsys 2020 unbiased implicit recommendation propensity estimation via combinational joint learning short paper pdf code poster 14th acm conference recommender systems 2020 ziwei zhu yun yin zhang james caverlee recsys 2020 content collaborative disentanglement representation learning enhanced recommendation pdf slides 14th acm conference recommender systems 2020 yin zhang ziwei zhu yun james caverlee sigir 2020 measuring mitigating item recommendation bias personalized ranking systems pdf code sigir slides extended slides arxiv version 43rd international acm sigir conference research development information retrieval 2020 ziwei zhu jianling wang james caverlee sigir 2020 recommendation new users new items via randomized training mixture experts transformation pdf code slides 43rd international acm sigir conference research development information retrieval 2020 ziwei zhu shahin sefati parsa saadatpanah james caverlee www 2020 addressing target customer distortion problem recommender systems short paper pdf 31st international conference world wide web 2020 xing zhao ziwei zhu majid alfifi james caverlee wsdm 2020 improving estimation tail ratings recommender system multi latent representations pdf 13th acm international conference web search data mining 2020 xing zhao ziwei zhu yin zhang james caverlee wsdm 2020 user recommendation content curation platforms pdf code slides 13th acm international conference web search data mining 2020 jianling wang ziwei zhu james caverlee wsdm 2020 key opinion leaders recommendation systems opinion elicitation diffusion pdf poster 13th acm international conference web search data mining 2020 jianling wang kaize ding ziwei zhu yin zhang james caverlee www 2019 improving top k recommendation via joint collaborative autoencoders short paper pdf code poster 30th international conference world wide web 2019 ziwei zhu jianling wang james caverlee cikm 2018 fairness aware tensor based recommendation pdf slides code 27th acm international conference information knowledge management 2018 ziwei zhu xia hu james caverlee fatrec 2018 fairness aware recommendation information curators pdf 2nd fatrec workshop responsible recommendation recsys 2018 ziwei zhu jianling wang yin zhang james caverlee icdm 2018 pseudo implicit feedback alleviating data sparsity top k recommendation short paper pdf code 2018 ieee international conference data mining 2018 yun haochen chen ziwei zhu james caverlee bsn 2017 modeling detecting student attention interest level using wearable computers pdf ieee international conference wearable implantable body sensor networks 2017 ziwei zhu sebastian ober roozbeh jafari teaching lecturer cs 782 advanced machine learning gmu fall 2023 lecturer cs 484 data mining gmu spring 2023 lecturer cs 584 data mining gmu fall 2022 teaching assistant csce 489 special topics recommender systems tamu spring 2021 teaching assistant csce 676 data mining analysis tamu fall 2019 teaching assistant csce 206 structured programming c tamu fall 2017 experience 09 2017 08 2022 research assistant info lab texas university advisor prof james caverlee 05 2020 08 2020 research intern netflix mentors dr jingu kim dr trung nguyen aish fenton 05 2019 08 2019 research intern comcast applied ai lab mentor dr shahin sefati 09 2016 08 2017 research assistant esp lab texas university advisor prof roozbeh jafari students current ph students service conference program committees wsdm 2022 2023 2024 kdd 2022 2023 recsys 2023 cikm 2023 aaai 2023 2024 sdm 2023 2024 ecmlpkdd 2023 facct 2023 conference external reviewers www 2022 www 2021 sigir 2021 recsys 2021 sigir 2020 www 2019 sigir 2019 www 2018 journal reviewers ieee transactions knowledge data engineering ieee transactions services computing ieee intelligent systems acm transactions intelligent systems technology acm transactions recommender systems acm transactions information systems information processing management big data journal electronic library knowledge based systems machine learning journal heliyon journal neurocomputing journal science china information sciences journal international journal human computer interaction invited talks invited talks fairness artificial intelligence mpi reconex 2023 04 2023 toward fairness aware recommender systems defirst seminar 03 2023 fairness among new items cold start recommender systems research seminar netflix 07 2021 toward fairness aware recommender systems university north texas 04 2021 item fairness recommender systems research seminar netflix 08 2020 conference oral presentations popularity bias dynamic recommendation kdd 2021 08 2021 fairness among new items cold start recommender systems sigir 2021 07 2021 popularity opportunity bias collaborative filtering wsdm 2021 03 2020 recommendation new users new items sigir 2020 07 2020 measuring mitigating recommendation bias personalized ranking sigir 2020 07 2020 fairness aware tensor based recommendation cikm 2018 10 2018 conference poster presentations unbiased implicit recommendation via combinational joint learning recsys 2020 09 2020 improving top k recommendation via joint collaborative autoencoders www 2019 05 2019 awards tamu cse graduate research excellence award 2022 tamu cse student travel award 2022 wsdm travel grant 2022 sigir travel grant 2021 wsdm travel grant 2021 sigir travel grant 2020 cikm travel grant 2018 first class scholarship wuhan university top 5 students 2015 national scholarship wuhan university top 1 students 2014 third class scholarship wuhan university top 30 students 2013 var links document queryselectorall ul nav navbar nav li links foreach function li li addeventlistener click function document queryselector button navbar toggle click yddcontainer display block font family microsoft yahei position relative width 100 height 100 top 4px left 4px font size 12px border 1px solid yddtop display block height 22px yddtopborderlr display block position static height 17px padding 2px 28px line height 17px font size 12px color 5079bb font weight bold border style none solid border width 1px yddtopborderlr ydd sp position absolute top 2px height 0 overflow hidden ydd icon left 5px width 17px padding 0px 0px 0px 0px padding top 17px background position 16px 44px ydd close right 5px width 16px padding top 16px background position left 44px yddkeytitle float left text decoration none yddmiddle display block margin bottom 10px ydd tabs display block margin 5px 0 padding 0 5px height 18px border bottom 1px solid ydd tab display block float left height 18px margin 0 5px 1px 0 padding 0 4px line height 18px border 1px solid border bottom none ydd trans container display block line height 160 ydd trans container text decoration none yddbottom position absolute bottom 0 left 0 width 100 height 22px line height 22px overflow hidden background position left 22px ydd padding010 padding 0 10px yddwrapper color 252525 z index 10001 background url chrome extension eopjamdnofihpioajgfdikhhbobonhbb ab20 png yddcontainer background fff border color 4b7598 yddtopborderlr border color f0f8fc yddwrapper ydd sp background image url chrome extension eopjamdnofihpioajgfdikhhbobonhbb ydd sprite png yddwrapper yddwrapper hover yddwrapper visited color 50799b yddwrapper ydd tabs color 959595 ydd tabs ydd tab background fff border color d5e7f3 yddbottom color 363636 yddwrapper min width 250px max width 400px'"
      ]
     },
     "execution_count": 12,
     "metadata": {},
     "output_type": "execute_result"
    }
   ],
   "source": [
    "result_df[\"Biography\"][81]"
   ]
  },
  {
   "cell_type": "code",
   "execution_count": 13,
   "id": "86cc2003",
   "metadata": {},
   "outputs": [
    {
     "data": {
      "text/plain": [
       "'Ziwei Zhu'"
      ]
     },
     "execution_count": 13,
     "metadata": {},
     "output_type": "execute_result"
    }
   ],
   "source": [
    "result_df['Name'][81]"
   ]
  },
  {
   "cell_type": "code",
   "execution_count": 14,
   "id": "3d91a724",
   "metadata": {},
   "outputs": [
    {
     "data": {
      "text/html": [
       "<div>\n",
       "<style scoped>\n",
       "    .dataframe tbody tr th:only-of-type {\n",
       "        vertical-align: middle;\n",
       "    }\n",
       "\n",
       "    .dataframe tbody tr th {\n",
       "        vertical-align: top;\n",
       "    }\n",
       "\n",
       "    .dataframe thead th {\n",
       "        text-align: right;\n",
       "    }\n",
       "</style>\n",
       "<table border=\"1\" class=\"dataframe\">\n",
       "  <thead>\n",
       "    <tr style=\"text-align: right;\">\n",
       "      <th></th>\n",
       "      <th>Name</th>\n",
       "      <th>Job Title</th>\n",
       "      <th>Office</th>\n",
       "      <th>Phone</th>\n",
       "      <th>Email</th>\n",
       "      <th>Web</th>\n",
       "      <th>Biography</th>\n",
       "    </tr>\n",
       "  </thead>\n",
       "  <tbody>\n",
       "    <tr>\n",
       "      <th>0</th>\n",
       "      <td>Jan Allbeck</td>\n",
       "      <td>Associate Professor, Associate Dean Honors Col...</td>\n",
       "      <td>Buchanan D205D</td>\n",
       "      <td>703-993-1101</td>\n",
       "      <td>jallbeck@gmu.edu</td>\n",
       "      <td>cs.gmu.edu/~jallbeck/</td>\n",
       "      <td>jan allbeck ph jan allbeck ph associate dean h...</td>\n",
       "    </tr>\n",
       "    <tr>\n",
       "      <th>1</th>\n",
       "      <td>Paul Ammann</td>\n",
       "      <td>Associate Professor</td>\n",
       "      <td>Engineering 4428</td>\n",
       "      <td>703-993-1660</td>\n",
       "      <td>pammann@gmu.edu</td>\n",
       "      <td>cs.gmu.edu/~pammann/</td>\n",
       "      <td>paul ammann paul ammann associate professor so...</td>\n",
       "    </tr>\n",
       "    <tr>\n",
       "      <th>2</th>\n",
       "      <td>Antonios Anastasopoulos</td>\n",
       "      <td>Assistant Professor</td>\n",
       "      <td>Engineering 4412</td>\n",
       "      <td>703-993-6821</td>\n",
       "      <td>antonis@gmu.edu</td>\n",
       "      <td>cs.gmu.edu/~antonis/</td>\n",
       "      <td>context https schema org type website url http...</td>\n",
       "    </tr>\n",
       "    <tr>\n",
       "      <th>3</th>\n",
       "      <td>Kevin Andrea</td>\n",
       "      <td>Assistant Professor (Teaching)</td>\n",
       "      <td>Buchanan Hall D217C</td>\n",
       "      <td>703-993-5429</td>\n",
       "      <td>kandrea@gmu.edu</td>\n",
       "      <td>cs.gmu.edu/~kandrea</td>\n",
       "      <td>kevin andrea screen md grid float breakpoint t...</td>\n",
       "    </tr>\n",
       "    <tr>\n",
       "      <th>4</th>\n",
       "      <td>Giuseppe Ateniese</td>\n",
       "      <td>Eminent Scholar, Professor</td>\n",
       "      <td>Research Hall 339</td>\n",
       "      <td>703-993-6758</td>\n",
       "      <td>ateniese@gmu.edu</td>\n",
       "      <td>None</td>\n",
       "      <td>joint appointment department cyber security en...</td>\n",
       "    </tr>\n",
       "    <tr>\n",
       "      <th>...</th>\n",
       "      <td>...</td>\n",
       "      <td>...</td>\n",
       "      <td>...</td>\n",
       "      <td>...</td>\n",
       "      <td>...</td>\n",
       "      <td>...</td>\n",
       "      <td>...</td>\n",
       "    </tr>\n",
       "    <tr>\n",
       "      <th>77</th>\n",
       "      <td>Qiang Zeng</td>\n",
       "      <td>Associate Professor</td>\n",
       "      <td>Engineering 4448</td>\n",
       "      <td>None</td>\n",
       "      <td>zeng@gmu.edu</td>\n",
       "      <td>cs.gmu.edu/~zeng/</td>\n",
       "      <td>qiang zeng george mason university home resear...</td>\n",
       "    </tr>\n",
       "    <tr>\n",
       "      <th>78</th>\n",
       "      <td>Xiaokuan Zhang</td>\n",
       "      <td>Assistant Professor</td>\n",
       "      <td>Research Hall 357</td>\n",
       "      <td>703-993-6931</td>\n",
       "      <td>xiaokuan@gmu.edu</td>\n",
       "      <td>mainarke.github.io/</td>\n",
       "      <td>window datalayer window datalayer function gta...</td>\n",
       "    </tr>\n",
       "    <tr>\n",
       "      <th>79</th>\n",
       "      <td>Yutao Zhong</td>\n",
       "      <td>Associate Professor (Teaching)</td>\n",
       "      <td>Engineering 4433</td>\n",
       "      <td>703-993-1773</td>\n",
       "      <td>yzhong@gmu.edu</td>\n",
       "      <td>cs.gmu.edu/~yzhong/</td>\n",
       "      <td>yutao zhong yutao zhong associate professor te...</td>\n",
       "    </tr>\n",
       "    <tr>\n",
       "      <th>80</th>\n",
       "      <td>Keren Zhou</td>\n",
       "      <td>Assistant Professor</td>\n",
       "      <td>None</td>\n",
       "      <td>None</td>\n",
       "      <td>kzhou6@gmu.edu</td>\n",
       "      <td>www.jokeren.tech/</td>\n",
       "      <td>context https schema org type website potentia...</td>\n",
       "    </tr>\n",
       "    <tr>\n",
       "      <th>81</th>\n",
       "      <td>Ziwei Zhu</td>\n",
       "      <td>Assistant Professor</td>\n",
       "      <td>Engineering 4609</td>\n",
       "      <td>703-993-6933</td>\n",
       "      <td>zzhu20@gmu.edu</td>\n",
       "      <td>zziwei.github.io/</td>\n",
       "      <td>ziwei zhu george mason university toggle navig...</td>\n",
       "    </tr>\n",
       "  </tbody>\n",
       "</table>\n",
       "<p>82 rows × 7 columns</p>\n",
       "</div>"
      ],
      "text/plain": [
       "                       Name  \\\n",
       "0               Jan Allbeck   \n",
       "1               Paul Ammann   \n",
       "2   Antonios Anastasopoulos   \n",
       "3              Kevin Andrea   \n",
       "4         Giuseppe Ateniese   \n",
       "..                      ...   \n",
       "77               Qiang Zeng   \n",
       "78           Xiaokuan Zhang   \n",
       "79              Yutao Zhong   \n",
       "80               Keren Zhou   \n",
       "81                Ziwei Zhu   \n",
       "\n",
       "                                            Job Title               Office  \\\n",
       "0   Associate Professor, Associate Dean Honors Col...       Buchanan D205D   \n",
       "1                                 Associate Professor     Engineering 4428   \n",
       "2                                 Assistant Professor     Engineering 4412   \n",
       "3                      Assistant Professor (Teaching)  Buchanan Hall D217C   \n",
       "4                          Eminent Scholar, Professor    Research Hall 339   \n",
       "..                                                ...                  ...   \n",
       "77                                Associate Professor     Engineering 4448   \n",
       "78                                Assistant Professor    Research Hall 357   \n",
       "79                     Associate Professor (Teaching)     Engineering 4433   \n",
       "80                                Assistant Professor                 None   \n",
       "81                                Assistant Professor     Engineering 4609   \n",
       "\n",
       "           Phone             Email                    Web  \\\n",
       "0   703-993-1101  jallbeck@gmu.edu  cs.gmu.edu/~jallbeck/   \n",
       "1   703-993-1660   pammann@gmu.edu   cs.gmu.edu/~pammann/   \n",
       "2   703-993-6821   antonis@gmu.edu   cs.gmu.edu/~antonis/   \n",
       "3   703-993-5429   kandrea@gmu.edu    cs.gmu.edu/~kandrea   \n",
       "4   703-993-6758  ateniese@gmu.edu                   None   \n",
       "..           ...               ...                    ...   \n",
       "77          None      zeng@gmu.edu      cs.gmu.edu/~zeng/   \n",
       "78  703-993-6931  xiaokuan@gmu.edu    mainarke.github.io/   \n",
       "79  703-993-1773    yzhong@gmu.edu    cs.gmu.edu/~yzhong/   \n",
       "80          None    kzhou6@gmu.edu      www.jokeren.tech/   \n",
       "81  703-993-6933    zzhu20@gmu.edu      zziwei.github.io/   \n",
       "\n",
       "                                            Biography  \n",
       "0   jan allbeck ph jan allbeck ph associate dean h...  \n",
       "1   paul ammann paul ammann associate professor so...  \n",
       "2   context https schema org type website url http...  \n",
       "3   kevin andrea screen md grid float breakpoint t...  \n",
       "4   joint appointment department cyber security en...  \n",
       "..                                                ...  \n",
       "77  qiang zeng george mason university home resear...  \n",
       "78  window datalayer window datalayer function gta...  \n",
       "79  yutao zhong yutao zhong associate professor te...  \n",
       "80  context https schema org type website potentia...  \n",
       "81  ziwei zhu george mason university toggle navig...  \n",
       "\n",
       "[82 rows x 7 columns]"
      ]
     },
     "execution_count": 14,
     "metadata": {},
     "output_type": "execute_result"
    }
   ],
   "source": [
    "result_df"
   ]
  },
  {
   "cell_type": "code",
   "execution_count": 15,
   "id": "2258be5a",
   "metadata": {},
   "outputs": [],
   "source": [
    "def generate_keyphrases(text):\n",
    "    import boto3\n",
    "    comprehend = boto3.client('comprehend')\n",
    "    if text:\n",
    "        response = comprehend.detect_key_phrases(Text=text, LanguageCode=\"en\")\n",
    "        key_phrases = response[\"KeyPhrases\"]\n",
    "        return [key_phrase[\"Text\"] for key_phrase in key_phrases]\n",
    "    else:\n",
    "        return None\n",
    "\n",
    "# Apply the custom function to each row in the DataFrame\n",
    "result_df['AWS_Comprehended_Keyvalues'] = result_df['Biography'].apply(generate_keyphrases)"
   ]
  },
  {
   "cell_type": "code",
   "execution_count": 16,
   "id": "daefe86c",
   "metadata": {},
   "outputs": [
    {
     "data": {
      "text/html": [
       "<div>\n",
       "<style scoped>\n",
       "    .dataframe tbody tr th:only-of-type {\n",
       "        vertical-align: middle;\n",
       "    }\n",
       "\n",
       "    .dataframe tbody tr th {\n",
       "        vertical-align: top;\n",
       "    }\n",
       "\n",
       "    .dataframe thead th {\n",
       "        text-align: right;\n",
       "    }\n",
       "</style>\n",
       "<table border=\"1\" class=\"dataframe\">\n",
       "  <thead>\n",
       "    <tr style=\"text-align: right;\">\n",
       "      <th></th>\n",
       "      <th>Name</th>\n",
       "      <th>Job Title</th>\n",
       "      <th>Office</th>\n",
       "      <th>Phone</th>\n",
       "      <th>Email</th>\n",
       "      <th>Web</th>\n",
       "      <th>Biography</th>\n",
       "      <th>AWS_Comprehended_Keyvalues</th>\n",
       "    </tr>\n",
       "  </thead>\n",
       "  <tbody>\n",
       "    <tr>\n",
       "      <th>0</th>\n",
       "      <td>Jan Allbeck</td>\n",
       "      <td>Associate Professor, Associate Dean Honors Col...</td>\n",
       "      <td>Buchanan D205D</td>\n",
       "      <td>703-993-1101</td>\n",
       "      <td>jallbeck@gmu.edu</td>\n",
       "      <td>cs.gmu.edu/~jallbeck/</td>\n",
       "      <td>jan allbeck ph jan allbeck ph associate dean h...</td>\n",
       "      <td>[jan allbeck ph jan allbeck ph associate dean,...</td>\n",
       "    </tr>\n",
       "    <tr>\n",
       "      <th>1</th>\n",
       "      <td>Paul Ammann</td>\n",
       "      <td>Associate Professor</td>\n",
       "      <td>Engineering 4428</td>\n",
       "      <td>703-993-1660</td>\n",
       "      <td>pammann@gmu.edu</td>\n",
       "      <td>cs.gmu.edu/~pammann/</td>\n",
       "      <td>paul ammann paul ammann associate professor so...</td>\n",
       "      <td>[paul ammann paul ammann associate professor s...</td>\n",
       "    </tr>\n",
       "    <tr>\n",
       "      <th>2</th>\n",
       "      <td>Antonios Anastasopoulos</td>\n",
       "      <td>Assistant Professor</td>\n",
       "      <td>Engineering 4412</td>\n",
       "      <td>703-993-6821</td>\n",
       "      <td>antonis@gmu.edu</td>\n",
       "      <td>cs.gmu.edu/~antonis/</td>\n",
       "      <td>context https schema org type website url http...</td>\n",
       "      <td>[context https schema org type website url htt...</td>\n",
       "    </tr>\n",
       "    <tr>\n",
       "      <th>3</th>\n",
       "      <td>Kevin Andrea</td>\n",
       "      <td>Assistant Professor (Teaching)</td>\n",
       "      <td>Buchanan Hall D217C</td>\n",
       "      <td>703-993-5429</td>\n",
       "      <td>kandrea@gmu.edu</td>\n",
       "      <td>cs.gmu.edu/~kandrea</td>\n",
       "      <td>kevin andrea screen md grid float breakpoint t...</td>\n",
       "      <td>[kevin andrea screen, grid float breakpoint to...</td>\n",
       "    </tr>\n",
       "    <tr>\n",
       "      <th>4</th>\n",
       "      <td>Giuseppe Ateniese</td>\n",
       "      <td>Eminent Scholar, Professor</td>\n",
       "      <td>Research Hall 339</td>\n",
       "      <td>703-993-6758</td>\n",
       "      <td>ateniese@gmu.edu</td>\n",
       "      <td>None</td>\n",
       "      <td>joint appointment department cyber security en...</td>\n",
       "      <td>[joint appointment department cyber security e...</td>\n",
       "    </tr>\n",
       "    <tr>\n",
       "      <th>...</th>\n",
       "      <td>...</td>\n",
       "      <td>...</td>\n",
       "      <td>...</td>\n",
       "      <td>...</td>\n",
       "      <td>...</td>\n",
       "      <td>...</td>\n",
       "      <td>...</td>\n",
       "      <td>...</td>\n",
       "    </tr>\n",
       "    <tr>\n",
       "      <th>77</th>\n",
       "      <td>Qiang Zeng</td>\n",
       "      <td>Associate Professor</td>\n",
       "      <td>Engineering 4448</td>\n",
       "      <td>None</td>\n",
       "      <td>zeng@gmu.edu</td>\n",
       "      <td>cs.gmu.edu/~zeng/</td>\n",
       "      <td>qiang zeng george mason university home resear...</td>\n",
       "      <td>[qiang, george mason university home research ...</td>\n",
       "    </tr>\n",
       "    <tr>\n",
       "      <th>78</th>\n",
       "      <td>Xiaokuan Zhang</td>\n",
       "      <td>Assistant Professor</td>\n",
       "      <td>Research Hall 357</td>\n",
       "      <td>703-993-6931</td>\n",
       "      <td>xiaokuan@gmu.edu</td>\n",
       "      <td>mainarke.github.io/</td>\n",
       "      <td>window datalayer window datalayer function gta...</td>\n",
       "      <td>[window datalayer window datalayer function gt...</td>\n",
       "    </tr>\n",
       "    <tr>\n",
       "      <th>79</th>\n",
       "      <td>Yutao Zhong</td>\n",
       "      <td>Associate Professor (Teaching)</td>\n",
       "      <td>Engineering 4433</td>\n",
       "      <td>703-993-1773</td>\n",
       "      <td>yzhong@gmu.edu</td>\n",
       "      <td>cs.gmu.edu/~yzhong/</td>\n",
       "      <td>yutao zhong yutao zhong associate professor te...</td>\n",
       "      <td>[yutao zhong yutao zhong associate professor t...</td>\n",
       "    </tr>\n",
       "    <tr>\n",
       "      <th>80</th>\n",
       "      <td>Keren Zhou</td>\n",
       "      <td>Assistant Professor</td>\n",
       "      <td>None</td>\n",
       "      <td>None</td>\n",
       "      <td>kzhou6@gmu.edu</td>\n",
       "      <td>www.jokeren.tech/</td>\n",
       "      <td>context https schema org type website potentia...</td>\n",
       "      <td>[context https schema org type website potenti...</td>\n",
       "    </tr>\n",
       "    <tr>\n",
       "      <th>81</th>\n",
       "      <td>Ziwei Zhu</td>\n",
       "      <td>Assistant Professor</td>\n",
       "      <td>Engineering 4609</td>\n",
       "      <td>703-993-6933</td>\n",
       "      <td>zzhu20@gmu.edu</td>\n",
       "      <td>zziwei.github.io/</td>\n",
       "      <td>ziwei zhu george mason university toggle navig...</td>\n",
       "      <td>[ziwei zhu george mason university toggle navi...</td>\n",
       "    </tr>\n",
       "  </tbody>\n",
       "</table>\n",
       "<p>82 rows × 8 columns</p>\n",
       "</div>"
      ],
      "text/plain": [
       "                       Name  \\\n",
       "0               Jan Allbeck   \n",
       "1               Paul Ammann   \n",
       "2   Antonios Anastasopoulos   \n",
       "3              Kevin Andrea   \n",
       "4         Giuseppe Ateniese   \n",
       "..                      ...   \n",
       "77               Qiang Zeng   \n",
       "78           Xiaokuan Zhang   \n",
       "79              Yutao Zhong   \n",
       "80               Keren Zhou   \n",
       "81                Ziwei Zhu   \n",
       "\n",
       "                                            Job Title               Office  \\\n",
       "0   Associate Professor, Associate Dean Honors Col...       Buchanan D205D   \n",
       "1                                 Associate Professor     Engineering 4428   \n",
       "2                                 Assistant Professor     Engineering 4412   \n",
       "3                      Assistant Professor (Teaching)  Buchanan Hall D217C   \n",
       "4                          Eminent Scholar, Professor    Research Hall 339   \n",
       "..                                                ...                  ...   \n",
       "77                                Associate Professor     Engineering 4448   \n",
       "78                                Assistant Professor    Research Hall 357   \n",
       "79                     Associate Professor (Teaching)     Engineering 4433   \n",
       "80                                Assistant Professor                 None   \n",
       "81                                Assistant Professor     Engineering 4609   \n",
       "\n",
       "           Phone             Email                    Web  \\\n",
       "0   703-993-1101  jallbeck@gmu.edu  cs.gmu.edu/~jallbeck/   \n",
       "1   703-993-1660   pammann@gmu.edu   cs.gmu.edu/~pammann/   \n",
       "2   703-993-6821   antonis@gmu.edu   cs.gmu.edu/~antonis/   \n",
       "3   703-993-5429   kandrea@gmu.edu    cs.gmu.edu/~kandrea   \n",
       "4   703-993-6758  ateniese@gmu.edu                   None   \n",
       "..           ...               ...                    ...   \n",
       "77          None      zeng@gmu.edu      cs.gmu.edu/~zeng/   \n",
       "78  703-993-6931  xiaokuan@gmu.edu    mainarke.github.io/   \n",
       "79  703-993-1773    yzhong@gmu.edu    cs.gmu.edu/~yzhong/   \n",
       "80          None    kzhou6@gmu.edu      www.jokeren.tech/   \n",
       "81  703-993-6933    zzhu20@gmu.edu      zziwei.github.io/   \n",
       "\n",
       "                                            Biography  \\\n",
       "0   jan allbeck ph jan allbeck ph associate dean h...   \n",
       "1   paul ammann paul ammann associate professor so...   \n",
       "2   context https schema org type website url http...   \n",
       "3   kevin andrea screen md grid float breakpoint t...   \n",
       "4   joint appointment department cyber security en...   \n",
       "..                                                ...   \n",
       "77  qiang zeng george mason university home resear...   \n",
       "78  window datalayer window datalayer function gta...   \n",
       "79  yutao zhong yutao zhong associate professor te...   \n",
       "80  context https schema org type website potentia...   \n",
       "81  ziwei zhu george mason university toggle navig...   \n",
       "\n",
       "                           AWS_Comprehended_Keyvalues  \n",
       "0   [jan allbeck ph jan allbeck ph associate dean,...  \n",
       "1   [paul ammann paul ammann associate professor s...  \n",
       "2   [context https schema org type website url htt...  \n",
       "3   [kevin andrea screen, grid float breakpoint to...  \n",
       "4   [joint appointment department cyber security e...  \n",
       "..                                                ...  \n",
       "77  [qiang, george mason university home research ...  \n",
       "78  [window datalayer window datalayer function gt...  \n",
       "79  [yutao zhong yutao zhong associate professor t...  \n",
       "80  [context https schema org type website potenti...  \n",
       "81  [ziwei zhu george mason university toggle navi...  \n",
       "\n",
       "[82 rows x 8 columns]"
      ]
     },
     "execution_count": 16,
     "metadata": {},
     "output_type": "execute_result"
    }
   ],
   "source": [
    "result_df"
   ]
  },
  {
   "cell_type": "code",
   "execution_count": 17,
   "id": "772e7175",
   "metadata": {},
   "outputs": [],
   "source": [
    "df = result_df"
   ]
  },
  {
   "cell_type": "code",
   "execution_count": 18,
   "id": "7d7cf3ea",
   "metadata": {},
   "outputs": [
    {
     "data": {
      "text/html": [
       "<div>\n",
       "<style scoped>\n",
       "    .dataframe tbody tr th:only-of-type {\n",
       "        vertical-align: middle;\n",
       "    }\n",
       "\n",
       "    .dataframe tbody tr th {\n",
       "        vertical-align: top;\n",
       "    }\n",
       "\n",
       "    .dataframe thead th {\n",
       "        text-align: right;\n",
       "    }\n",
       "</style>\n",
       "<table border=\"1\" class=\"dataframe\">\n",
       "  <thead>\n",
       "    <tr style=\"text-align: right;\">\n",
       "      <th></th>\n",
       "      <th>Name</th>\n",
       "      <th>Job Title</th>\n",
       "      <th>Office</th>\n",
       "      <th>Phone</th>\n",
       "      <th>Email</th>\n",
       "      <th>Web</th>\n",
       "      <th>Biography</th>\n",
       "      <th>AWS_Comprehended_Keyvalues</th>\n",
       "    </tr>\n",
       "  </thead>\n",
       "  <tbody>\n",
       "    <tr>\n",
       "      <th>0</th>\n",
       "      <td>Jan Allbeck</td>\n",
       "      <td>Associate Professor, Associate Dean Honors Col...</td>\n",
       "      <td>Buchanan D205D</td>\n",
       "      <td>703-993-1101</td>\n",
       "      <td>jallbeck@gmu.edu</td>\n",
       "      <td>cs.gmu.edu/~jallbeck/</td>\n",
       "      <td>jan allbeck ph jan allbeck ph associate dean h...</td>\n",
       "      <td>[jan allbeck ph jan allbeck ph associate dean,...</td>\n",
       "    </tr>\n",
       "    <tr>\n",
       "      <th>1</th>\n",
       "      <td>Paul Ammann</td>\n",
       "      <td>Associate Professor</td>\n",
       "      <td>Engineering 4428</td>\n",
       "      <td>703-993-1660</td>\n",
       "      <td>pammann@gmu.edu</td>\n",
       "      <td>cs.gmu.edu/~pammann/</td>\n",
       "      <td>paul ammann paul ammann associate professor so...</td>\n",
       "      <td>[paul ammann paul ammann associate professor s...</td>\n",
       "    </tr>\n",
       "    <tr>\n",
       "      <th>2</th>\n",
       "      <td>Antonios Anastasopoulos</td>\n",
       "      <td>Assistant Professor</td>\n",
       "      <td>Engineering 4412</td>\n",
       "      <td>703-993-6821</td>\n",
       "      <td>antonis@gmu.edu</td>\n",
       "      <td>cs.gmu.edu/~antonis/</td>\n",
       "      <td>context https schema org type website url http...</td>\n",
       "      <td>[context https schema org type website url htt...</td>\n",
       "    </tr>\n",
       "    <tr>\n",
       "      <th>3</th>\n",
       "      <td>Kevin Andrea</td>\n",
       "      <td>Assistant Professor (Teaching)</td>\n",
       "      <td>Buchanan Hall D217C</td>\n",
       "      <td>703-993-5429</td>\n",
       "      <td>kandrea@gmu.edu</td>\n",
       "      <td>cs.gmu.edu/~kandrea</td>\n",
       "      <td>kevin andrea screen md grid float breakpoint t...</td>\n",
       "      <td>[kevin andrea screen, grid float breakpoint to...</td>\n",
       "    </tr>\n",
       "    <tr>\n",
       "      <th>4</th>\n",
       "      <td>Giuseppe Ateniese</td>\n",
       "      <td>Eminent Scholar, Professor</td>\n",
       "      <td>Research Hall 339</td>\n",
       "      <td>703-993-6758</td>\n",
       "      <td>ateniese@gmu.edu</td>\n",
       "      <td>None</td>\n",
       "      <td>joint appointment department cyber security en...</td>\n",
       "      <td>[joint appointment department cyber security e...</td>\n",
       "    </tr>\n",
       "    <tr>\n",
       "      <th>...</th>\n",
       "      <td>...</td>\n",
       "      <td>...</td>\n",
       "      <td>...</td>\n",
       "      <td>...</td>\n",
       "      <td>...</td>\n",
       "      <td>...</td>\n",
       "      <td>...</td>\n",
       "      <td>...</td>\n",
       "    </tr>\n",
       "    <tr>\n",
       "      <th>77</th>\n",
       "      <td>Qiang Zeng</td>\n",
       "      <td>Associate Professor</td>\n",
       "      <td>Engineering 4448</td>\n",
       "      <td>None</td>\n",
       "      <td>zeng@gmu.edu</td>\n",
       "      <td>cs.gmu.edu/~zeng/</td>\n",
       "      <td>qiang zeng george mason university home resear...</td>\n",
       "      <td>[qiang, george mason university home research ...</td>\n",
       "    </tr>\n",
       "    <tr>\n",
       "      <th>78</th>\n",
       "      <td>Xiaokuan Zhang</td>\n",
       "      <td>Assistant Professor</td>\n",
       "      <td>Research Hall 357</td>\n",
       "      <td>703-993-6931</td>\n",
       "      <td>xiaokuan@gmu.edu</td>\n",
       "      <td>mainarke.github.io/</td>\n",
       "      <td>window datalayer window datalayer function gta...</td>\n",
       "      <td>[window datalayer window datalayer function gt...</td>\n",
       "    </tr>\n",
       "    <tr>\n",
       "      <th>79</th>\n",
       "      <td>Yutao Zhong</td>\n",
       "      <td>Associate Professor (Teaching)</td>\n",
       "      <td>Engineering 4433</td>\n",
       "      <td>703-993-1773</td>\n",
       "      <td>yzhong@gmu.edu</td>\n",
       "      <td>cs.gmu.edu/~yzhong/</td>\n",
       "      <td>yutao zhong yutao zhong associate professor te...</td>\n",
       "      <td>[yutao zhong yutao zhong associate professor t...</td>\n",
       "    </tr>\n",
       "    <tr>\n",
       "      <th>80</th>\n",
       "      <td>Keren Zhou</td>\n",
       "      <td>Assistant Professor</td>\n",
       "      <td>None</td>\n",
       "      <td>None</td>\n",
       "      <td>kzhou6@gmu.edu</td>\n",
       "      <td>www.jokeren.tech/</td>\n",
       "      <td>context https schema org type website potentia...</td>\n",
       "      <td>[context https schema org type website potenti...</td>\n",
       "    </tr>\n",
       "    <tr>\n",
       "      <th>81</th>\n",
       "      <td>Ziwei Zhu</td>\n",
       "      <td>Assistant Professor</td>\n",
       "      <td>Engineering 4609</td>\n",
       "      <td>703-993-6933</td>\n",
       "      <td>zzhu20@gmu.edu</td>\n",
       "      <td>zziwei.github.io/</td>\n",
       "      <td>ziwei zhu george mason university toggle navig...</td>\n",
       "      <td>[ziwei zhu george mason university toggle navi...</td>\n",
       "    </tr>\n",
       "  </tbody>\n",
       "</table>\n",
       "<p>82 rows × 8 columns</p>\n",
       "</div>"
      ],
      "text/plain": [
       "                       Name  \\\n",
       "0               Jan Allbeck   \n",
       "1               Paul Ammann   \n",
       "2   Antonios Anastasopoulos   \n",
       "3              Kevin Andrea   \n",
       "4         Giuseppe Ateniese   \n",
       "..                      ...   \n",
       "77               Qiang Zeng   \n",
       "78           Xiaokuan Zhang   \n",
       "79              Yutao Zhong   \n",
       "80               Keren Zhou   \n",
       "81                Ziwei Zhu   \n",
       "\n",
       "                                            Job Title               Office  \\\n",
       "0   Associate Professor, Associate Dean Honors Col...       Buchanan D205D   \n",
       "1                                 Associate Professor     Engineering 4428   \n",
       "2                                 Assistant Professor     Engineering 4412   \n",
       "3                      Assistant Professor (Teaching)  Buchanan Hall D217C   \n",
       "4                          Eminent Scholar, Professor    Research Hall 339   \n",
       "..                                                ...                  ...   \n",
       "77                                Associate Professor     Engineering 4448   \n",
       "78                                Assistant Professor    Research Hall 357   \n",
       "79                     Associate Professor (Teaching)     Engineering 4433   \n",
       "80                                Assistant Professor                 None   \n",
       "81                                Assistant Professor     Engineering 4609   \n",
       "\n",
       "           Phone             Email                    Web  \\\n",
       "0   703-993-1101  jallbeck@gmu.edu  cs.gmu.edu/~jallbeck/   \n",
       "1   703-993-1660   pammann@gmu.edu   cs.gmu.edu/~pammann/   \n",
       "2   703-993-6821   antonis@gmu.edu   cs.gmu.edu/~antonis/   \n",
       "3   703-993-5429   kandrea@gmu.edu    cs.gmu.edu/~kandrea   \n",
       "4   703-993-6758  ateniese@gmu.edu                   None   \n",
       "..           ...               ...                    ...   \n",
       "77          None      zeng@gmu.edu      cs.gmu.edu/~zeng/   \n",
       "78  703-993-6931  xiaokuan@gmu.edu    mainarke.github.io/   \n",
       "79  703-993-1773    yzhong@gmu.edu    cs.gmu.edu/~yzhong/   \n",
       "80          None    kzhou6@gmu.edu      www.jokeren.tech/   \n",
       "81  703-993-6933    zzhu20@gmu.edu      zziwei.github.io/   \n",
       "\n",
       "                                            Biography  \\\n",
       "0   jan allbeck ph jan allbeck ph associate dean h...   \n",
       "1   paul ammann paul ammann associate professor so...   \n",
       "2   context https schema org type website url http...   \n",
       "3   kevin andrea screen md grid float breakpoint t...   \n",
       "4   joint appointment department cyber security en...   \n",
       "..                                                ...   \n",
       "77  qiang zeng george mason university home resear...   \n",
       "78  window datalayer window datalayer function gta...   \n",
       "79  yutao zhong yutao zhong associate professor te...   \n",
       "80  context https schema org type website potentia...   \n",
       "81  ziwei zhu george mason university toggle navig...   \n",
       "\n",
       "                           AWS_Comprehended_Keyvalues  \n",
       "0   [jan allbeck ph jan allbeck ph associate dean,...  \n",
       "1   [paul ammann paul ammann associate professor s...  \n",
       "2   [context https schema org type website url htt...  \n",
       "3   [kevin andrea screen, grid float breakpoint to...  \n",
       "4   [joint appointment department cyber security e...  \n",
       "..                                                ...  \n",
       "77  [qiang, george mason university home research ...  \n",
       "78  [window datalayer window datalayer function gt...  \n",
       "79  [yutao zhong yutao zhong associate professor t...  \n",
       "80  [context https schema org type website potenti...  \n",
       "81  [ziwei zhu george mason university toggle navi...  \n",
       "\n",
       "[82 rows x 8 columns]"
      ]
     },
     "execution_count": 18,
     "metadata": {},
     "output_type": "execute_result"
    }
   ],
   "source": [
    "df"
   ]
  },
  {
   "cell_type": "code",
   "execution_count": 39,
   "id": "ef4c4e5a",
   "metadata": {},
   "outputs": [
    {
     "name": "stdout",
     "output_type": "stream",
     "text": [
      "Name: Erion Plaku\n",
      "Email: plaku@gmu.edu\n",
      "Office: Engineering 4423\n",
      "Phone: 703-993-6648\n",
      "Web: cs.gmu.edu/~plaku/\n",
      "Similarity Score: 0.23210502264858013\n",
      "-----\n",
      "Name: Xuesu Xiao\n",
      "Email: xiao@gmu.edu\n",
      "Office: Engineering 4436\n",
      "Phone: 703-993-6938\n",
      "Web: cs.gmu.edu/~xiao/\n",
      "Similarity Score: 0.1668816091808111\n",
      "-----\n",
      "Name: Gregory Stein\n",
      "Email: gjstein@gmu.edu\n",
      "Office: Engineering 3620\n",
      "Phone: 703-993-6822\n",
      "Web: cs.gmu.edu/~gjstein/\n",
      "Similarity Score: 0.11849482715510058\n",
      "-----\n",
      "Name: Jana Košecká\n",
      "Email: kosecka@cs.gmu.edu\n",
      "Office: Engineering 4444\n",
      "Phone: 703-993-1876\n",
      "Web: cs.gmu.edu/~kosecka/\n",
      "Similarity Score: 0.11459789314979718\n",
      "-----\n",
      "Name: Gheorghe Tecuci\n",
      "Email: tecuci@gmu.edu\n",
      "Office: Engineering 4613\n",
      "Phone: 703-993-1722\n",
      "Web: lac.gmu.edu/members/...\n",
      "Similarity Score: 0.08392573673849307\n",
      "-----\n"
     ]
    },
    {
     "name": "stderr",
     "output_type": "stream",
     "text": [
      "/home/ec2-user/anaconda3/envs/python3/lib/python3.10/site-packages/sklearn/feature_extraction/text.py:1676: RuntimeWarning: divide by zero encountered in true_divide\n",
      "  idf = np.log(n_samples / df) + 1\n"
     ]
    }
   ],
   "source": [
    "import pandas as pd\n",
    "from sklearn.feature_extraction.text import TfidfVectorizer\n",
    "from sklearn.metrics.pairwise import cosine_similarity\n",
    "import nltk\n",
    "from nltk.stem import PorterStemmer\n",
    "\n",
    "# Stemming function\n",
    "def stem_text(text):\n",
    "    stemmer = PorterStemmer()\n",
    "    return ' '.join([stemmer.stem(word) for word in text.split()])\n",
    "\n",
    "\n",
    "# df['AWS_Comprehended_Keyvalues'] = df['AWS_Comprehended_Keyvalues'].apply(join_phrases)\n",
    "df[\"AWS_Comprehended_Keyvalues\"] = df[\"AWS_Comprehended_Keyvalues\"].apply(lambda x: ' '.join(map(str, x)) if isinstance(x, list) else str(x))\n",
    "\n",
    "# Apply stemming to the 'AWS_Comprehended_Keyvalues' column\n",
    "df['AWS_Comprehended_Keyvalues'] = df['AWS_Comprehended_Keyvalues'].apply(stem_text)\n",
    "\n",
    "# Student's Interest keyphrase\n",
    "keyphrase = stem_text(\"robotics machine learning\") \n",
    "\n",
    "# Create and fit the vectorizer on the combined data\n",
    "tfidf_vectorizer = TfidfVectorizer(ngram_range=(1, 2))\n",
    "tfidf_matrix = tfidf_vectorizer.fit_transform(df['AWS_Comprehended_Keyvalues'].tolist() + [keyphrase])\n",
    "\n",
    "# Get the TF-IDF vector for the keyphrase\n",
    "keyphrase_vector = tfidf_matrix[-1]\n",
    "\n",
    "# Compute similarities between the keyphrase and all entries\n",
    "similarities = cosine_similarity(keyphrase_vector, tfidf_matrix[:-1]).flatten()\n",
    "\n",
    "# Get the indices of the top 5 most related entries\n",
    "indices_top_5 = similarities.argsort()[-5:][::-1]\n",
    "\n",
    "# Display the top 5 most related entries\n",
    "for i in indices_top_5:\n",
    "    print(\"Name:\", df.iloc[i]['Name'])\n",
    "    print(\"Email:\", df.iloc[i]['Email'])\n",
    "    print(\"Office:\", df.iloc[i]['Office'])\n",
    "    print(\"Phone:\", df.iloc[i]['Phone'])\n",
    "    print(\"Web:\", df.iloc[i]['Web'])\n",
    "    print(\"Similarity Score:\", similarities[i])\n",
    "    print(\"-----\")\n"
   ]
  },
  {
   "cell_type": "code",
   "execution_count": 37,
   "id": "38f8fbee",
   "metadata": {},
   "outputs": [
    {
     "data": {
      "text/plain": [
       "'daniel barbar contact inform student project patent class professor cs depart georg mason univ daniel barbar email dbarbara gmu edu cs home page ph.d. princeton univ 1985 data mine machin learn'"
      ]
     },
     "execution_count": 37,
     "metadata": {},
     "output_type": "execute_result"
    }
   ],
   "source": [
    "result_df[result_df[\"Name\"] == \"Daniel Barbará\"][\"AWS_Comprehended_Keyvalues\"][8]"
   ]
  },
  {
   "cell_type": "code",
   "execution_count": 28,
   "id": "aee714a5",
   "metadata": {},
   "outputs": [
    {
     "data": {
      "text/plain": [
       "'machin learn robot softwar engin'"
      ]
     },
     "execution_count": 28,
     "metadata": {},
     "output_type": "execute_result"
    }
   ],
   "source": [
    "stem_text(\"machine learning robotics software engineering\")"
   ]
  }
 ],
 "metadata": {
  "kernelspec": {
   "display_name": "conda_python3",
   "language": "python",
   "name": "conda_python3"
  },
  "language_info": {
   "codemirror_mode": {
    "name": "ipython",
    "version": 3
   },
   "file_extension": ".py",
   "mimetype": "text/x-python",
   "name": "python",
   "nbconvert_exporter": "python",
   "pygments_lexer": "ipython3",
   "version": "3.10.12"
  }
 },
 "nbformat": 4,
 "nbformat_minor": 5
}
